{
 "cells": [
  {
   "cell_type": "code",
   "execution_count": 1,
   "metadata": {},
   "outputs": [],
   "source": [
    "import tensorflow as tf\n",
    "from tensorflow import keras"
   ]
  },
  {
   "cell_type": "code",
   "execution_count": 2,
   "metadata": {},
   "outputs": [],
   "source": [
    "from sklearn.datasets import fetch_california_housing\n",
    "from sklearn.model_selection import train_test_split\n",
    "from sklearn.preprocessing import StandardScaler"
   ]
  },
  {
   "cell_type": "markdown",
   "metadata": {},
   "source": [
    "### Load and prepare training data\n",
    "\n",
    "Get Calinfornia Housing data and split into train, test and validation sets."
   ]
  },
  {
   "cell_type": "code",
   "execution_count": 3,
   "metadata": {},
   "outputs": [],
   "source": [
    "housing = fetch_california_housing()\n",
    "\n",
    "# test_size is default to 0.25\n",
    "X_train_full, X_test, y_train_full, y_test = train_test_split(housing.data, housing.target)\n",
    "X_train, X_valid, y_train, y_valid = train_test_split(X_train_full, y_train_full)"
   ]
  },
  {
   "cell_type": "code",
   "execution_count": 4,
   "metadata": {},
   "outputs": [
    {
     "data": {
      "text/plain": [
       "((15480, 8), (11610, 8), (3870, 8), (5160, 8))"
      ]
     },
     "execution_count": 4,
     "metadata": {},
     "output_type": "execute_result"
    }
   ],
   "source": [
    "X_train_full.shape, X_train.shape, X_valid.shape, X_test.shape"
   ]
  },
  {
   "cell_type": "markdown",
   "metadata": {},
   "source": [
    "## Apply scaling"
   ]
  },
  {
   "cell_type": "code",
   "execution_count": 5,
   "metadata": {},
   "outputs": [],
   "source": [
    "X_train = StandardScaler().fit_transform(X_train)\n",
    "X_valid = StandardScaler().fit_transform(X_valid)\n",
    "X_test = StandardScaler().fit_transform(X_test)"
   ]
  },
  {
   "cell_type": "code",
   "execution_count": 6,
   "metadata": {},
   "outputs": [
    {
     "name": "stdout",
     "output_type": "stream",
     "text": [
      "['MedInc', 'HouseAge', 'AveRooms', 'AveBedrms', 'Population', 'AveOccup', 'Latitude', 'Longitude'] ['MedHouseVal']\n"
     ]
    }
   ],
   "source": [
    "print(housing['feature_names'], housing['target_names'])"
   ]
  },
  {
   "cell_type": "markdown",
   "metadata": {},
   "source": [
    "## Basic Regression Model with Keras\n",
    "\n",
    "- Try with 1 hidden layer with 30 neurons\n",
    "- The loss function will be mse\n",
    "- Optimizer sgd"
   ]
  },
  {
   "cell_type": "code",
   "execution_count": 25,
   "metadata": {},
   "outputs": [],
   "source": [
    "model = tf.keras.Sequential([\n",
    "        tf.keras.layers.Dense(30, input_shape = X_train.shape[1:], activation = 'relu'), # just using shape from training set\n",
    "        tf.keras.layers.Dense(1)\n",
    "])\n"
   ]
  },
  {
   "cell_type": "code",
   "execution_count": 30,
   "metadata": {},
   "outputs": [
    {
     "name": "stdout",
     "output_type": "stream",
     "text": [
      "162/162 [==============================] - 0s 494us/step - loss: 0.3531\n",
      "[1.625 2.408 4.869]\n",
      "[[1.5493028 2.465497  2.879759 ]]\n"
     ]
    }
   ],
   "source": [
    "model.compile(loss = 'mse', optimizer = 'sgd')\n",
    "\n",
    "history = model.fit(X_train, y_train, validation_data=(X_valid, y_valid), epochs = 30, verbose= False)\n",
    "\n",
    "mse_test = model.evaluate(X_test, y_test)\n",
    "X_new = X_test[:3] \n",
    "y_pred = model.predict(X_new)\n",
    "\n",
    "print(y_test[:3])\n",
    "print(y_pred.reshape(1, -1))"
   ]
  },
  {
   "cell_type": "code",
   "execution_count": 10,
   "metadata": {},
   "outputs": [
    {
     "data": {
      "image/png": "[encoded data removed]",
      "text/plain": [
       "<Figure size 576x360 with 1 Axes>"
      ]
     },
     "metadata": {
      "needs_background": "light"
     },
     "output_type": "display_data"
    }
   ],
   "source": [
    "import pandas as pd\n",
    "import matplotlib.pyplot as plt\n",
    "pd.DataFrame(history.history).plot(figsize=(8,5))\n",
    "plt.grid(True)\n",
    "plt.gca().set_ylim(0,1)\n",
    "plt.show()"
   ]
  },
  {
   "cell_type": "markdown",
   "metadata": {},
   "source": [
    "## Building Non-Sequential Model\n",
    "\n",
    "In this case, use the **Wide & Deep Model**:\n",
    "\n",
    "- 2 Hidden Layers\n",
    "- Input Layer is also combined with the output of the last hidden layer (connecting all inputer layer to output layer) \n",
    "\n",
    "The advantage of **Wide & Deep Model** makes it possible for model to learn both simple rules and deep patterns. "
   ]
  },
  {
   "cell_type": "code",
   "execution_count": 7,
   "metadata": {},
   "outputs": [],
   "source": [
    "tf.keras.backend.clear_session()\n",
    "\n",
    "input_ = keras.layers.Input(shape = X_train.shape[1:])\n",
    "hidden1_ = keras.layers.Dense(30, activation = \"relu\")(input_)\n",
    "hidden2_ = keras.layers.Dense(30, activation = \"relu\")(hidden1_)\n",
    "concat = keras.layers.Concatenate()([input_, hidden2_])\n",
    "output = keras.layers.Dense(1)(concat)\n",
    "\n",
    "model = keras.Model(inputs=[input_], outputs=[output])"
   ]
  },
  {
   "cell_type": "code",
   "execution_count": 8,
   "metadata": {},
   "outputs": [
    {
     "name": "stdout",
     "output_type": "stream",
     "text": [
      "Model: \"functional_1\"\n",
      "__________________________________________________________________________________________________\n",
      "Layer (type)                    Output Shape         Param #     Connected to                     \n",
      "==================================================================================================\n",
      "input_1 (InputLayer)            [(None, 8)]          0                                            \n",
      "__________________________________________________________________________________________________\n",
      "dense (Dense)                   (None, 30)           270         input_1[0][0]                    \n",
      "__________________________________________________________________________________________________\n",
      "dense_1 (Dense)                 (None, 30)           930         dense[0][0]                      \n",
      "__________________________________________________________________________________________________\n",
      "concatenate (Concatenate)       (None, 38)           0           input_1[0][0]                    \n",
      "                                                                 dense_1[0][0]                    \n",
      "__________________________________________________________________________________________________\n",
      "dense_2 (Dense)                 (None, 1)            39          concatenate[0][0]                \n",
      "==================================================================================================\n",
      "Total params: 1,239\n",
      "Trainable params: 1,239\n",
      "Non-trainable params: 0\n",
      "__________________________________________________________________________________________________\n"
     ]
    }
   ],
   "source": [
    "model.summary()"
   ]
  },
  {
   "cell_type": "code",
   "execution_count": 9,
   "metadata": {},
   "outputs": [
    {
     "name": "stdout",
     "output_type": "stream",
     "text": [
      "Epoch 1/30\n",
      "363/363 [==============================] - 0s 1ms/step - loss: 1.1618 - val_loss: 4.6243\n",
      "Epoch 2/30\n",
      "363/363 [==============================] - 0s 824us/step - loss: 1.3024 - val_loss: 0.4821\n",
      "Epoch 3/30\n",
      "363/363 [==============================] - 0s 815us/step - loss: 0.5015 - val_loss: 0.4410\n",
      "Epoch 4/30\n",
      "363/363 [==============================] - 0s 730us/step - loss: 0.4664 - val_loss: 0.4197\n",
      "Epoch 5/30\n",
      "363/363 [==============================] - 0s 730us/step - loss: 0.4481 - val_loss: 0.4177\n",
      "Epoch 6/30\n",
      "363/363 [==============================] - 0s 851us/step - loss: 0.4312 - val_loss: 0.4350\n",
      "Epoch 7/30\n",
      "363/363 [==============================] - 0s 678us/step - loss: 0.4209 - val_loss: 0.4698\n",
      "Epoch 8/30\n",
      "363/363 [==============================] - 0s 702us/step - loss: 0.4330 - val_loss: 0.4856\n",
      "Epoch 9/30\n",
      "363/363 [==============================] - 0s 815us/step - loss: 0.4087 - val_loss: 0.8831\n",
      "Epoch 10/30\n",
      "363/363 [==============================] - 0s 815us/step - loss: 0.4328 - val_loss: 0.7011\n",
      "Epoch 11/30\n",
      "363/363 [==============================] - 0s 658us/step - loss: 0.3910 - val_loss: 0.9238\n",
      "Epoch 12/30\n",
      "363/363 [==============================] - 0s 760us/step - loss: 0.3872 - val_loss: 1.4540\n",
      "Epoch 13/30\n",
      "363/363 [==============================] - 0s 744us/step - loss: 0.3957 - val_loss: 1.7623\n",
      "Epoch 14/30\n",
      "363/363 [==============================] - 0s 749us/step - loss: 0.4081 - val_loss: 1.5534\n",
      "Epoch 15/30\n",
      "363/363 [==============================] - 0s 755us/step - loss: 0.3713 - val_loss: 1.8965\n",
      "Epoch 16/30\n",
      "363/363 [==============================] - 0s 774us/step - loss: 0.3656 - val_loss: 2.0166\n",
      "Epoch 17/30\n",
      "363/363 [==============================] - 0s 813us/step - loss: 0.3687 - val_loss: 2.3433\n",
      "Epoch 18/30\n",
      "363/363 [==============================] - 0s 675us/step - loss: 0.3570 - val_loss: 3.0338\n",
      "Epoch 19/30\n",
      "363/363 [==============================] - 0s 716us/step - loss: 0.4470 - val_loss: 3.3288\n",
      "Epoch 20/30\n",
      "363/363 [==============================] - 0s 799us/step - loss: 0.3508 - val_loss: 3.2612\n",
      "Epoch 21/30\n",
      "363/363 [==============================] - 0s 782us/step - loss: 0.3449 - val_loss: 3.7992\n",
      "Epoch 22/30\n",
      "363/363 [==============================] - 0s 678us/step - loss: 0.3531 - val_loss: 4.5703\n",
      "Epoch 23/30\n",
      "363/363 [==============================] - 0s 656us/step - loss: 0.3407 - val_loss: 5.0996\n",
      "Epoch 24/30\n",
      "363/363 [==============================] - 0s 791us/step - loss: 0.3490 - val_loss: 6.1041\n",
      "Epoch 25/30\n",
      "363/363 [==============================] - 0s 744us/step - loss: 0.3583 - val_loss: 5.2369\n",
      "Epoch 26/30\n",
      "363/363 [==============================] - 0s 727us/step - loss: 0.3447 - val_loss: 5.6332\n",
      "Epoch 27/30\n",
      "363/363 [==============================] - 0s 774us/step - loss: 0.3524 - val_loss: 6.5447\n",
      "Epoch 28/30\n",
      "363/363 [==============================] - 0s 810us/step - loss: 0.3281 - val_loss: 7.0162\n",
      "Epoch 29/30\n",
      "363/363 [==============================] - 0s 705us/step - loss: 0.3348 - val_loss: 8.0115\n",
      "Epoch 30/30\n",
      "363/363 [==============================] - 0s 785us/step - loss: 0.3409 - val_loss: 7.5401\n",
      "162/162 [==============================] - 0s 519us/step - loss: 0.8087\n",
      "[4.224   3.5     5.00001]\n",
      "[[4.886499 4.581    5.615818]]\n"
     ]
    }
   ],
   "source": [
    "model.compile(loss = 'mse', optimizer = 'sgd')\n",
    "\n",
    "history = model.fit(X_train, y_train, validation_data=(X_valid, y_valid), epochs = 30)\n",
    "\n",
    "mse_test = model.evaluate(X_test, y_test)\n",
    "X_new = X_test[:3] \n",
    "y_pred = model.predict(X_new)\n",
    "\n",
    "print(y_test[:3])\n",
    "print(y_pred.reshape(1, -1))"
   ]
  },
  {
   "cell_type": "code",
   "execution_count": null,
   "metadata": {},
   "outputs": [],
   "source": []
  }
 ],
 "metadata": {
  "kernelspec": {
   "display_name": "ml_with_tf",
   "language": "python",
   "name": "ml_with_tf"
  },
  "language_info": {
   "codemirror_mode": {
    "name": "ipython",
    "version": 3
   },
   "file_extension": ".py",
   "mimetype": "text/x-python",
   "name": "python",
   "nbconvert_exporter": "python",
   "pygments_lexer": "ipython3",
   "version": "3.8.6"
  }
 },
 "nbformat": 4,
 "nbformat_minor": 4
}
