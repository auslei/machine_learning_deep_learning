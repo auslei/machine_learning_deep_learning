{
 "cells": [
  {
   "cell_type": "code",
   "execution_count": 11,
   "metadata": {},
   "outputs": [
    {
     "name": "stdout",
     "output_type": "stream",
     "text": [
      "(45000, 28, 28) (45000,)\n"
     ]
    }
   ],
   "source": [
    "from tensorflow import keras\n",
    "from sklearn.model_selection import train_test_split\n",
    "\n",
    "fashion_mnist = keras.datasets.fashion_mnist\n",
    "(X_train_full, y_train_full), (X_test, y_test) = fashion_mnist.load_data()\n",
    "\n",
    "X_train, X_valid, y_train,  y_valid = train_test_split(X_train_full, y_train_full, test_size = 0.25)\n",
    "\n",
    "print(X_train.shape, y_train.shape)"
   ]
  },
  {
   "cell_type": "code",
   "execution_count": 12,
   "metadata": {},
   "outputs": [
    {
     "data": {
      "text/plain": [
       "<matplotlib.image.AxesImage at 0x2419d755550>"
      ]
     },
     "execution_count": 12,
     "metadata": {},
     "output_type": "execute_result"
    },
    {
     "data": {
      "image/png": "[encoded data removed]",
      "text/plain": [
       "<Figure size 432x288 with 4 Axes>"
      ]
     },
     "metadata": {
      "needs_background": "light"
     },
     "output_type": "display_data"
    }
   ],
   "source": [
    "from matplotlib import pyplot as plt\n",
    "\n",
    "fig, ax = plt.subplots(2, 2)\n",
    "ax[0][0].imshow(X_train[0])\n",
    "ax[0][1].imshow(X_train[1])\n",
    "ax[1][0].imshow(X_train[2])\n",
    "ax[1][1].imshow(X_train[3])"
   ]
  },
  {
   "cell_type": "markdown",
   "metadata": {},
   "source": [
    "## Learning rate schedules\n",
    "\n",
    "Learning rate scehduling is a technical to gradualy descrease/increase learning rate during training. It normally can be done with a decay parameter in optimiser or can be defined as a callback function. The typicall scheduling are:\n",
    "\n",
    "- Power Scheduling: lr(t) = lr(0) / (1 + t/s)^c (typically c is 0, and s is step)\n",
    "- Exponential Scheduling: lr(t) = lr(0)*0.1^(t/s) (gradual drop by a factor of 10 every s steps)\n",
    "- Piecewise constant scheduleing: use a constant learning rate for a number of epochs then reduce to a smaller one, and so on\n",
    "- Performance schedulling: Measure the validation error every N steps and reduce rate by a factor of lambda when error stops dropping\n",
    "- 1cycle scheduling, basically start off with a small lr0, gradually (linearly) increase it to a larger lr1 and reduce again half way through the training. \n",
    "\n",
    "According to a 2013 paper by Andrew Senior et al, the schedules performed the best are performance schduleing and exponential schedule. With a slight favour in exponential schedule.\n",
    "\n",
    "When saving a model, the customised schedule function will start from epoch 0. To resove this issue, we can us the initial_epoch value as part of fit()."
   ]
  },
  {
   "cell_type": "code",
   "execution_count": 17,
   "metadata": {},
   "outputs": [],
   "source": [
    "from tensorflow.keras import activations, layers, initializers, callbacks, models\n",
    "from tensorflow.keras.layers import Flatten, Dense, LeakyReLU, BatchNormalization, ReLU, ELU\n",
    "from tensorflow.keras.models import Sequential\n",
    "from tensorflow.keras.callbacks import EarlyStopping, ModelCheckpoint, TensorBoard, LearningRateScheduler\n",
    "from tensorflow.keras.optimizers import SGD, Adagrad, RMSprop, Adam, Nadam, Adamax\n",
    "from tensorflow import keras\n",
    "\n",
    "es_cb = EarlyStopping(patience=3, monitor='val_loss') # early stopping at min loss\n",
    "md_cb = ModelCheckpoint(\"f_mnist_model_A.h5\", save_best_only=True) # setup a model check point"
   ]
  },
  {
   "cell_type": "code",
   "execution_count": 25,
   "metadata": {},
   "outputs": [],
   "source": [
    "# simplist version of schedule, adding decay\n",
    "sgd_vanilla_with_decay = SGD(lr = 1e-3, decay = 1e-4)\n",
    "\n",
    "# customised schedule\n",
    "def exponential_decay_fn(epoch, lr0 = 0.01, s=20):\n",
    "    return lr0 * 0.1 ** (epoch / s)\n",
    "\n",
    "lr_scheduler = LearningRateScheduler(exponential_decay_fn)\n",
    "\n",
    "# pre-defined schedule\n",
    "lr_performance_schedule = keras.callbacks.ReduceLROnPlateau(factor = 0.5, patience = 5)\n",
    "\n",
    "s = 20 * len(X_train)\n",
    "lr_exponential = keras.optimizers.schedules.ExponentialDecay(0.01, s, 0.1)"
   ]
  },
  {
   "cell_type": "code",
   "execution_count": null,
   "metadata": {},
   "outputs": [
    {
     "name": "stdout",
     "output_type": "stream",
     "text": [
      "Epoch 1/20\n",
      "1407/1407 [==============================] - 3s 2ms/step - loss: 0.6026 - accuracy: 0.7996 - val_loss: 0.3851 - val_accuracy: 0.8601\n",
      "Epoch 2/20\n",
      "1407/1407 [==============================] - 3s 2ms/step - loss: 0.4181 - accuracy: 0.8466 - val_loss: 0.4101 - val_accuracy: 0.8607\n",
      "Epoch 3/20\n",
      "1407/1407 [==============================] - 4s 3ms/step - loss: 0.3521 - accuracy: 0.8678 - val_loss: 0.3554 - val_accuracy: 0.8717\n",
      "Epoch 4/20\n",
      "1407/1407 [==============================] - 3s 2ms/step - loss: 0.3039 - accuracy: 0.8834 - val_loss: 0.3303 - val_accuracy: 0.8843\n",
      "Epoch 5/20\n",
      "1407/1407 [==============================] - 3s 2ms/step - loss: 0.2561 - accuracy: 0.9020 - val_loss: 0.3274 - val_accuracy: 0.8963\n",
      "Epoch 6/20\n",
      "1407/1407 [==============================] - 3s 2ms/step - loss: 0.2130 - accuracy: 0.9185 - val_loss: 0.2916 - val_accuracy: 0.9013\n",
      "Epoch 7/20\n",
      "1407/1407 [==============================] - 4s 3ms/step - loss: 0.1870 - accuracy: 0.9295 - val_loss: 0.2940 - val_accuracy: 0.9061\n",
      "Epoch 8/20\n",
      "1407/1407 [==============================] - 3s 2ms/step - loss: 0.1709 - accuracy: 0.9360 - val_loss: 0.2870 - val_accuracy: 0.9054\n",
      "Epoch 9/20\n",
      "1407/1407 [==============================] - 3s 2ms/step - loss: 0.1611 - accuracy: 0.9398 - val_loss: 0.3167 - val_accuracy: 0.9065\n",
      "Epoch 10/20\n",
      "1407/1407 [==============================] - 3s 2ms/step - loss: 0.1598 - accuracy: 0.9401 - val_loss: 0.2776 - val_accuracy: 0.9067\n",
      "Epoch 11/20\n",
      "1407/1407 [==============================] - 4s 3ms/step - loss: 0.1576 - accuracy: 0.9407 - val_loss: 0.2808 - val_accuracy: 0.9072\n",
      "Epoch 12/20\n",
      "1407/1407 [==============================] - 4s 3ms/step - loss: 0.1589 - accuracy: 0.9405 - val_loss: 0.2766 - val_accuracy: 0.9079\n",
      "Epoch 13/20\n",
      "1407/1407 [==============================] - 4s 3ms/step - loss: 0.1567 - accuracy: 0.9413 - val_loss: 0.2726 - val_accuracy: 0.9079\n",
      "Epoch 14/20\n",
      "1407/1407 [==============================] - 4s 3ms/step - loss: 0.1581 - accuracy: 0.9410 - val_loss: 0.2869 - val_accuracy: 0.9075\n",
      "Epoch 15/20\n",
      "1407/1407 [==============================] - 4s 3ms/step - loss: 0.1544 - accuracy: 0.9432 - val_loss: 0.2964 - val_accuracy: 0.9064\n",
      "Epoch 16/20\n",
      "1407/1407 [==============================] - 3s 2ms/step - loss: 0.1567 - accuracy: 0.9419 - val_loss: 0.2659 - val_accuracy: 0.9080\n",
      "Epoch 17/20\n",
      "1407/1407 [==============================] - 4s 3ms/step - loss: 0.1555 - accuracy: 0.9422 - val_loss: 0.2761 - val_accuracy: 0.9078\n",
      "Epoch 18/20\n",
      "1407/1407 [==============================] - 3s 2ms/step - loss: 0.1560 - accuracy: 0.9416 - val_loss: 0.2872 - val_accuracy: 0.9075\n",
      "Epoch 19/20\n",
      "1407/1407 [==============================] - 4s 3ms/step - loss: 0.1553 - accuracy: 0.9428 - val_loss: 0.2790 - val_accuracy: 0.9075\n",
      "Epoch 20/20\n",
      "1211/1407 [========================>.....] - ETA: 0s - loss: 0.1564 - accuracy: 0.9413"
     ]
    }
   ],
   "source": [
    "sgd_vanilla = SGD(lr = 1e-3) # stochastic gradient descent\n",
    "\n",
    "keras.backend.clear_session()    \n",
    "initializer = keras.initializers.LecunNormal()\n",
    "model = Sequential([\n",
    "    Flatten(input_shape=[28, 28]),\n",
    "    BatchNormalization(),\n",
    "    Dense(300, activation = \"selu\", kernel_initializer = initializer),\n",
    "    Dense(300, activation = \"selu\", kernel_initializer = initializer),\n",
    "    Dense(300, activation = \"selu\", kernel_initializer = initializer),\n",
    "    Dense(10, activation = \"softmax\")\n",
    "])\n",
    "\n",
    "NUM_EPOCHS = 20\n",
    "\n",
    "model.compile(optimizer =  \"adam\", loss = \"sparse_categorical_crossentropy\", metrics = \"accuracy\")\n",
    "history = model.fit(X_train, y_train, epochs=NUM_EPOCHS, validation_data = (X_valid, y_valid), callbacks = [lr_scheduler],\n",
    "                    verbose = True)\n",
    "print(model.evaluate(X_test, y_test))"
   ]
  },
  {
   "cell_type": "markdown",
   "metadata": {},
   "source": [
    "### Version Control"
   ]
  },
  {
   "cell_type": "code",
   "execution_count": 26,
   "metadata": {},
   "outputs": [
    {
     "name": "stderr",
     "output_type": "stream",
     "text": [
      "warning: LF will be replaced by CRLF in tensorflow/7_learning_rate_scheduling.ipynb.\n",
      "The file will have its original line endings in your working directory\n"
     ]
    },
    {
     "name": "stdout",
     "output_type": "stream",
     "text": [
      "[master 5b443f4] added learn rate schedule\n",
      " 1 file changed, 16 insertions(+), 8 deletions(-)\n"
     ]
    },
    {
     "name": "stderr",
     "output_type": "stream",
     "text": [
      "To https://github.com/auslei/python.git\n",
      "   e0c86e8..5b443f4  master -> master\n"
     ]
    }
   ],
   "source": [
    "!git add 7_learning_rate_scheduling.ipynb\n",
    "!git commit -m \"added learn rate schedule\"\n",
    "!git push"
   ]
  },
  {
   "cell_type": "code",
   "execution_count": null,
   "metadata": {},
   "outputs": [],
   "source": []
  }
 ],
 "metadata": {
  "kernelspec": {
   "display_name": "ml_with_tf",
   "language": "python",
   "name": "ml_with_tf"
  },
  "language_info": {
   "codemirror_mode": {
    "name": "ipython",
    "version": 3
   },
   "file_extension": ".py",
   "mimetype": "text/x-python",
   "name": "python",
   "nbconvert_exporter": "python",
   "pygments_lexer": "ipython3",
   "version": "3.8.6"
  }
 },
 "nbformat": 4,
 "nbformat_minor": 4
}
