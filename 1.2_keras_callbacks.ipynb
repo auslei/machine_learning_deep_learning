{
 "cells": [
  {
   "cell_type": "code",
   "execution_count": 147,
   "metadata": {},
   "outputs": [],
   "source": [
    "import tensorflow as tf\n",
    "from tensorflow import keras"
   ]
  },
  {
   "cell_type": "code",
   "execution_count": 148,
   "metadata": {},
   "outputs": [],
   "source": [
    "from sklearn.datasets import fetch_california_housing\n",
    "from sklearn.model_selection import train_test_split\n",
    "from sklearn.preprocessing import StandardScaler"
   ]
  },
  {
   "cell_type": "markdown",
   "metadata": {},
   "source": [
    "### Load and prepare training data\n",
    "\n",
    "Get Calinfornia Housing data and split into train, test and validation sets."
   ]
  },
  {
   "cell_type": "code",
   "execution_count": 174,
   "metadata": {},
   "outputs": [],
   "source": [
    "housing = fetch_california_housing()\n",
    "\n",
    "# test_size is default to 0.25\n",
    "X_train_full, X_test, y_train_full, y_test = train_test_split(housing.data, housing.target)\n",
    "X_train, X_valid, y_train, y_valid = train_test_split(X_train_full, y_train_full)"
   ]
  },
  {
   "cell_type": "code",
   "execution_count": 175,
   "metadata": {},
   "outputs": [
    {
     "data": {
      "text/plain": [
       "((15480, 8), (11610, 8), (3870, 8), (5160, 8))"
      ]
     },
     "execution_count": 175,
     "metadata": {},
     "output_type": "execute_result"
    }
   ],
   "source": [
    "X_train_full.shape, X_train.shape, X_valid.shape, X_test.shape"
   ]
  },
  {
   "cell_type": "markdown",
   "metadata": {},
   "source": [
    "## Apply scaling"
   ]
  },
  {
   "cell_type": "code",
   "execution_count": 176,
   "metadata": {},
   "outputs": [],
   "source": [
    "X_train = StandardScaler().fit_transform(X_train)\n",
    "X_valid = StandardScaler().fit_transform(X_valid)\n",
    "X_test = StandardScaler().fit_transform(X_test)"
   ]
  },
  {
   "cell_type": "code",
   "execution_count": 177,
   "metadata": {},
   "outputs": [
    {
     "name": "stdout",
     "output_type": "stream",
     "text": [
      "['MedInc', 'HouseAge', 'AveRooms', 'AveBedrms', 'Population', 'AveOccup', 'Latitude', 'Longitude'] ['MedHouseVal']\n"
     ]
    }
   ],
   "source": [
    "print(housing['feature_names'], housing['target_names'])"
   ]
  },
  {
   "cell_type": "code",
   "execution_count": 184,
   "metadata": {},
   "outputs": [],
   "source": [
    "#tf.keras.backend.clear_session()\n",
    "#tf.random.set_seed(1234)\n",
    "\n",
    "model = tf.keras.Sequential([\n",
    "        tf.keras.layers.Dense(30, input_shape = X_train.shape[1:], activation = 'relu'), # just using shape from training set\n",
    "        tf.keras.layers.Dense(30, activation = 'relu'),\n",
    "        tf.keras.layers.Dense(1)\n",
    "])\n",
    "\n",
    "\n",
    "model.compile(loss = 'mse', optimizer = 'sgd')"
   ]
  },
  {
   "cell_type": "code",
   "execution_count": 185,
   "metadata": {},
   "outputs": [
    {
     "name": "stdout",
     "output_type": "stream",
     "text": [
      "Model: \"sequential_3\"\n",
      "_________________________________________________________________\n",
      "Layer (type)                 Output Shape              Param #   \n",
      "=================================================================\n",
      "dense_13 (Dense)             (None, 30)                270       \n",
      "_________________________________________________________________\n",
      "dense_14 (Dense)             (None, 30)                930       \n",
      "_________________________________________________________________\n",
      "dense_15 (Dense)             (None, 1)                 31        \n",
      "=================================================================\n",
      "Total params: 1,231\n",
      "Trainable params: 1,231\n",
      "Non-trainable params: 0\n",
      "_________________________________________________________________\n"
     ]
    }
   ],
   "source": [
    "model.summary()"
   ]
  },
  {
   "cell_type": "markdown",
   "metadata": {},
   "source": [
    "## Using Call backs\n",
    "\n",
    "The **fit()** methods accept **callbacks** argument that lets you specify a list of object that Keras will call at the start and end of training or epoch, or even batch. For example **ModelCheckpoint** callbask saves checkpoints of your model at regular intervals during training.\n",
    "\n",
    "Set argument **save_best_only**, set to True if keep only the best.\n",
    "\n",
    "Can also use **EarlyStopping** callback where traing is interrupted if there is no progress. This will save a lot of time.\n"
   ]
  },
  {
   "cell_type": "markdown",
   "metadata": {},
   "source": [
    "### Custom Call Back\n",
    "\n",
    "We can also create our own call back functions"
   ]
  },
  {
   "cell_type": "code",
   "execution_count": 186,
   "metadata": {},
   "outputs": [],
   "source": [
    "class PrintValTrainRationCallBack(keras.callbacks.Callback):\n",
    "    def on_epoch_end(self, epoch, logs):\n",
    "        print(\"\\nVal/Train: {:2f}\".format(logs[\"val_loss\"]/logs[\"loss\"]))"
   ]
  },
  {
   "cell_type": "code",
   "execution_count": 187,
   "metadata": {},
   "outputs": [
    {
     "name": "stdout",
     "output_type": "stream",
     "text": [
      "Epoch 1/30\n",
      "  1/363 [..............................] - ETA: 0s - loss: 5.1351WARNING:tensorflow:Callbacks method `on_train_batch_begin` is slow compared to the batch time (batch time: 0.0003s vs `on_train_batch_begin` time: 0.0010s). Check your callbacks.\n",
      "327/363 [==========================>...] - ETA: 0s - loss: 0.9404\n",
      "Val/Train: 0.603924\n",
      "363/363 [==============================] - 0s 1ms/step - loss: 0.9030 - val_loss: 0.5453\n",
      "Epoch 2/30\n",
      "321/363 [=========================>....] - ETA: 0s - loss: 0.4594\n",
      "Val/Train: 1.053174\n",
      "363/363 [==============================] - 0s 847us/step - loss: 0.4632 - val_loss: 0.4879\n",
      "Epoch 3/30\n",
      "300/363 [=======================>......] - ETA: 0s - loss: 0.4219\n",
      "Val/Train: 1.085274\n",
      "363/363 [==============================] - 0s 836us/step - loss: 0.4214 - val_loss: 0.4574\n",
      "Epoch 4/30\n",
      "296/363 [=======================>......] - ETA: 0s - loss: 0.4122\n",
      "Val/Train: 1.125106\n",
      "363/363 [==============================] - 0s 700us/step - loss: 0.4040 - val_loss: 0.4545\n",
      "Epoch 5/30\n",
      "346/363 [===========================>..] - ETA: 0s - loss: 0.3939\n",
      "Val/Train: 1.145411\n",
      "363/363 [==============================] - 0s 801us/step - loss: 0.3935 - val_loss: 0.4507\n",
      "Epoch 6/30\n",
      "326/363 [=========================>....] - ETA: 0s - loss: 0.3879\n",
      "Val/Train: 1.160954\n",
      "363/363 [==============================] - 0s 869us/step - loss: 0.3825 - val_loss: 0.4441\n",
      "Epoch 7/30\n",
      "267/363 [=====================>........] - ETA: 0s - loss: 0.3750\n",
      "Val/Train: 1.169850\n",
      "363/363 [==============================] - 0s 723us/step - loss: 0.3731 - val_loss: 0.4365\n",
      "Epoch 8/30\n",
      "330/363 [==========================>...] - ETA: 0s - loss: 0.3731\n",
      "Val/Train: 1.194248\n",
      "363/363 [==============================] - 0s 799us/step - loss: 0.3711 - val_loss: 0.4432\n",
      "Epoch 9/30\n",
      "312/363 [========================>.....] - ETA: 0s - loss: 0.3563\n",
      "Val/Train: 1.140934\n",
      "363/363 [==============================] - 0s 851us/step - loss: 0.3652 - val_loss: 0.4167\n",
      "Epoch 10/30\n",
      "320/363 [=========================>....] - ETA: 0s - loss: 0.3639\n",
      "Val/Train: 1.164580\n",
      "363/363 [==============================] - 0s 918us/step - loss: 0.3584 - val_loss: 0.4174\n",
      "Epoch 11/30\n",
      "311/363 [========================>.....] - ETA: 0s - loss: 0.3527\n",
      "Val/Train: 1.155589\n",
      "363/363 [==============================] - 0s 848us/step - loss: 0.3522 - val_loss: 0.4070\n",
      "Epoch 12/30\n",
      "330/363 [==========================>...] - ETA: 0s - loss: 0.3466\n",
      "Val/Train: 1.219496\n",
      "363/363 [==============================] - 0s 793us/step - loss: 0.3489 - val_loss: 0.4255\n",
      "Epoch 13/30\n",
      "310/363 [========================>.....] - ETA: 0s - loss: 0.3455\n",
      "Val/Train: 1.181536\n",
      "363/363 [==============================] - 0s 854us/step - loss: 0.3446 - val_loss: 0.4071\n",
      "Epoch 14/30\n",
      "306/363 [========================>.....] - ETA: 0s - loss: 0.3384\n",
      "Val/Train: 1.198314\n",
      "363/363 [==============================] - 0s 705us/step - loss: 0.3425 - val_loss: 0.4105\n",
      "Epoch 15/30\n",
      "319/363 [=========================>....] - ETA: 0s - loss: 0.3380\n",
      "Val/Train: 1.201495\n",
      "363/363 [==============================] - 0s 850us/step - loss: 0.3412 - val_loss: 0.4099\n",
      "Epoch 16/30\n",
      "315/363 [=========================>....] - ETA: 0s - loss: 0.3330\n",
      "Val/Train: 1.217404\n",
      "363/363 [==============================] - 0s 845us/step - loss: 0.3348 - val_loss: 0.4076\n",
      "Epoch 17/30\n",
      "356/363 [============================>.] - ETA: 0s - loss: 0.3291\n",
      "Val/Train: 1.184089\n",
      "363/363 [==============================] - 0s 767us/step - loss: 0.3315 - val_loss: 0.3925\n",
      "Epoch 18/30\n",
      "337/363 [==========================>...] - ETA: 0s - loss: 0.3308\n",
      "Val/Train: 1.227145\n",
      "363/363 [==============================] - 0s 767us/step - loss: 0.3295 - val_loss: 0.4044\n",
      "Epoch 19/30\n",
      "314/363 [========================>.....] - ETA: 0s - loss: 0.3244\n",
      "Val/Train: 1.204401\n",
      "363/363 [==============================] - 0s 851us/step - loss: 0.3280 - val_loss: 0.3950\n",
      "Epoch 20/30\n",
      "306/363 [========================>.....] - ETA: 0s - loss: 0.3230\n",
      "Val/Train: 1.201540\n",
      "363/363 [==============================] - 0s 850us/step - loss: 0.3261 - val_loss: 0.3918\n",
      "Epoch 21/30\n",
      "284/363 [======================>.......] - ETA: 0s - loss: 0.3237\n",
      "Val/Train: 1.229349\n",
      "363/363 [==============================] - 0s 736us/step - loss: 0.3219 - val_loss: 0.3958\n",
      "Epoch 22/30\n",
      "326/363 [=========================>....] - ETA: 0s - loss: 0.3271\n",
      "Val/Train: 1.281724\n",
      "363/363 [==============================] - 0s 813us/step - loss: 0.3220 - val_loss: 0.4127\n",
      "Epoch 23/30\n",
      "284/363 [======================>.......] - ETA: 0s - loss: 0.3264\n",
      "Val/Train: 1.215958\n",
      "363/363 [==============================] - 0s 766us/step - loss: 0.3222 - val_loss: 0.3918\n",
      "Epoch 24/30\n",
      "347/363 [===========================>..] - ETA: 0s - loss: 0.3184\n",
      "Val/Train: 1.239297\n",
      "363/363 [==============================] - 0s 763us/step - loss: 0.3199 - val_loss: 0.3965\n",
      "Epoch 25/30\n",
      "340/363 [===========================>..] - ETA: 0s - loss: 0.3147\n",
      "Val/Train: 1.215784\n",
      "363/363 [==============================] - 0s 804us/step - loss: 0.3163 - val_loss: 0.3845\n",
      "Epoch 26/30\n",
      "338/363 [==========================>...] - ETA: 0s - loss: 0.3153\n",
      "Val/Train: 1.207709\n",
      "363/363 [==============================] - 0s 804us/step - loss: 0.3165 - val_loss: 0.3822\n",
      "Epoch 27/30\n",
      "312/363 [========================>.....] - ETA: 0s - loss: 0.3094\n",
      "Val/Train: 1.217187\n",
      "363/363 [==============================] - 0s 829us/step - loss: 0.3129 - val_loss: 0.3808\n",
      "Epoch 28/30\n",
      "318/363 [=========================>....] - ETA: 0s - loss: 0.3133\n",
      "Val/Train: 1.289189\n",
      "363/363 [==============================] - 0s 833us/step - loss: 0.3125 - val_loss: 0.4028\n",
      "Epoch 29/30\n",
      "319/363 [=========================>....] - ETA: 0s - loss: 0.3153\n",
      "Val/Train: 1.219220\n",
      "363/363 [==============================] - 0s 849us/step - loss: 0.3115 - val_loss: 0.3798\n",
      "Epoch 30/30\n",
      "320/363 [=========================>....] - ETA: 0s - loss: 0.3073\n",
      "Val/Train: 1.257677\n",
      "363/363 [==============================] - 0s 851us/step - loss: 0.3083 - val_loss: 0.3877\n"
     ]
    }
   ],
   "source": [
    "checkpoint_cp = keras.callbacks.ModelCheckpoint(\"keras_cb.h5\", save_best_only=True) # set save best only to True to keep best train, valid result\n",
    "early_stopping_cp = keras.callbacks.EarlyStopping(patience = 10, restore_best_weights=True)\n",
    "print_cp = PrintValTrainRationCallBack()\n",
    "\n",
    "history = model.fit(X_train, y_train, validation_data=(X_valid, y_valid),\n",
    "                    callbacks = [checkpoint_cp, early_stopping_cp, print_cp],\n",
    "                    epochs = 30, verbose = True)"
   ]
  },
  {
   "cell_type": "code",
   "execution_count": 188,
   "metadata": {},
   "outputs": [
    {
     "name": "stdout",
     "output_type": "stream",
     "text": [
      "162/162 [==============================] - 0s 531us/step - loss: 2.3253\n",
      "WARNING:tensorflow:10 out of the last 11 calls to <function Model.make_predict_function.<locals>.predict_function at 0x0000025242ACF0D0> triggered tf.function retracing. Tracing is expensive and the excessive number of tracings could be due to (1) creating @tf.function repeatedly in a loop, (2) passing tensors with different shapes, (3) passing Python objects instead of tensors. For (1), please define your @tf.function outside of the loop. For (2), @tf.function has experimental_relax_shapes=True option that relaxes argument shapes that can avoid unnecessary retracing. For (3), please refer to https://www.tensorflow.org/tutorials/customization/performance#python_or_tensor_args and https://www.tensorflow.org/api_docs/python/tf/function for  more details.\n",
      "[1.    2.201 1.153]\n",
      "[[1.1315364 1.8732312 2.6149528]]\n"
     ]
    },
    {
     "data": {
      "image/png": "[encoded data removed]",
      "text/plain": [
       "<Figure size 576x360 with 1 Axes>"
      ]
     },
     "metadata": {
      "needs_background": "light"
     },
     "output_type": "display_data"
    }
   ],
   "source": [
    "mse_test = model.evaluate(X_test, y_test)\n",
    "X_new = X_test[:3] \n",
    "y_pred = model.predict(X_new)\n",
    "\n",
    "print(y_test[:3])\n",
    "print(y_pred.reshape(1, -1))\n",
    "\n",
    "import pandas as pd\n",
    "import matplotlib.pyplot as plt\n",
    "pd.DataFrame(history.history).plot(figsize=(8,5))\n",
    "plt.grid(True)\n",
    "plt.show()"
   ]
  },
  {
   "cell_type": "code",
   "execution_count": null,
   "metadata": {},
   "outputs": [],
   "source": []
  }
 ],
 "metadata": {
  "kernelspec": {
   "display_name": "ml_with_tensor",
   "language": "python",
   "name": "ml_with_tensor"
  },
  "language_info": {
   "codemirror_mode": {
    "name": "ipython",
    "version": 3
   },
   "file_extension": ".py",
   "mimetype": "text/x-python",
   "name": "python",
   "nbconvert_exporter": "python",
   "pygments_lexer": "ipython3",
   "version": "3.8.5"
  }
 },
 "nbformat": 4,
 "nbformat_minor": 4
}
