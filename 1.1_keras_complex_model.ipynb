{
 "cells": [
  {
   "cell_type": "code",
   "execution_count": 1,
   "metadata": {},
   "outputs": [],
   "source": [
    "import tensorflow as tf\n",
    "from tensorflow import keras"
   ]
  },
  {
   "cell_type": "code",
   "execution_count": 2,
   "metadata": {},
   "outputs": [],
   "source": [
    "from sklearn.datasets import fetch_california_housing\n",
    "from sklearn.model_selection import train_test_split\n",
    "from sklearn.preprocessing import StandardScaler"
   ]
  },
  {
   "cell_type": "markdown",
   "metadata": {},
   "source": [
    "### Load and prepare training data\n",
    "\n",
    "Get Calinfornia Housing data and split into train, test and validation sets."
   ]
  },
  {
   "cell_type": "code",
   "execution_count": 11,
   "metadata": {},
   "outputs": [],
   "source": [
    "housing = fetch_california_housing()\n",
    "\n",
    "# test_size is default to 0.25\n",
    "X_train_full, X_test, y_train_full, y_test = train_test_split(housing.data, housing.target)\n",
    "X_train, X_valid, y_train, y_valid = train_test_split(X_train_full, y_train_full)"
   ]
  },
  {
   "cell_type": "code",
   "execution_count": 12,
   "metadata": {},
   "outputs": [
    {
     "data": {
      "text/plain": [
       "((15480, 8), (11610, 8), (3870, 8), (5160, 8))"
      ]
     },
     "execution_count": 12,
     "metadata": {},
     "output_type": "execute_result"
    }
   ],
   "source": [
    "X_train_full.shape, X_train.shape, X_valid.shape, X_test.shape"
   ]
  },
  {
   "cell_type": "markdown",
   "metadata": {},
   "source": [
    "## Apply scaling"
   ]
  },
  {
   "cell_type": "code",
   "execution_count": 13,
   "metadata": {},
   "outputs": [],
   "source": [
    "X_train = StandardScaler().fit_transform(X_train)\n",
    "X_valid = StandardScaler().fit_transform(X_valid)\n",
    "X_test = StandardScaler().fit_transform(X_test)"
   ]
  },
  {
   "cell_type": "code",
   "execution_count": 14,
   "metadata": {},
   "outputs": [
    {
     "name": "stdout",
     "output_type": "stream",
     "text": [
      "['MedInc', 'HouseAge', 'AveRooms', 'AveBedrms', 'Population', 'AveOccup', 'Latitude', 'Longitude'] ['MedHouseVal']\n"
     ]
    }
   ],
   "source": [
    "print(housing['feature_names'], housing['target_names'])"
   ]
  },
  {
   "cell_type": "markdown",
   "metadata": {},
   "source": [
    "## Building Non-Sequential Model\n",
    "\n",
    "In this case, use the **Wide & Deep Model**:\n",
    "\n",
    "- 2 Hidden Layers\n",
    "- Input Layer is also combined with the output of the last hidden layer (connecting all inputer layer to output layer) \n",
    "\n",
    "The advantage of **Wide & Deep Model** makes it possible for model to learn both simple rules and deep patterns. "
   ]
  },
  {
   "cell_type": "code",
   "execution_count": 33,
   "metadata": {},
   "outputs": [],
   "source": [
    "tf.keras.backend.clear_session()\n",
    "\n",
    "input_ = keras.layers.Input(shape = X_train.shape[1:])\n",
    "hidden1_ = keras.layers.Dense(30, activation = \"relu\")(input_)\n",
    "hidden2_ = keras.layers.Dense(30, activation = \"relu\")(hidden1_)\n",
    "concat = keras.layers.Concatenate()([input_, hidden2_])\n",
    "output = keras.layers.Dense(1)(concat)\n",
    "\n",
    "model = keras.Model(inputs=[input_], outputs=[output])"
   ]
  },
  {
   "cell_type": "code",
   "execution_count": 34,
   "metadata": {},
   "outputs": [
    {
     "name": "stdout",
     "output_type": "stream",
     "text": [
      "Model: \"functional_1\"\n",
      "__________________________________________________________________________________________________\n",
      "Layer (type)                    Output Shape         Param #     Connected to                     \n",
      "==================================================================================================\n",
      "input_1 (InputLayer)            [(None, 8)]          0                                            \n",
      "__________________________________________________________________________________________________\n",
      "dense (Dense)                   (None, 30)           270         input_1[0][0]                    \n",
      "__________________________________________________________________________________________________\n",
      "dense_1 (Dense)                 (None, 30)           930         dense[0][0]                      \n",
      "__________________________________________________________________________________________________\n",
      "concatenate (Concatenate)       (None, 38)           0           input_1[0][0]                    \n",
      "                                                                 dense_1[0][0]                    \n",
      "__________________________________________________________________________________________________\n",
      "dense_2 (Dense)                 (None, 1)            39          concatenate[0][0]                \n",
      "==================================================================================================\n",
      "Total params: 1,239\n",
      "Trainable params: 1,239\n",
      "Non-trainable params: 0\n",
      "__________________________________________________________________________________________________\n"
     ]
    }
   ],
   "source": [
    "model.summary()"
   ]
  },
  {
   "cell_type": "code",
   "execution_count": 38,
   "metadata": {},
   "outputs": [
    {
     "name": "stdout",
     "output_type": "stream",
     "text": [
      "162/162 [==============================] - 0s 525us/step - loss: 0.4719\n",
      "WARNING:tensorflow:11 out of the last 11 calls to <function Model.make_predict_function.<locals>.predict_function at 0x0000025236606430> triggered tf.function retracing. Tracing is expensive and the excessive number of tracings could be due to (1) creating @tf.function repeatedly in a loop, (2) passing tensors with different shapes, (3) passing Python objects instead of tensors. For (1), please define your @tf.function outside of the loop. For (2), @tf.function has experimental_relax_shapes=True option that relaxes argument shapes that can avoid unnecessary retracing. For (3), please refer to https://www.tensorflow.org/tutorials/customization/performance#python_or_tensor_args and https://www.tensorflow.org/api_docs/python/tf/function for  more details.\n",
      "[5.00001 2.603   1.828  ]\n",
      "[[4.836974  1.68959   1.8006303]]\n"
     ]
    }
   ],
   "source": [
    "tf.random.set_seed(1234)\n",
    "\n",
    "model.compile(loss = 'mse', optimizer = 'sgd')\n",
    "\n",
    "history = model.fit(X_train, y_train, validation_data=(X_valid, y_valid), epochs = 30, batch_size = 32, verbose = False)\n",
    "\n",
    "mse_test = model.evaluate(X_test, y_test)\n",
    "X_new = X_test[:3] \n",
    "y_pred = model.predict(X_new)\n",
    "\n",
    "print(y_test[:3])\n",
    "print(y_pred.reshape(1, -1))"
   ]
  },
  {
   "cell_type": "code",
   "execution_count": 29,
   "metadata": {},
   "outputs": [
    {
     "data": {
      "image/png": "[encoded data removed]",
      "text/plain": [
       "<Figure size 576x360 with 1 Axes>"
      ]
     },
     "metadata": {
      "needs_background": "light"
     },
     "output_type": "display_data"
    }
   ],
   "source": [
    "import pandas as pd\n",
    "import matplotlib.pyplot as plt\n",
    "pd.DataFrame(history.history).plot(figsize=(8,5))\n",
    "plt.grid(True)\n",
    "plt.gca().set_ylim(0,1)\n",
    "plt.show()"
   ]
  },
  {
   "cell_type": "markdown",
   "metadata": {},
   "source": [
    "### Subsetting input and with auxilary output\n",
    "\n",
    "- The task may demand it. For instance, you may want to locate and classify the main object in a picture. This can be both a regression (locating centre) and classification task (identify object). \n",
    "- May require different classes using similar data. For example, classify facial expression vs if someone is wearing glasses\n",
    "- May be a regularisation technique to reduce overfitting"
   ]
  },
  {
   "cell_type": "code",
   "execution_count": 115,
   "metadata": {},
   "outputs": [
    {
     "name": "stdout",
     "output_type": "stream",
     "text": [
      "Model: \"functional_17\"\n",
      "__________________________________________________________________________________________________\n",
      "Layer (type)                    Output Shape         Param #     Connected to                     \n",
      "==================================================================================================\n",
      "deep_input (InputLayer)         [(None, 6)]          0                                            \n",
      "__________________________________________________________________________________________________\n",
      "dense_48 (Dense)                (None, 30)           210         deep_input[0][0]                 \n",
      "__________________________________________________________________________________________________\n",
      "wide_input (InputLayer)         [(None, 5)]          0                                            \n",
      "__________________________________________________________________________________________________\n",
      "dense_49 (Dense)                (None, 30)           930         dense_48[0][0]                   \n",
      "__________________________________________________________________________________________________\n",
      "concatenate_14 (Concatenate)    (None, 35)           0           wide_input[0][0]                 \n",
      "                                                                 dense_49[0][0]                   \n",
      "__________________________________________________________________________________________________\n",
      "output (Dense)                  (None, 1)            36          concatenate_14[0][0]             \n",
      "__________________________________________________________________________________________________\n",
      "aux_output (Dense)              (None, 1)            31          dense_49[0][0]                   \n",
      "==================================================================================================\n",
      "Total params: 1,207\n",
      "Trainable params: 1,207\n",
      "Non-trainable params: 0\n",
      "__________________________________________________________________________________________________\n"
     ]
    }
   ],
   "source": [
    "input_A = keras.layers.Input(shape = [5], name = \"wide_input\")\n",
    "input_B = keras.layers.Input(shape = [6], name = \"deep_input\")\n",
    "\n",
    "hidden1 = keras.layers.Dense(30, activation=\"relu\")(input_B)\n",
    "hidden2 = keras.layers.Dense(30, activation=\"relu\")(hidden1)\n",
    "\n",
    "concat = keras.layers.concatenate([input_A, hidden2])\n",
    "\n",
    "output = keras.layers.Dense(1, name = \"output\")(concat)\n",
    "aux_output = keras.layers.Dense(1, name = \"aux_output\")(hidden2) # may feed into another network\n",
    "\n",
    "model = keras.Model(inputs = [input_A, input_B], outputs = [output, aux_output])\n",
    "\n",
    "model.compile(loss = [\"mse\", \"mse\"],\n",
    "              loss_weights = [0.9, 0.1], # the weights can be focusing more on main and less so for aux for regularisation\n",
    "              optimizer = keras.optimizers.SGD(lr = 1e-3)) #specify mulitple loss function for both outputs\n",
    "\n",
    "model.summary()"
   ]
  },
  {
   "cell_type": "code",
   "execution_count": 93,
   "metadata": {},
   "outputs": [
    {
     "name": "stdout",
     "output_type": "stream",
     "text": [
      "Epoch 1/20\n",
      "363/363 [==============================] - 0s 1ms/step - loss: 2.4440 - output_loss: 2.2861 - aux_output_loss: 3.8650 - val_loss: 1.4620 - val_output_loss: 1.2953 - val_aux_output_loss: 2.9617\n",
      "Epoch 2/20\n",
      "363/363 [==============================] - 0s 821us/step - loss: 1.1039 - output_loss: 0.9601 - aux_output_loss: 2.3981 - val_loss: 1.0017 - val_output_loss: 0.8829 - val_aux_output_loss: 2.0703\n",
      "Epoch 3/20\n",
      "363/363 [==============================] - 0s 862us/step - loss: 0.8561 - output_loss: 0.7510 - aux_output_loss: 1.8017 - val_loss: 0.8441 - val_output_loss: 0.7485 - val_aux_output_loss: 1.7050\n",
      "Epoch 4/20\n",
      "363/363 [==============================] - 0s 799us/step - loss: 0.7662 - output_loss: 0.6782 - aux_output_loss: 1.5587 - val_loss: 0.7764 - val_output_loss: 0.6898 - val_aux_output_loss: 1.5561\n",
      "Epoch 5/20\n",
      "363/363 [==============================] - 0s 865us/step - loss: 0.7216 - output_loss: 0.6403 - aux_output_loss: 1.4538 - val_loss: 0.7376 - val_output_loss: 0.6547 - val_aux_output_loss: 1.4840\n",
      "Epoch 6/20\n",
      "363/363 [==============================] - 0s 791us/step - loss: 0.6933 - output_loss: 0.6149 - aux_output_loss: 1.3983 - val_loss: 0.7100 - val_output_loss: 0.6294 - val_aux_output_loss: 1.4359\n",
      "Epoch 7/20\n",
      "363/363 [==============================] - 0s 835us/step - loss: 0.6706 - output_loss: 0.5941 - aux_output_loss: 1.3587 - val_loss: 0.6874 - val_output_loss: 0.6085 - val_aux_output_loss: 1.3976\n",
      "Epoch 8/20\n",
      "363/363 [==============================] - 0s 901us/step - loss: 0.6510 - output_loss: 0.5760 - aux_output_loss: 1.3253 - val_loss: 0.6692 - val_output_loss: 0.5923 - val_aux_output_loss: 1.3615\n",
      "Epoch 9/20\n",
      "363/363 [==============================] - 0s 796us/step - loss: 0.6337 - output_loss: 0.5604 - aux_output_loss: 1.2936 - val_loss: 0.6522 - val_output_loss: 0.5772 - val_aux_output_loss: 1.3273\n",
      "Epoch 10/20\n",
      "363/363 [==============================] - 0s 865us/step - loss: 0.6179 - output_loss: 0.5461 - aux_output_loss: 1.2637 - val_loss: 0.6387 - val_output_loss: 0.5659 - val_aux_output_loss: 1.2946\n",
      "Epoch 11/20\n",
      "363/363 [==============================] - 0s 915us/step - loss: 0.6038 - output_loss: 0.5336 - aux_output_loss: 1.2358 - val_loss: 0.6255 - val_output_loss: 0.5545 - val_aux_output_loss: 1.2638\n",
      "Epoch 12/20\n",
      "363/363 [==============================] - 0s 782us/step - loss: 0.5910 - output_loss: 0.5222 - aux_output_loss: 1.2095 - val_loss: 0.6156 - val_output_loss: 0.5468 - val_aux_output_loss: 1.2343\n",
      "Epoch 13/20\n",
      "363/363 [==============================] - 0s 791us/step - loss: 0.5793 - output_loss: 0.5122 - aux_output_loss: 1.1833 - val_loss: 0.6028 - val_output_loss: 0.5361 - val_aux_output_loss: 1.2035\n",
      "Epoch 14/20\n",
      "363/363 [==============================] - 0s 835us/step - loss: 0.5696 - output_loss: 0.5041 - aux_output_loss: 1.1584 - val_loss: 0.5944 - val_output_loss: 0.5298 - val_aux_output_loss: 1.1760\n",
      "Epoch 15/20\n",
      "363/363 [==============================] - 0s 843us/step - loss: 0.5600 - output_loss: 0.4961 - aux_output_loss: 1.1346 - val_loss: 0.5869 - val_output_loss: 0.5242 - val_aux_output_loss: 1.1511\n",
      "Epoch 16/20\n",
      "363/363 [==============================] - 0s 887us/step - loss: 0.5513 - output_loss: 0.4890 - aux_output_loss: 1.1120 - val_loss: 0.5797 - val_output_loss: 0.5189 - val_aux_output_loss: 1.1269\n",
      "Epoch 17/20\n",
      "363/363 [==============================] - 0s 835us/step - loss: 0.5432 - output_loss: 0.4824 - aux_output_loss: 1.0901 - val_loss: 0.5712 - val_output_loss: 0.5125 - val_aux_output_loss: 1.0993\n",
      "Epoch 18/20\n",
      "363/363 [==============================] - 0s 904us/step - loss: 0.5362 - output_loss: 0.4769 - aux_output_loss: 1.0699 - val_loss: 0.5684 - val_output_loss: 0.5117 - val_aux_output_loss: 1.0791\n",
      "Epoch 19/20\n",
      "363/363 [==============================] - 0s 802us/step - loss: 0.5299 - output_loss: 0.4722 - aux_output_loss: 1.0498 - val_loss: 0.5581 - val_output_loss: 0.5029 - val_aux_output_loss: 1.0548\n",
      "Epoch 20/20\n",
      "363/363 [==============================] - 0s 818us/step - loss: 0.5240 - output_loss: 0.4677 - aux_output_loss: 1.0311 - val_loss: 0.5518 - val_output_loss: 0.4985 - val_aux_output_loss: 1.0318\n"
     ]
    }
   ],
   "source": [
    "X_train_A, X_train_B = X_train[:, :5], X_train[:, 2:]\n",
    "X_valid_A, X_valid_B = X_valid[:, :5], X_valid[:, 2:]\n",
    "X_test_A, X_test_B = X_test[:, :5], X_test[:, 2:]\n",
    "\n",
    "X_new_A, X_new_B = X_test_A[:3], X_test_B[:3]\n",
    "\n",
    "history = model.fit([X_train_A, X_train_B], [y_train, y_train], \n",
    "                    epochs = 20, \n",
    "                    validation_data = ((X_valid_A, X_valid_B), (y_valid, y_valid)))"
   ]
  },
  {
   "cell_type": "code",
   "execution_count": 64,
   "metadata": {},
   "outputs": [
    {
     "data": {
      "image/png": "[encoded data removed]",
      "text/plain": [
       "<Figure size 576x360 with 1 Axes>"
      ]
     },
     "metadata": {
      "needs_background": "light"
     },
     "output_type": "display_data"
    }
   ],
   "source": [
    "import pandas as pd\n",
    "import matplotlib.pyplot as plt\n",
    "pd.DataFrame(history.history).plot(figsize=(8,5))\n",
    "plt.grid(True)\n",
    "plt.show()"
   ]
  },
  {
   "cell_type": "code",
   "execution_count": 65,
   "metadata": {},
   "outputs": [
    {
     "name": "stdout",
     "output_type": "stream",
     "text": [
      "162/162 [==============================] - 0s 617us/step - loss: 0.5211 - output_loss: 0.4777 - aux_output_loss: 0.9110\n"
     ]
    }
   ],
   "source": [
    "total_loss, main_loss, aux_loss = model.evaluate([X_test_A, X_test_B], [y_test, y_test])"
   ]
  },
  {
   "cell_type": "code",
   "execution_count": 66,
   "metadata": {},
   "outputs": [
    {
     "name": "stdout",
     "output_type": "stream",
     "text": [
      "WARNING:tensorflow:11 out of the last 11 calls to <function Model.make_predict_function.<locals>.predict_function at 0x000002523E5E0040> triggered tf.function retracing. Tracing is expensive and the excessive number of tracings could be due to (1) creating @tf.function repeatedly in a loop, (2) passing tensors with different shapes, (3) passing Python objects instead of tensors. For (1), please define your @tf.function outside of the loop. For (2), @tf.function has experimental_relax_shapes=True option that relaxes argument shapes that can avoid unnecessary retracing. For (3), please refer to https://www.tensorflow.org/tutorials/customization/performance#python_or_tensor_args and https://www.tensorflow.org/api_docs/python/tf/function for  more details.\n"
     ]
    }
   ],
   "source": [
    "y_pred_main, y_pred_aux = model.predict([X_new_A, X_new_B])"
   ]
  },
  {
   "cell_type": "code",
   "execution_count": 67,
   "metadata": {},
   "outputs": [
    {
     "name": "stdout",
     "output_type": "stream",
     "text": [
      "[[5.106239 ]\n",
      " [2.1479979]\n",
      " [1.8832926]] [[2.5263932]\n",
      " [2.3835902]\n",
      " [2.125881 ]] [5.00001 2.603   1.828  ]\n"
     ]
    }
   ],
   "source": [
    "print(y_pred_main, y_pred_aux, y_test[:3])"
   ]
  },
  {
   "cell_type": "markdown",
   "metadata": {},
   "source": [
    "## Subclassing API\n"
   ]
  },
  {
   "cell_type": "code",
   "execution_count": 83,
   "metadata": {},
   "outputs": [],
   "source": [
    "class WideAndDeepModel(keras.Model):\n",
    "    def __init__(self, units = 30, activation = \"relu\", **kwargs):\n",
    "        super().__init__(**kwargs) # handles standard arguments\n",
    "        self.hidden1 = keras.layers.Dense(units, activation = activation)\n",
    "        self.hidden2 = keras.layers.Dense(units, activation = activation)\n",
    "        self.main_output = keras.layers.Dense(1)\n",
    "        self.aux_output = keras.layers.Dense(1)\n",
    "        \n",
    "    def call(self, inputs):\n",
    "        input_A, input_B = inputs        \n",
    "        hidden1 = self.hidden1(input_B)\n",
    "        hidden2 = self.hidden2(hidden1)\n",
    "        concat = keras.layers.concatenate([hidden2, input_A])\n",
    "        main_output = self.main_output(concat)\n",
    "        aux_output = self.aux_output(hidden2)\n",
    "        return main_output, aux_output\n",
    "\n",
    "#model = WideAndDeepModel()"
   ]
  },
  {
   "cell_type": "code",
   "execution_count": 91,
   "metadata": {},
   "outputs": [],
   "source": [
    "#model.call([X_train_A, X_train_B])"
   ]
  },
  {
   "cell_type": "markdown",
   "metadata": {},
   "source": [
    "## Save and Load Model\n",
    "\n",
    "The model is safed using HDF5 format."
   ]
  },
  {
   "cell_type": "code",
   "execution_count": 94,
   "metadata": {},
   "outputs": [],
   "source": [
    "model.save(\"model.h5\")"
   ]
  },
  {
   "cell_type": "code",
   "execution_count": 98,
   "metadata": {},
   "outputs": [],
   "source": [
    "model = keras.models.load_model(\"model.h5\")"
   ]
  },
  {
   "cell_type": "markdown",
   "metadata": {},
   "source": [
    "## Using Call backs\n",
    "\n",
    "The **fit()** methods accept **callbacks** argument that lets you specify a list of object that Keras will call at the start and end of training or epoch, or even batch. For example **ModelCheckpoint** callbask saves checkpoints of your model at regular intervals during training.\n",
    "\n",
    "Set argument **save_best_only**, set to True if keep only the best.\n",
    "\n",
    "Can also use **EarlyStopping** callback where traing is interrupted if there is no progress. This will save a lot of time.\n"
   ]
  },
  {
   "cell_type": "code",
   "execution_count": 124,
   "metadata": {},
   "outputs": [
    {
     "name": "stdout",
     "output_type": "stream",
     "text": [
      "\n",
      "Val/Train: 1.271945\n",
      "\n",
      "Val/Train: 1.274057\n",
      "\n",
      "Val/Train: 1.281311\n",
      "\n",
      "Val/Train: 1.276099\n",
      "\n",
      "Val/Train: 1.282512\n",
      "\n",
      "Val/Train: 1.287801\n",
      "\n",
      "Val/Train: 1.279796\n",
      "\n",
      "Val/Train: 1.281656\n",
      "\n",
      "Val/Train: 1.281115\n",
      "\n",
      "Val/Train: 1.279737\n",
      "\n",
      "Val/Train: 1.279532\n",
      "\n",
      "Val/Train: 1.282188\n",
      "\n",
      "Val/Train: 1.281995\n",
      "\n",
      "Val/Train: 1.288970\n",
      "\n",
      "Val/Train: 1.281730\n",
      "\n",
      "Val/Train: 1.291919\n",
      "\n",
      "Val/Train: 1.285494\n",
      "\n",
      "Val/Train: 1.295775\n",
      "\n",
      "Val/Train: 1.287547\n",
      "\n",
      "Val/Train: 1.286608\n"
     ]
    }
   ],
   "source": [
    "tf.keras.backend.clear_session()\n",
    "\n",
    "checkpoint_cp = keras.callbacks.ModelCheckpoint(\"keras_cb.h5\", save_best_only=True) # set save best only to True to keep best train, valid result\n",
    "early_stopping_cp = keras.callbacks.EarlyStopping(patience = 10, restore_best_weights=True)\n",
    "print_cp = PrintValTrainRationCallBack()\n",
    "\n",
    "history = model.fit([X_train_A, X_train_B], [y_train, y_train], \n",
    "                    epochs = 20,  callbacks = [checkpoint_cp, early_stopping_cp, print_cp], verbose = False,\n",
    "                    validation_data = ((X_valid_A, X_valid_B), (y_valid, y_valid)))"
   ]
  },
  {
   "cell_type": "code",
   "execution_count": 125,
   "metadata": {},
   "outputs": [
    {
     "data": {
      "image/png": "[encoded data removed]",
      "text/plain": [
       "<Figure size 576x360 with 1 Axes>"
      ]
     },
     "metadata": {
      "needs_background": "light"
     },
     "output_type": "display_data"
    }
   ],
   "source": [
    "import pandas as pd\n",
    "import matplotlib.pyplot as plt\n",
    "pd.DataFrame(history.history).plot(figsize=(8,5))\n",
    "plt.grid(True)\n",
    "plt.show()"
   ]
  },
  {
   "cell_type": "markdown",
   "metadata": {},
   "source": [
    "### Custom Call Back\n",
    "\n",
    "We can also create our own call back functions"
   ]
  },
  {
   "cell_type": "code",
   "execution_count": 117,
   "metadata": {},
   "outputs": [],
   "source": [
    "class PrintValTrainRationCallBack(keras.callbacks.Callback):\n",
    "    def on_epoch_end(self, epoch, logs):\n",
    "        print(\"\\nVal/Train: {:2f}\".format(logs[\"val_loss\"]/logs[\"loss\"]))"
   ]
  },
  {
   "cell_type": "markdown",
   "metadata": {},
   "source": [
    "### Added to prvious section"
   ]
  },
  {
   "cell_type": "code",
   "execution_count": null,
   "metadata": {},
   "outputs": [],
   "source": []
  }
 ],
 "metadata": {
  "kernelspec": {
   "display_name": "ml_with_tensor",
   "language": "python",
   "name": "ml_with_tensor"
  },
  "language_info": {
   "codemirror_mode": {
    "name": "ipython",
    "version": 3
   },
   "file_extension": ".py",
   "mimetype": "text/x-python",
   "name": "python",
   "nbconvert_exporter": "python",
   "pygments_lexer": "ipython3",
   "version": "3.8.5"
  }
 },
 "nbformat": 4,
 "nbformat_minor": 4
}
