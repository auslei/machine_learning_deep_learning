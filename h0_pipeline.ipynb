{
 "cells": [
  {
   "cell_type": "code",
   "execution_count": 2,
   "id": "54ac16ad-c928-4cf5-a471-efb2e520e990",
   "metadata": {
    "tags": []
   },
   "outputs": [],
   "source": [
    "from transformers import pipeline\n",
    "import pandas as pd\n",
    "\n",
    "text = \"\"\"After 6 months my daughter was complaining how the left airpod volume was considerably lower than right. That bad that she reverted back to the wired ones.\n",
    "\n",
    "Amazon were great in organising replacement. Issues arrised when I received an email suggesting I sent back the wrong airpods, serial numbers not matching. I contacted Apple, and they advised the case and airpods serial numbers should all match. They did advise possibly my daughter mixed up her case with a friends.\n",
    "\n",
    "This got me thinking, I checked the serial numbers of the replacement, the only serial number that matched that of the box was the case. So, either non genuine, or refurbished.\n",
    "\n",
    "I suggest purchasing from JBHIFI, Officeworks or the Goodguys. I ended up purchasing from the Goodguys and they price matched Officeworks special $189.00.\n",
    "\n",
    "If you do go down the path of purchasing from Amazon store, I encourage you to video the unboxing and serial numbers for evidence.\n",
    "\"\"\""
   ]
  },
  {
   "cell_type": "markdown",
   "id": "122ec112-21e2-43a0-8004-8c035ae4b0ce",
   "metadata": {},
   "source": [
    "## Sentiment Analysis (Classifier)"
   ]
  },
  {
   "cell_type": "code",
   "execution_count": 4,
   "id": "70da7971-394b-4f6e-8573-e5f9dd501823",
   "metadata": {
    "tags": []
   },
   "outputs": [
    {
     "name": "stderr",
     "output_type": "stream",
     "text": [
      "No model was supplied, defaulted to distilbert-base-uncased-finetuned-sst-2-english and revision af0f99b (https://huggingface.co/distilbert-base-uncased-finetuned-sst-2-english).\n",
      "Using a pipeline without specifying a model name and revision in production is not recommended.\n"
     ]
    },
    {
     "data": {
      "text/html": [
       "<div>\n",
       "<style scoped>\n",
       "    .dataframe tbody tr th:only-of-type {\n",
       "        vertical-align: middle;\n",
       "    }\n",
       "\n",
       "    .dataframe tbody tr th {\n",
       "        vertical-align: top;\n",
       "    }\n",
       "\n",
       "    .dataframe thead th {\n",
       "        text-align: right;\n",
       "    }\n",
       "</style>\n",
       "<table border=\"1\" class=\"dataframe\">\n",
       "  <thead>\n",
       "    <tr style=\"text-align: right;\">\n",
       "      <th></th>\n",
       "      <th>label</th>\n",
       "      <th>score</th>\n",
       "    </tr>\n",
       "  </thead>\n",
       "  <tbody>\n",
       "    <tr>\n",
       "      <th>0</th>\n",
       "      <td>NEGATIVE</td>\n",
       "      <td>0.999186</td>\n",
       "    </tr>\n",
       "  </tbody>\n",
       "</table>\n",
       "</div>"
      ],
      "text/plain": [
       "      label     score\n",
       "0  NEGATIVE  0.999186"
      ]
     },
     "execution_count": 4,
     "metadata": {},
     "output_type": "execute_result"
    }
   ],
   "source": [
    "# %%\n",
    "classifier = pipeline('text-classification')\n",
    "\n",
    "outputs = classifier(text)\n",
    "pd.DataFrame(outputs)"
   ]
  },
  {
   "cell_type": "markdown",
   "id": "4708b405-ea1e-4f70-962c-a04f0a5dc63d",
   "metadata": {},
   "source": [
    "## Name Entity Recognition"
   ]
  },
  {
   "cell_type": "code",
   "execution_count": 7,
   "id": "ed6ef066-a4fb-4096-ac46-0fe554a8cbc3",
   "metadata": {
    "tags": []
   },
   "outputs": [
    {
     "data": {
      "text/html": [
       "<div>\n",
       "<style scoped>\n",
       "    .dataframe tbody tr th:only-of-type {\n",
       "        vertical-align: middle;\n",
       "    }\n",
       "\n",
       "    .dataframe tbody tr th {\n",
       "        vertical-align: top;\n",
       "    }\n",
       "\n",
       "    .dataframe thead th {\n",
       "        text-align: right;\n",
       "    }\n",
       "</style>\n",
       "<table border=\"1\" class=\"dataframe\">\n",
       "  <thead>\n",
       "    <tr style=\"text-align: right;\">\n",
       "      <th></th>\n",
       "      <th>entity_group</th>\n",
       "      <th>score</th>\n",
       "      <th>word</th>\n",
       "      <th>start</th>\n",
       "      <th>end</th>\n",
       "    </tr>\n",
       "  </thead>\n",
       "  <tbody>\n",
       "    <tr>\n",
       "      <th>0</th>\n",
       "      <td>ORG</td>\n",
       "      <td>0.999340</td>\n",
       "      <td>Amazon</td>\n",
       "      <td>157</td>\n",
       "      <td>163</td>\n",
       "    </tr>\n",
       "    <tr>\n",
       "      <th>1</th>\n",
       "      <td>ORG</td>\n",
       "      <td>0.998753</td>\n",
       "      <td>Apple</td>\n",
       "      <td>325</td>\n",
       "      <td>330</td>\n",
       "    </tr>\n",
       "    <tr>\n",
       "      <th>2</th>\n",
       "      <td>ORG</td>\n",
       "      <td>0.996561</td>\n",
       "      <td>JBHIFI</td>\n",
       "      <td>679</td>\n",
       "      <td>685</td>\n",
       "    </tr>\n",
       "    <tr>\n",
       "      <th>3</th>\n",
       "      <td>ORG</td>\n",
       "      <td>0.999495</td>\n",
       "      <td>Officeworks</td>\n",
       "      <td>687</td>\n",
       "      <td>698</td>\n",
       "    </tr>\n",
       "    <tr>\n",
       "      <th>4</th>\n",
       "      <td>ORG</td>\n",
       "      <td>0.993956</td>\n",
       "      <td>Goodguys</td>\n",
       "      <td>706</td>\n",
       "      <td>714</td>\n",
       "    </tr>\n",
       "    <tr>\n",
       "      <th>5</th>\n",
       "      <td>ORG</td>\n",
       "      <td>0.991882</td>\n",
       "      <td>Goodguys</td>\n",
       "      <td>747</td>\n",
       "      <td>755</td>\n",
       "    </tr>\n",
       "    <tr>\n",
       "      <th>6</th>\n",
       "      <td>ORG</td>\n",
       "      <td>0.998596</td>\n",
       "      <td>Officeworks</td>\n",
       "      <td>779</td>\n",
       "      <td>790</td>\n",
       "    </tr>\n",
       "    <tr>\n",
       "      <th>7</th>\n",
       "      <td>ORG</td>\n",
       "      <td>0.985852</td>\n",
       "      <td>Amazon</td>\n",
       "      <td>855</td>\n",
       "      <td>861</td>\n",
       "    </tr>\n",
       "  </tbody>\n",
       "</table>\n",
       "</div>"
      ],
      "text/plain": [
       "  entity_group     score         word  start  end\n",
       "0          ORG  0.999340       Amazon    157  163\n",
       "1          ORG  0.998753        Apple    325  330\n",
       "2          ORG  0.996561       JBHIFI    679  685\n",
       "3          ORG  0.999495  Officeworks    687  698\n",
       "4          ORG  0.993956     Goodguys    706  714\n",
       "5          ORG  0.991882     Goodguys    747  755\n",
       "6          ORG  0.998596  Officeworks    779  790\n",
       "7          ORG  0.985852       Amazon    855  861"
      ]
     },
     "execution_count": 7,
     "metadata": {},
     "output_type": "execute_result"
    }
   ],
   "source": [
    "model = \"dbmdz/bert-large-cased-finetuned-conll03-english\"\n",
    "# %% Named Entity Recognition\n",
    "ner_tagger = pipeline(task = \"ner\", model = model, aggregation_strategy = \"simple\")\n",
    "outputs = ner_tagger(text)\n",
    "pd.DataFrame(outputs)\n"
   ]
  },
  {
   "cell_type": "markdown",
   "id": "17f5a6ad-fa50-4f23-a220-0dbd8e95bb97",
   "metadata": {},
   "source": [
    "## Question and Answer"
   ]
  },
  {
   "cell_type": "code",
   "execution_count": 15,
   "id": "4819f1f3-06f3-413d-a81e-0f16b2c138d1",
   "metadata": {
    "tags": []
   },
   "outputs": [
    {
     "name": "stdout",
     "output_type": "stream",
     "text": [
      "{'score': 0.11276600509881973, 'start': 51, 'end': 103, 'answer': 'left airpod volume was considerably lower than right'}\n"
     ]
    }
   ],
   "source": [
    "# %% Q&A\n",
    "model = \"deepset/roberta-base-squad2\"\n",
    "reader = pipeline(task = \"question-answering\", model = model)\n",
    "question = \"What is the problem?\"\n",
    "outputs = reader(question = question, context = text)\n",
    "print(outputs)\n"
   ]
  },
  {
   "cell_type": "markdown",
   "id": "953556e1-ec9a-45a0-babc-78e264c6929f",
   "metadata": {},
   "source": [
    "## Summarisation"
   ]
  },
  {
   "cell_type": "code",
   "execution_count": 13,
   "id": "7013fb53-1ccf-4ebc-983f-47d58ad55c5e",
   "metadata": {
    "tags": []
   },
   "outputs": [
    {
     "name": "stderr",
     "output_type": "stream",
     "text": [
      "No model was supplied, defaulted to sshleifer/distilbart-cnn-12-6 and revision a4f8f3e (https://huggingface.co/sshleifer/distilbart-cnn-12-6).\n",
      "Using a pipeline without specifying a model name and revision in production is not recommended.\n"
     ]
    },
    {
     "name": "stdout",
     "output_type": "stream",
     "text": [
      " After 6 months my daughter was complaining how the left airpod volume was considerably lower than right. That bad that she reverted back to the wired ones. Amazon were great in organising replacement. Apple advised the case and airpods serial numbers should all match. The only serial number that matched\n"
     ]
    }
   ],
   "source": [
    "# %% Summarisation\n",
    "summariser = pipeline(task = \"summarization\")\n",
    "outputs = summariser(text, max_length = 60, clean_up_tokenization_spaces = True)\n",
    "print(outputs[0]['summary_text'])"
   ]
  },
  {
   "cell_type": "markdown",
   "id": "854174d9-d230-46e5-8471-de0ad1efbabc",
   "metadata": {},
   "source": [
    "## Translation"
   ]
  },
  {
   "cell_type": "code",
   "execution_count": 3,
   "id": "d63fa308-2aa2-477d-b632-19829f724c8b",
   "metadata": {
    "tags": []
   },
   "outputs": [
    {
     "name": "stderr",
     "output_type": "stream",
     "text": [
      "/mnt/c/dev/machine_learning_deep_learning/.env/lib/python3.10/site-packages/transformers/models/auto/modeling_auto.py:1322: FutureWarning: The class `AutoModelWithLMHead` is deprecated and will be removed in a future version. Please use `AutoModelForCausalLM` for causal language models, `AutoModelForMaskedLM` for masked language models and `AutoModelForSeq2SeqLM` for encoder-decoder models.\n",
      "  warnings.warn(\n",
      "/mnt/c/dev/machine_learning_deep_learning/.env/lib/python3.10/site-packages/transformers/models/marian/tokenization_marian.py:194: UserWarning: Recommended: pip install sacremoses.\n",
      "  warnings.warn(\"Recommended: pip install sacremoses.\")\n"
     ]
    },
    {
     "data": {
      "text/plain": [
       "[{'translation_text': '6个月后,我的女儿抱怨说左空投的量大大低于右。 糟糕的是, 她又回到了有线飞机上。 亚马逊在组织替换方面非常出色。 当我收到一封电子邮件, 暗示我寄回错误的空投, 序列号不匹配时, 问题就大为不妙了。 我联系了苹果, 他们告诉了这个案例, 空投的序列号应该都匹配了。 他们建议我的女儿可能把她的案件和朋友混在一起。 这让我想到, 我检查了替换的序列号, 替换的序列号是唯一与盒子相符的序列号。 因此, 要么是不真实的, 要么是翻新的。 我建议从JBHIFI、 Officeworks 或 Goodguys 购买。 我最后从Goodguys购买了价格, 并且他们的价格与办公室的特价189. 00 。 如果你从亚马逊商店购买的话, 我鼓励你录下解字和序列号作为证据。'}]"
      ]
     },
     "execution_count": 3,
     "metadata": {},
     "output_type": "execute_result"
    }
   ],
   "source": [
    "# %% Translation\n",
    "from transformers import AutoModelWithLMHead, AutoTokenizer, pipeline\n",
    "\n",
    "mode_name = 'Helsinki-NLP/opus-mt-en-zh'\n",
    "model = AutoModelWithLMHead.from_pretrained(mode_name)\n",
    "tokenizer = AutoTokenizer.from_pretrained(mode_name)\n",
    "\n",
    "translation = pipeline(task = \"translation_en_to_zh\", model = model, tokenizer = tokenizer)\n",
    "translation(text)\n"
   ]
  },
  {
   "cell_type": "markdown",
   "id": "2874bf6f-017b-4a32-b2e0-c788d7a90c27",
   "metadata": {},
   "source": [
    "## Text Generation"
   ]
  },
  {
   "cell_type": "code",
   "execution_count": 7,
   "id": "12dd7787-c78b-467e-b474-d027efcfbc3c",
   "metadata": {
    "tags": []
   },
   "outputs": [
    {
     "name": "stderr",
     "output_type": "stream",
     "text": [
      "Setting `pad_token_id` to `eos_token_id`:50256 for open-end generation.\n"
     ]
    },
    {
     "name": "stdout",
     "output_type": "stream",
     "text": [
      "After 6 months my daughter was complaining how the left airpod volume was considerably lower than right. That bad that she reverted back to the wired ones.\n",
      "\n",
      "Amazon were great in organising replacement. Issues arrised when I received an email suggesting I sent back the wrong airpods, serial numbers not matching. I contacted Apple, and they advised the case and airpods serial numbers should all match. They did advise possibly my daughter mixed up her case with a friends.\n",
      "\n",
      "This got me thinking, I checked the serial numbers of the replacement, the only serial number that matched that of the box was the case. So, either non genuine, or refurbished.\n",
      "\n",
      "I suggest purchasing from JBHIFI, Officeworks or the Goodguys. I ended up purchasing from the Goodguys and they price matched Officeworks special $189.00.\n",
      "\n",
      "If you do go down the path of purchasing from Amazon store, I encourage you to video the unboxing and serial numbers for evidence.\n",
      "\n",
      "\n",
      "Customer Service Response:\n",
      "Dear customer, sorry to hear about your issue.\n",
      "\n",
      "Since we all want our home Airpod for some other reason, Roman has made a couple of recommendations that have worked in the past. They did the following:\n",
      "\n",
      "-Replace each box with a new one.\n",
      "\n",
      "-Place them in the case and the one with the first box.\n",
      "\n",
      "-Install the new one and replace with the old one.\n",
      "\n",
      "\n",
      "They did this and I have had no further problems.\n",
      "\n",
      "\n",
      "Hope these two of you can be quick on the uptake, but be advised if you wish to send anything back to us, we would appreciate a full refund. We have been in touch with the Amazon staff to let them know or let them know if they need any further assistance to replace an Airpod that has also been ordered or bought again.\n",
      "\n",
      "Thank you for any help you might be able to produce to our Customer Service branch\n"
     ]
    }
   ],
   "source": [
    "# %% Text Generation\n",
    "generator = pipeline(\"text-generation\", model = \"gpt2\")\n",
    "response = \"Dear customer, sorry to hear about your issue.\"\n",
    "prompt = text + \"\\n\\nCustomer Service Response:\\n\" + response\n",
    "outputs= generator(prompt, max_length = 400)\n",
    "print(outputs[0]['generated_text'])"
   ]
  },
  {
   "cell_type": "code",
   "execution_count": 25,
   "id": "c17ff1b2-0c01-4adf-ac36-e90df2a337c6",
   "metadata": {
    "tags": []
   },
   "outputs": [
    {
     "ename": "ValueError",
     "evalue": "The task does not provide any default models for options ('en', 'zh')",
     "output_type": "error",
     "traceback": [
      "\u001b[0;31m---------------------------------------------------------------------------\u001b[0m",
      "\u001b[0;31mValueError\u001b[0m                                Traceback (most recent call last)",
      "Cell \u001b[0;32mIn[25], line 1\u001b[0m\n\u001b[0;32m----> 1\u001b[0m translation \u001b[38;5;241m=\u001b[39m \u001b[43mpipeline\u001b[49m\u001b[43m(\u001b[49m\u001b[43mtask\u001b[49m\u001b[43m \u001b[49m\u001b[38;5;241;43m=\u001b[39;49m\u001b[43m \u001b[49m\u001b[38;5;124;43m\"\u001b[39;49m\u001b[38;5;124;43mtranslation_en_to_zh\u001b[39;49m\u001b[38;5;124;43m\"\u001b[39;49m\u001b[43m)\u001b[49m\n",
      "File \u001b[0;32m/mnt/c/dev/machine_learning_deep_learning/.env/lib/python3.10/site-packages/transformers/pipelines/__init__.py:742\u001b[0m, in \u001b[0;36mpipeline\u001b[0;34m(task, model, config, tokenizer, feature_extractor, image_processor, framework, revision, use_fast, use_auth_token, device, device_map, torch_dtype, trust_remote_code, model_kwargs, pipeline_class, **kwargs)\u001b[0m\n\u001b[1;32m    739\u001b[0m \u001b[38;5;66;03m# Use default model/config/tokenizer for the task if no model is provided\u001b[39;00m\n\u001b[1;32m    740\u001b[0m \u001b[38;5;28;01mif\u001b[39;00m model \u001b[38;5;129;01mis\u001b[39;00m \u001b[38;5;28;01mNone\u001b[39;00m:\n\u001b[1;32m    741\u001b[0m     \u001b[38;5;66;03m# At that point framework might still be undetermined\u001b[39;00m\n\u001b[0;32m--> 742\u001b[0m     model, default_revision \u001b[38;5;241m=\u001b[39m \u001b[43mget_default_model_and_revision\u001b[49m\u001b[43m(\u001b[49m\u001b[43mtargeted_task\u001b[49m\u001b[43m,\u001b[49m\u001b[43m \u001b[49m\u001b[43mframework\u001b[49m\u001b[43m,\u001b[49m\u001b[43m \u001b[49m\u001b[43mtask_options\u001b[49m\u001b[43m)\u001b[49m\n\u001b[1;32m    743\u001b[0m     revision \u001b[38;5;241m=\u001b[39m revision \u001b[38;5;28;01mif\u001b[39;00m revision \u001b[38;5;129;01mis\u001b[39;00m \u001b[38;5;129;01mnot\u001b[39;00m \u001b[38;5;28;01mNone\u001b[39;00m \u001b[38;5;28;01melse\u001b[39;00m default_revision\n\u001b[1;32m    744\u001b[0m     logger\u001b[38;5;241m.\u001b[39mwarning(\n\u001b[1;32m    745\u001b[0m         \u001b[38;5;124mf\u001b[39m\u001b[38;5;124m\"\u001b[39m\u001b[38;5;124mNo model was supplied, defaulted to \u001b[39m\u001b[38;5;132;01m{\u001b[39;00mmodel\u001b[38;5;132;01m}\u001b[39;00m\u001b[38;5;124m and revision\u001b[39m\u001b[38;5;124m\"\u001b[39m\n\u001b[1;32m    746\u001b[0m         \u001b[38;5;124mf\u001b[39m\u001b[38;5;124m\"\u001b[39m\u001b[38;5;124m \u001b[39m\u001b[38;5;132;01m{\u001b[39;00mrevision\u001b[38;5;132;01m}\u001b[39;00m\u001b[38;5;124m (\u001b[39m\u001b[38;5;132;01m{\u001b[39;00mHUGGINGFACE_CO_RESOLVE_ENDPOINT\u001b[38;5;132;01m}\u001b[39;00m\u001b[38;5;124m/\u001b[39m\u001b[38;5;132;01m{\u001b[39;00mmodel\u001b[38;5;132;01m}\u001b[39;00m\u001b[38;5;124m).\u001b[39m\u001b[38;5;130;01m\\n\u001b[39;00m\u001b[38;5;124m\"\u001b[39m\n\u001b[1;32m    747\u001b[0m         \u001b[38;5;124m\"\u001b[39m\u001b[38;5;124mUsing a pipeline without specifying a model name and revision in production is not recommended.\u001b[39m\u001b[38;5;124m\"\u001b[39m\n\u001b[1;32m    748\u001b[0m     )\n",
      "File \u001b[0;32m/mnt/c/dev/machine_learning_deep_learning/.env/lib/python3.10/site-packages/transformers/pipelines/base.py:379\u001b[0m, in \u001b[0;36mget_default_model_and_revision\u001b[0;34m(targeted_task, framework, task_options)\u001b[0m\n\u001b[1;32m    377\u001b[0m \u001b[38;5;28;01mif\u001b[39;00m task_options:\n\u001b[1;32m    378\u001b[0m     \u001b[38;5;28;01mif\u001b[39;00m task_options \u001b[38;5;129;01mnot\u001b[39;00m \u001b[38;5;129;01min\u001b[39;00m defaults:\n\u001b[0;32m--> 379\u001b[0m         \u001b[38;5;28;01mraise\u001b[39;00m \u001b[38;5;167;01mValueError\u001b[39;00m(\u001b[38;5;124mf\u001b[39m\u001b[38;5;124m\"\u001b[39m\u001b[38;5;124mThe task does not provide any default models for options \u001b[39m\u001b[38;5;132;01m{\u001b[39;00mtask_options\u001b[38;5;132;01m}\u001b[39;00m\u001b[38;5;124m\"\u001b[39m)\n\u001b[1;32m    380\u001b[0m     default_models \u001b[38;5;241m=\u001b[39m defaults[task_options][\u001b[38;5;124m\"\u001b[39m\u001b[38;5;124mmodel\u001b[39m\u001b[38;5;124m\"\u001b[39m]\n\u001b[1;32m    381\u001b[0m \u001b[38;5;28;01melif\u001b[39;00m \u001b[38;5;124m\"\u001b[39m\u001b[38;5;124mmodel\u001b[39m\u001b[38;5;124m\"\u001b[39m \u001b[38;5;129;01min\u001b[39;00m defaults:\n",
      "\u001b[0;31mValueError\u001b[0m: The task does not provide any default models for options ('en', 'zh')"
     ]
    }
   ],
   "source": [
    "translation = pipeline(task = \"translation_en_to_zh\")"
   ]
  },
  {
   "cell_type": "code",
   "execution_count": null,
   "id": "fd38a6ca-2228-46c3-b971-36de91660e41",
   "metadata": {},
   "outputs": [],
   "source": []
  }
 ],
 "metadata": {
  "kernelspec": {
   "display_name": "Python 3 (ipykernel)",
   "language": "python",
   "name": "python3"
  },
  "language_info": {
   "codemirror_mode": {
    "name": "ipython",
    "version": 3
   },
   "file_extension": ".py",
   "mimetype": "text/x-python",
   "name": "python",
   "nbconvert_exporter": "python",
   "pygments_lexer": "ipython3",
   "version": "3.10.6"
  }
 },
 "nbformat": 4,
 "nbformat_minor": 5
}
