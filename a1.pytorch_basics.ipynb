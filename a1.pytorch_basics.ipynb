{
 "cells": [
  {
   "cell_type": "markdown",
   "id": "df54fdfb-6c8f-4e83-b514-9c0f3c865e49",
   "metadata": {},
   "source": [
    "# Tensors and Operations"
   ]
  },
  {
   "cell_type": "code",
   "execution_count": 36,
   "id": "13d558ba-1807-49cd-8fc5-f8107e006998",
   "metadata": {
    "tags": []
   },
   "outputs": [
    {
     "name": "stdout",
     "output_type": "stream",
     "text": [
      "2.0.0\n"
     ]
    }
   ],
   "source": [
    "import torch\n",
    "import torch.nn as nn\n",
    "import torch.optim as optim\n",
    "\n",
    "print(torch.__version__)"
   ]
  },
  {
   "cell_type": "code",
   "execution_count": 2,
   "id": "06e9b136-81f9-4acb-ac82-87a07e8b61b8",
   "metadata": {
    "tags": []
   },
   "outputs": [
    {
     "data": {
      "text/plain": [
       "(0, torch.Size([]))"
      ]
     },
     "execution_count": 2,
     "metadata": {},
     "output_type": "execute_result"
    }
   ],
   "source": [
    "# 0 dimensional tensor (scalar)\n",
    "s = torch.tensor(7)\n",
    "s.ndim, s.shape"
   ]
  },
  {
   "cell_type": "code",
   "execution_count": 3,
   "id": "d8dd69d2-214b-472b-a401-5fb09addcab6",
   "metadata": {
    "tags": []
   },
   "outputs": [
    {
     "data": {
      "text/plain": [
       "(1, torch.Size([5]))"
      ]
     },
     "execution_count": 3,
     "metadata": {},
     "output_type": "execute_result"
    }
   ],
   "source": [
    "# 1 dimensional tensor (vector)\n",
    "t1 = torch.Tensor([1,2,3,4,5])\n",
    "t1.ndim, t1.shape"
   ]
  },
  {
   "cell_type": "code",
   "execution_count": 4,
   "id": "a2e1fd70-be91-4310-a8a1-80ac725cbc00",
   "metadata": {
    "tags": []
   },
   "outputs": [
    {
     "data": {
      "text/plain": [
       "(2, torch.Size([3, 3]))"
      ]
     },
     "execution_count": 4,
     "metadata": {},
     "output_type": "execute_result"
    }
   ],
   "source": [
    "# 2 dimensional tensor (matrix)\n",
    "t2 = torch.Tensor([[1,2,3],\n",
    "                   [4,5,6],\n",
    "                   [7,8,9]])\n",
    "\n",
    "t2.ndim, t2.shape"
   ]
  },
  {
   "cell_type": "code",
   "execution_count": 5,
   "id": "336f1c50-bf8e-4c75-aaaf-19e061b6cbab",
   "metadata": {},
   "outputs": [
    {
     "name": "stdout",
     "output_type": "stream",
     "text": [
      "tensor([[0.2341, 0.5442, 0.8334],\n",
      "        [0.7943, 0.4374, 0.1378],\n",
      "        [0.2007, 0.4393, 0.9788]])\n",
      "tensor([[0.],\n",
      "        [0.],\n",
      "        [0.]])\n",
      "tensor([[1., 1., 1.]])\n"
     ]
    }
   ],
   "source": [
    "# random, zeros and ones\n",
    "r = torch.rand(size = (3, 3))\n",
    "print(r)\n",
    "\n",
    "z = torch.zeros(size = (3, 1))\n",
    "print(z)\n",
    "\n",
    "o = torch.ones(size = (1, 3))\n",
    "print(o)"
   ]
  },
  {
   "cell_type": "code",
   "execution_count": 6,
   "id": "2db74124-b7e5-43fd-bc20-8c7d8e81f886",
   "metadata": {
    "tags": []
   },
   "outputs": [
    {
     "name": "stdout",
     "output_type": "stream",
     "text": [
      "tensor([[0.7651, 0.8294, 0.9434, 0.0870],\n",
      "        [0.1210, 0.2442, 0.1636, 0.5569],\n",
      "        [0.2561, 0.0975, 0.9815, 0.1531]])\n",
      "Shape of tensor: torch.Size([3, 4])\n",
      "Datatype of tensor: torch.float32\n",
      "Device tensor is stored on: cpu\n"
     ]
    }
   ],
   "source": [
    "# Create a tensor\n",
    "some_tensor = torch.rand(3, 4)\n",
    "\n",
    "# Find out details about it\n",
    "print(some_tensor)\n",
    "print(f\"Shape of tensor: {some_tensor.shape}\")\n",
    "print(f\"Datatype of tensor: {some_tensor.dtype}\")\n",
    "print(f\"Device tensor is stored on: {some_tensor.device}\") # will default to CPU"
   ]
  },
  {
   "cell_type": "code",
   "execution_count": 7,
   "id": "23129f75-a4c0-4794-b277-8a0589fd2a51",
   "metadata": {
    "tags": []
   },
   "outputs": [
    {
     "data": {
      "text/plain": [
       "tensor([[0.7743],\n",
       "        [0.5129]])"
      ]
     },
     "execution_count": 7,
     "metadata": {},
     "output_type": "execute_result"
    }
   ],
   "source": [
    "mat1 = torch.rand(2,3)\n",
    "mat2 = torch.rand(3,1)\n",
    "\n",
    "mat1@mat2 #dot product (same as torch.matmul(mat1, mat2))"
   ]
  },
  {
   "cell_type": "markdown",
   "id": "7ae8cde7-4e17-41eb-b4f1-0e4bab8bdc20",
   "metadata": {},
   "source": [
    "## Linear"
   ]
  },
  {
   "cell_type": "code",
   "execution_count": 8,
   "id": "0aeb5c21-65c8-4778-8213-84a497df8e70",
   "metadata": {
    "tags": []
   },
   "outputs": [
    {
     "data": {
      "text/plain": [
       "tensor([[ 27.,  30.,  33.],\n",
       "        [ 61.,  68.,  75.],\n",
       "        [ 95., 106., 117.]])"
      ]
     },
     "execution_count": 8,
     "metadata": {},
     "output_type": "execute_result"
    }
   ],
   "source": [
    "# Shapes need to be in the right way  \n",
    "tensor_A = torch.tensor([[1, 2],\n",
    "                         [3, 4],\n",
    "                         [5, 6]], dtype=torch.float32)\n",
    "\n",
    "tensor_B = torch.tensor([[7, 10],\n",
    "                         [8, 11], \n",
    "                         [9, 12]], dtype=torch.float32)\n",
    "\n",
    "torch.matmul(tensor_A, tensor_B.T) # (this will error)"
   ]
  },
  {
   "cell_type": "code",
   "execution_count": 9,
   "id": "0fcb0649-5ce3-47fc-8351-d05f5b30394c",
   "metadata": {
    "tags": []
   },
   "outputs": [
    {
     "name": "stdout",
     "output_type": "stream",
     "text": [
      "Input shape: torch.Size([3, 2])\n",
      "\n",
      "Output:\n",
      "tensor([[2.2368, 1.2292, 0.4714, 0.3864, 0.1309, 0.9838],\n",
      "        [4.4919, 2.1970, 0.4469, 0.5285, 0.3401, 2.4777],\n",
      "        [6.7469, 3.1648, 0.4224, 0.6705, 0.5493, 3.9716]],\n",
      "       grad_fn=<AddmmBackward0>)\n",
      "\n",
      "Output shape: torch.Size([3, 6])\n"
     ]
    }
   ],
   "source": [
    "# Since the linear layer starts with a random weights matrix, let's make it reproducible (more on this later)\n",
    "torch.manual_seed(42)\n",
    "# This uses matrix multiplication\n",
    "linear = torch.nn.Linear(in_features=2,  # in_features = matches inner dimension of input \n",
    "                         out_features=6,\n",
    "                         bias=True) # out_features = describes outer value \n",
    "x = tensor_A\n",
    "output = linear(x)\n",
    "print(f\"Input shape: {x.shape}\\n\")\n",
    "print(f\"Output:\\n{output}\\n\\nOutput shape: {output.shape}\")"
   ]
  },
  {
   "cell_type": "code",
   "execution_count": 10,
   "id": "17bc34dd-2102-4c6f-9a8b-4f102c78d941",
   "metadata": {
    "tags": []
   },
   "outputs": [
    {
     "data": {
      "text/plain": [
       "(Parameter containing:\n",
       " tensor([[ 0.5406,  0.5869],\n",
       "         [-0.1657,  0.6496],\n",
       "         [-0.1549,  0.1427],\n",
       "         [-0.3443,  0.4153],\n",
       "         [ 0.6233, -0.5188],\n",
       "         [ 0.6146,  0.1323]], requires_grad=True),\n",
       " Parameter containing:\n",
       " tensor([ 0.5224,  0.0958,  0.3410, -0.0998,  0.5451,  0.1045],\n",
       "        requires_grad=True))"
      ]
     },
     "execution_count": 10,
     "metadata": {},
     "output_type": "execute_result"
    }
   ],
   "source": [
    "linear.weight, linear.bias"
   ]
  },
  {
   "cell_type": "markdown",
   "id": "4841cb10-a994-4527-9d03-51b1b66b75b5",
   "metadata": {},
   "source": [
    "## Min, Max, ArgMin, ArgMax.\n",
    "\n",
    "Basically the same as numpy"
   ]
  },
  {
   "cell_type": "code",
   "execution_count": 11,
   "id": "0ad326cf-badb-4734-a7d7-827260e33c84",
   "metadata": {
    "tags": []
   },
   "outputs": [
    {
     "data": {
      "text/plain": [
       "tensor([[ 0, 10, 20, 30, 40],\n",
       "        [50, 60, 70, 80, 90]])"
      ]
     },
     "execution_count": 11,
     "metadata": {},
     "output_type": "execute_result"
    }
   ],
   "source": [
    "# Create a tensor\n",
    "x = torch.arange(0, 100, 10).reshape(2,5)\n",
    "x"
   ]
  },
  {
   "cell_type": "code",
   "execution_count": 12,
   "id": "a511d3ff-65e5-4200-b8d4-eb568a81309d",
   "metadata": {
    "tags": []
   },
   "outputs": [
    {
     "data": {
      "text/plain": [
       "(tensor(90), tensor(0), tensor(45.), tensor(450))"
      ]
     },
     "execution_count": 12,
     "metadata": {},
     "output_type": "execute_result"
    }
   ],
   "source": [
    "# require casting to float for mean\n",
    "torch.max(x), torch.min(x), torch.mean(x.type(torch.float32)), torch.sum(x)"
   ]
  },
  {
   "cell_type": "code",
   "execution_count": 13,
   "id": "1c639da9-071c-4a98-bfdd-ffdda13fe913",
   "metadata": {
    "tags": []
   },
   "outputs": [
    {
     "data": {
      "text/plain": [
       "tensor([ 0, 10, 20, 30, 40, 50, 60, 70, 80, 90])"
      ]
     },
     "execution_count": 13,
     "metadata": {},
     "output_type": "execute_result"
    }
   ],
   "source": [
    "a = x.reshape(1, -1).squeeze()\n",
    "a"
   ]
  },
  {
   "cell_type": "markdown",
   "id": "8d71261e-f15e-4064-bb0b-18c5cde48914",
   "metadata": {
    "tags": []
   },
   "source": [
    "## Simple NN"
   ]
  },
  {
   "cell_type": "code",
   "execution_count": 125,
   "id": "a0d7f983-4040-4e18-a049-ba75ad414145",
   "metadata": {},
   "outputs": [],
   "source": [
    "X = torch.arange(1, 100, 0.5).reshape(-1,1)\n",
    "weight = torch.tensor(1.5)\n",
    "bias = torch.tensor(7)\n",
    "noise = torch.rand(X.shape) * 10\n",
    "y = X * weight + bias + noise"
   ]
  },
  {
   "cell_type": "code",
   "execution_count": 131,
   "id": "a76963cd-04e4-4e3a-8826-ffdb99844d04",
   "metadata": {},
   "outputs": [
    {
     "data": {
      "text/plain": [
       "<Axes: >"
      ]
     },
     "execution_count": 131,
     "metadata": {},
     "output_type": "execute_result"
    },
    {
     "data": {
      "image/png": "[encoded data removed]",
      "text/plain": [
       "<Figure size 640x480 with 1 Axes>"
      ]
     },
     "metadata": {},
     "output_type": "display_data"
    }
   ],
   "source": [
    "import seaborn as sns\n",
    "sns.set_theme(style=\"ticks\")\n",
    "\n",
    "sns.lineplot(x = X.squeeze(), y = y.squeeze())"
   ]
  },
  {
   "cell_type": "code",
   "execution_count": 117,
   "id": "9112e14e-9a37-4101-8fe7-deded9b8c9ee",
   "metadata": {},
   "outputs": [
    {
     "name": "stdout",
     "output_type": "stream",
     "text": [
      "loss: 98.38945007324219\n",
      "loss: 104.6805419921875\n",
      "loss: 329.1604919433594\n",
      "loss: 254.49270629882812\n",
      "loss: 456.5322570800781\n",
      "loss: 329.11480712890625\n",
      "loss: 172.618408203125\n",
      "loss: 388.5721740722656\n",
      "loss: 560.7239990234375\n",
      "loss: 519.0894775390625\n",
      "loss: 472.15118408203125\n",
      "loss: 288.5527648925781\n",
      "loss: 333.5289001464844\n",
      "loss: 631.2720336914062\n",
      "loss: 350.88690185546875\n",
      "loss: 556.5034790039062\n",
      "loss: 486.7010498046875\n",
      "loss: 604.841064453125\n",
      "loss: 545.2728271484375\n",
      "loss: 371.5318603515625\n",
      "loss: 448.28106689453125\n",
      "loss: 756.1282958984375\n",
      "loss: 549.8430786132812\n",
      "loss: 632.1910400390625\n",
      "loss: 387.75238037109375\n",
      "loss: 669.4434814453125\n",
      "loss: 409.368408203125\n",
      "loss: 365.8955078125\n",
      "loss: 453.6811218261719\n",
      "loss: 316.1009521484375\n",
      "loss: 286.4274597167969\n",
      "loss: 307.7015380859375\n",
      "loss: 295.05816650390625\n",
      "loss: 189.280029296875\n",
      "loss: 308.9330139160156\n",
      "loss: 99.17312622070312\n",
      "loss: 297.6056823730469\n",
      "loss: 309.7104797363281\n",
      "loss: 154.31382751464844\n",
      "loss: 88.69878387451172\n",
      "loss: 26.658479690551758\n",
      "loss: 133.94125366210938\n",
      "loss: 147.96432495117188\n",
      "loss: 122.08587646484375\n",
      "loss: 35.545921325683594\n",
      "loss: 40.90012741088867\n",
      "loss: 74.8258285522461\n",
      "loss: 11.69792652130127\n",
      "loss: 0.12011011689901352\n",
      "loss: 8.014416694641113\n",
      "loss: 18.34991455078125\n",
      "loss: 10.672704696655273\n",
      "loss: 25.969728469848633\n",
      "loss: 8.166756629943848\n",
      "loss: 4.223904132843018\n",
      "loss: 5.235249996185303\n",
      "loss: 2.94647479057312\n",
      "loss: 6.377713203430176\n",
      "loss: 31.69858741760254\n",
      "loss: 11.941756248474121\n",
      "loss: 1.5464054346084595\n",
      "loss: 20.294931411743164\n",
      "loss: 2.9412386417388916\n",
      "loss: 7.018222332000732\n",
      "loss: 0.3320619463920593\n",
      "loss: 5.914007663726807\n",
      "loss: 31.67045783996582\n",
      "loss: 0.012855987064540386\n",
      "loss: 7.321163177490234\n",
      "loss: 1.331203818321228\n",
      "loss: 8.489914894104004\n",
      "loss: 0.0914357379078865\n",
      "loss: 0.663358747959137\n",
      "loss: 3.5363118648529053\n",
      "loss: 15.926780700683594\n",
      "loss: 3.178589105606079\n",
      "loss: 0.22691552340984344\n",
      "loss: 7.896944046020508\n",
      "loss: 19.62618637084961\n",
      "loss: 2.273613691329956\n",
      "loss: 0.2753302752971649\n",
      "loss: 1.6202831268310547\n",
      "loss: 19.273300170898438\n",
      "loss: 6.091186046600342\n",
      "loss: 10.636420249938965\n",
      "loss: 4.690433979034424\n",
      "loss: 1.467034935951233\n",
      "loss: 35.3681526184082\n",
      "loss: 8.888288497924805\n",
      "loss: 28.520694732666016\n",
      "loss: 11.45374584197998\n",
      "loss: 0.008058195933699608\n",
      "loss: 0.7011532187461853\n",
      "loss: 37.942169189453125\n",
      "loss: 0.1383398175239563\n",
      "loss: 12.771876335144043\n",
      "loss: 12.196065902709961\n",
      "loss: 13.009309768676758\n",
      "Finished Training\n"
     ]
    }
   ],
   "source": [
    "X = torch.arange(1, 100, 0.5).reshape(-1)\n",
    "w = torch.tensor([1.5])\n",
    "b = torch.tensor(7)\n",
    "n = torch.rand(X.shape) * 10\n",
    "y = X * weight + bias + noise\n",
    "\n",
    "# Define the neural network architecture\n",
    "class Net(nn.Module):\n",
    "    def __init__(self):\n",
    "        super(Net, self).__init__()\n",
    "        self.w = nn.Parameter(torch.tensor(0.,), requires_grad = True)\n",
    "        self.b = nn.Parameter(torch.tensor(0.), requires_grad = True)\n",
    "\n",
    "    def forward(self, x):\n",
    "        output = x * self.w + self.b\n",
    "        return output\n",
    "\n",
    "model = Net()\n",
    "\n",
    "# Define the loss function and optimizer\n",
    "criterion = nn.MSELoss()\n",
    "optimizer = optim.SGD(model.parameters(), lr=0.0001)\n",
    "\n",
    "# Train the model\n",
    "for epoch in range(1):\n",
    "    \n",
    "    running_loss = 0.0\n",
    "    \n",
    "    for i in range(98):\n",
    "        running_loss = 0.0\n",
    "        inputs, labels = X.unsqueeze(1)[i], y.unsqueeze(1)[i]\n",
    "        #print(inputs, labels)\n",
    "\n",
    "        outputs = model(inputs)\n",
    "        loss = criterion(outputs, labels)\n",
    "        \n",
    "        optimizer.zero_grad()\n",
    "        loss.backward()\n",
    "        optimizer.step()\n",
    "\n",
    "        l = loss.item()\n",
    "        running_loss += l\n",
    "        print(f\"loss: {l}\")\n",
    "\n",
    "print('Finished Training')"
   ]
  },
  {
   "cell_type": "code",
   "execution_count": 118,
   "id": "655c67b3-04a0-4ac6-8675-f3fa66ab4918",
   "metadata": {},
   "outputs": [
    {
     "name": "stdout",
     "output_type": "stream",
     "text": [
      "OrderedDict([('w', tensor(1.7474)), ('b', tensor(0.1609))])\n"
     ]
    }
   ],
   "source": [
    "# Access the weights of the first linear layer\n",
    "weights = model.state_dict()\n",
    "print(weights)"
   ]
  },
  {
   "cell_type": "code",
   "execution_count": 121,
   "id": "74749333-2b34-482c-8534-d2d043b19723",
   "metadata": {},
   "outputs": [
    {
     "data": {
      "text/plain": [
       "<Axes: >"
      ]
     },
     "execution_count": 121,
     "metadata": {},
     "output_type": "execute_result"
    },
    {
     "data": {
      "image/png": "[encoded data removed]",
      "text/plain": [
       "<Figure size 640x480 with 1 Axes>"
      ]
     },
     "metadata": {},
     "output_type": "display_data"
    }
   ],
   "source": [
    "y_pred = model(X)\n",
    "\n",
    "\n",
    "import seaborn as sns\n",
    "sns.set_theme(style=\"ticks\")\n",
    "\n",
    "sns.lineplot(x = X, y = y)\n",
    "sns.lineplot(x = X, y = y_pred.squeeze().detach().numpy())"
   ]
  },
  {
   "cell_type": "code",
   "execution_count": 74,
   "id": "fdd9d157-8035-47bd-9483-6f1a6e302d63",
   "metadata": {},
   "outputs": [
    {
     "data": {
      "text/plain": [
       "tensor([ -0.4350,  -0.7285,  -1.0221,  -1.3156,  -1.6091,  -1.9026,  -2.1961,\n",
       "         -2.4896,  -2.7831,  -3.0766,  -3.3701,  -3.6636,  -3.9571,  -4.2506,\n",
       "         -4.5441,  -4.8376,  -5.1311,  -5.4246,  -5.7181,  -6.0116,  -6.3051,\n",
       "         -6.5986,  -6.8921,  -7.1856,  -7.4791,  -7.7726,  -8.0661,  -8.3596,\n",
       "         -8.6531,  -8.9466,  -9.2401,  -9.5336,  -9.8271, -10.1207, -10.4142,\n",
       "        -10.7077, -11.0012, -11.2947, -11.5882, -11.8817, -12.1752, -12.4687,\n",
       "        -12.7622, -13.0557, -13.3492, -13.6427, -13.9362, -14.2297, -14.5232,\n",
       "        -14.8167, -15.1102, -15.4037, -15.6972, -15.9907, -16.2842, -16.5777,\n",
       "        -16.8712, -17.1647, -17.4582, -17.7517, -18.0452, -18.3387, -18.6322,\n",
       "        -18.9257, -19.2192, -19.5128, -19.8063, -20.0998, -20.3933, -20.6868,\n",
       "        -20.9803, -21.2738, -21.5673, -21.8608, -22.1543, -22.4478, -22.7413,\n",
       "        -23.0348, -23.3283, -23.6218, -23.9153, -24.2088, -24.5023, -24.7958,\n",
       "        -25.0893, -25.3828, -25.6763, -25.9698, -26.2633, -26.5568, -26.8503,\n",
       "        -27.1438, -27.4373, -27.7308, -28.0243, -28.3178, -28.6113, -28.9049,\n",
       "        -29.1984, -29.4919, -29.7854, -30.0789, -30.3724, -30.6659, -30.9594,\n",
       "        -31.2529, -31.5464, -31.8399, -32.1334, -32.4269, -32.7204, -33.0139,\n",
       "        -33.3074, -33.6009, -33.8944, -34.1879, -34.4814, -34.7749, -35.0684,\n",
       "        -35.3619, -35.6554, -35.9489, -36.2424, -36.5359, -36.8294, -37.1229,\n",
       "        -37.4164, -37.7099, -38.0035, -38.2970, -38.5905, -38.8840, -39.1775,\n",
       "        -39.4710, -39.7645, -40.0580, -40.3515, -40.6450, -40.9385, -41.2320,\n",
       "        -41.5255, -41.8190, -42.1125, -42.4060, -42.6995, -42.9930, -43.2865,\n",
       "        -43.5800, -43.8735, -44.1670, -44.4605, -44.7540, -45.0475, -45.3410,\n",
       "        -45.6345, -45.9280, -46.2215, -46.5150, -46.8085, -47.1021, -47.3956,\n",
       "        -47.6891, -47.9826, -48.2761, -48.5696, -48.8631, -49.1566, -49.4501,\n",
       "        -49.7436, -50.0371, -50.3306, -50.6241, -50.9176, -51.2111, -51.5046,\n",
       "        -51.7981, -52.0916, -52.3851, -52.6786, -52.9721, -53.2656, -53.5591,\n",
       "        -53.8526, -54.1461, -54.4396, -54.7331, -55.0266, -55.3201, -55.6136,\n",
       "        -55.9071, -56.2006, -56.4942, -56.7877, -57.0812, -57.3747, -57.6682,\n",
       "        -57.9617, -58.2552], grad_fn=<SqueezeBackward0>)"
      ]
     },
     "execution_count": 74,
     "metadata": {},
     "output_type": "execute_result"
    }
   ],
   "source": [
    "y_pred.squeeze()"
   ]
  },
  {
   "cell_type": "code",
   "execution_count": 129,
   "id": "fc55bcf2-cde5-4e27-85e5-e5c8ed0fee17",
   "metadata": {},
   "outputs": [
    {
     "data": {
      "text/plain": [
       "tensor([ 1.0000,  1.5000,  2.0000,  2.5000,  3.0000,  3.5000,  4.0000,  4.5000,\n",
       "         5.0000,  5.5000,  6.0000,  6.5000,  7.0000,  7.5000,  8.0000,  8.5000,\n",
       "         9.0000,  9.5000, 10.0000, 10.5000, 11.0000, 11.5000, 12.0000, 12.5000,\n",
       "        13.0000, 13.5000, 14.0000, 14.5000, 15.0000, 15.5000, 16.0000, 16.5000,\n",
       "        17.0000, 17.5000, 18.0000, 18.5000, 19.0000, 19.5000, 20.0000, 20.5000,\n",
       "        21.0000, 21.5000, 22.0000, 22.5000, 23.0000, 23.5000, 24.0000, 24.5000,\n",
       "        25.0000, 25.5000, 26.0000, 26.5000, 27.0000, 27.5000, 28.0000, 28.5000,\n",
       "        29.0000, 29.5000, 30.0000, 30.5000, 31.0000, 31.5000, 32.0000, 32.5000,\n",
       "        33.0000, 33.5000, 34.0000, 34.5000, 35.0000, 35.5000, 36.0000, 36.5000,\n",
       "        37.0000, 37.5000, 38.0000, 38.5000, 39.0000, 39.5000, 40.0000, 40.5000,\n",
       "        41.0000, 41.5000, 42.0000, 42.5000, 43.0000, 43.5000, 44.0000, 44.5000,\n",
       "        45.0000, 45.5000, 46.0000, 46.5000, 47.0000, 47.5000, 48.0000, 48.5000,\n",
       "        49.0000, 49.5000, 50.0000, 50.5000, 51.0000, 51.5000, 52.0000, 52.5000,\n",
       "        53.0000, 53.5000, 54.0000, 54.5000, 55.0000, 55.5000, 56.0000, 56.5000,\n",
       "        57.0000, 57.5000, 58.0000, 58.5000, 59.0000, 59.5000, 60.0000, 60.5000,\n",
       "        61.0000, 61.5000, 62.0000, 62.5000, 63.0000, 63.5000, 64.0000, 64.5000,\n",
       "        65.0000, 65.5000, 66.0000, 66.5000, 67.0000, 67.5000, 68.0000, 68.5000,\n",
       "        69.0000, 69.5000, 70.0000, 70.5000, 71.0000, 71.5000, 72.0000, 72.5000,\n",
       "        73.0000, 73.5000, 74.0000, 74.5000, 75.0000, 75.5000, 76.0000, 76.5000,\n",
       "        77.0000, 77.5000, 78.0000, 78.5000, 79.0000, 79.5000, 80.0000, 80.5000,\n",
       "        81.0000, 81.5000, 82.0000, 82.5000, 83.0000, 83.5000, 84.0000, 84.5000,\n",
       "        85.0000, 85.5000, 86.0000, 86.5000, 87.0000, 87.5000, 88.0000, 88.5000,\n",
       "        89.0000, 89.5000, 90.0000, 90.5000, 91.0000, 91.5000, 92.0000, 92.5000,\n",
       "        93.0000, 93.5000, 94.0000, 94.5000, 95.0000, 95.5000, 96.0000, 96.5000,\n",
       "        97.0000, 97.5000, 98.0000, 98.5000, 99.0000, 99.5000])"
      ]
     },
     "execution_count": 129,
     "metadata": {},
     "output_type": "execute_result"
    }
   ],
   "source": [
    "X.squeeze()"
   ]
  },
  {
   "cell_type": "code",
   "execution_count": null,
   "id": "79d4ad47-b224-4c0b-945c-a504952ac2eb",
   "metadata": {},
   "outputs": [],
   "source": []
  }
 ],
 "metadata": {
  "kernelspec": {
   "display_name": "Python 3 (ipykernel)",
   "language": "python",
   "name": "python3"
  },
  "language_info": {
   "codemirror_mode": {
    "name": "ipython",
    "version": 3
   },
   "file_extension": ".py",
   "mimetype": "text/x-python",
   "name": "python",
   "nbconvert_exporter": "python",
   "pygments_lexer": "ipython3",
   "version": "3.11.3"
  },
  "vscode": {
   "interpreter": {
    "hash": "3e61400774240b6638cd4450eb2c1b0dfd0d9e57a930ebf9954ace2fe458a80f"
   }
  }
 },
 "nbformat": 4,
 "nbformat_minor": 5
}
