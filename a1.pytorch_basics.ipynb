{
 "cells": [
  {
   "cell_type": "markdown",
   "id": "df54fdfb-6c8f-4e83-b514-9c0f3c865e49",
   "metadata": {},
   "source": [
    "# Tensors and Operations"
   ]
  },
  {
   "cell_type": "code",
   "execution_count": 1,
   "id": "13d558ba-1807-49cd-8fc5-f8107e006998",
   "metadata": {
    "tags": []
   },
   "outputs": [
    {
     "name": "stdout",
     "output_type": "stream",
     "text": [
      "2.0.0+rocm5.4.2\n"
     ]
    }
   ],
   "source": [
    "import torch\n",
    "import torch.nn as nn\n",
    "import torch.optim as optim\n",
    "\n",
    "print(torch.__version__)"
   ]
  },
  {
   "cell_type": "code",
   "execution_count": 3,
   "id": "06e9b136-81f9-4acb-ac82-87a07e8b61b8",
   "metadata": {
    "tags": []
   },
   "outputs": [
    {
     "data": {
      "text/plain": [
       "(0, torch.Size([]), tensor(7))"
      ]
     },
     "execution_count": 3,
     "metadata": {},
     "output_type": "execute_result"
    }
   ],
   "source": [
    "# 0 dimensional tensor (scalar)\n",
    "s = torch.tensor(7)\n",
    "s.ndim, s.shape, s"
   ]
  },
  {
   "cell_type": "code",
   "execution_count": 4,
   "id": "d8dd69d2-214b-472b-a401-5fb09addcab6",
   "metadata": {
    "tags": []
   },
   "outputs": [
    {
     "name": "stdout",
     "output_type": "stream",
     "text": [
      "tensor([1., 2., 3., 4., 5.])\n"
     ]
    },
    {
     "data": {
      "text/plain": [
       "(1, torch.Size([5]), None)"
      ]
     },
     "execution_count": 4,
     "metadata": {},
     "output_type": "execute_result"
    }
   ],
   "source": [
    "# 1 dimensional tensor (vector)\n",
    "t1 = torch.Tensor([1,2,3,4,5])\n",
    "t1.ndim, t1.shape, print(t1)"
   ]
  },
  {
   "cell_type": "code",
   "execution_count": 5,
   "id": "a2e1fd70-be91-4310-a8a1-80ac725cbc00",
   "metadata": {
    "tags": []
   },
   "outputs": [
    {
     "name": "stdout",
     "output_type": "stream",
     "text": [
      "tensor([[1., 2., 3.],\n",
      "        [4., 5., 6.],\n",
      "        [7., 8., 9.]])\n"
     ]
    },
    {
     "data": {
      "text/plain": [
       "(2, torch.Size([3, 3]), None)"
      ]
     },
     "execution_count": 5,
     "metadata": {},
     "output_type": "execute_result"
    }
   ],
   "source": [
    "# 2 dimensional tensor (matrix)\n",
    "t2 = torch.Tensor([[1,2,3],\n",
    "                   [4,5,6],\n",
    "                   [7,8,9]])\n",
    "\n",
    "t2.ndim, t2.shape, print(t2)"
   ]
  },
  {
   "cell_type": "code",
   "execution_count": 6,
   "id": "336f1c50-bf8e-4c75-aaaf-19e061b6cbab",
   "metadata": {
    "tags": []
   },
   "outputs": [
    {
     "name": "stdout",
     "output_type": "stream",
     "text": [
      "tensor([[0.0703, 0.8720, 0.0893],\n",
      "        [0.2675, 0.4133, 0.7619],\n",
      "        [0.0348, 0.2663, 0.4411]])\n",
      "tensor([[0.],\n",
      "        [0.],\n",
      "        [0.]])\n",
      "tensor([[1., 1., 1.]])\n"
     ]
    }
   ],
   "source": [
    "# random, zeros and ones\n",
    "r = torch.rand(size = (3, 3))\n",
    "print(r)\n",
    "\n",
    "z = torch.zeros(size = (3, 1))\n",
    "print(z)\n",
    "\n",
    "o = torch.ones(size = (1, 3))\n",
    "print(o)"
   ]
  },
  {
   "cell_type": "code",
   "execution_count": 7,
   "id": "2db74124-b7e5-43fd-bc20-8c7d8e81f886",
   "metadata": {
    "tags": []
   },
   "outputs": [
    {
     "name": "stdout",
     "output_type": "stream",
     "text": [
      "tensor([[0.5634, 0.4819, 0.2712, 0.2214],\n",
      "        [0.5029, 0.4160, 0.1850, 0.8282],\n",
      "        [0.6851, 0.6874, 0.0208, 0.0706]])\n",
      "Shape of tensor: torch.Size([3, 4])\n",
      "Datatype of tensor: torch.float32\n",
      "Device tensor is stored on: cpu\n"
     ]
    }
   ],
   "source": [
    "# Create a tensor\n",
    "some_tensor = torch.rand(3, 4)\n",
    "\n",
    "# Find out details about it\n",
    "print(some_tensor)\n",
    "print(f\"Shape of tensor: {some_tensor.shape}\")\n",
    "print(f\"Datatype of tensor: {some_tensor.dtype}\")\n",
    "print(f\"Device tensor is stored on: {some_tensor.device}\") # will default to CPU"
   ]
  },
  {
   "cell_type": "code",
   "execution_count": 8,
   "id": "23129f75-a4c0-4794-b277-8a0589fd2a51",
   "metadata": {
    "tags": []
   },
   "outputs": [
    {
     "data": {
      "text/plain": [
       "tensor([[0.0165],\n",
       "        [0.6041]])"
      ]
     },
     "execution_count": 8,
     "metadata": {},
     "output_type": "execute_result"
    }
   ],
   "source": [
    "mat1 = torch.rand(2,3)\n",
    "mat2 = torch.rand(3,1)\n",
    "\n",
    "mat1@mat2 #dot product (same as torch.matmul(mat1, mat2))"
   ]
  },
  {
   "cell_type": "markdown",
   "id": "7ae8cde7-4e17-41eb-b4f1-0e4bab8bdc20",
   "metadata": {},
   "source": [
    "## Linear"
   ]
  },
  {
   "cell_type": "code",
   "execution_count": 9,
   "id": "0aeb5c21-65c8-4778-8213-84a497df8e70",
   "metadata": {
    "tags": []
   },
   "outputs": [
    {
     "data": {
      "text/plain": [
       "tensor([[ 27.,  30.,  33.],\n",
       "        [ 61.,  68.,  75.],\n",
       "        [ 95., 106., 117.]])"
      ]
     },
     "execution_count": 9,
     "metadata": {},
     "output_type": "execute_result"
    }
   ],
   "source": [
    "# Shapes need to be in the right way  \n",
    "tensor_A = torch.tensor([[1, 2],\n",
    "                         [3, 4],\n",
    "                         [5, 6]], dtype=torch.float32)\n",
    "\n",
    "tensor_B = torch.tensor([[7, 10],\n",
    "                         [8, 11], \n",
    "                         [9, 12]], dtype=torch.float32)\n",
    "\n",
    "torch.matmul(tensor_A, tensor_B.T) # (this will error)"
   ]
  },
  {
   "cell_type": "code",
   "execution_count": 10,
   "id": "0fcb0649-5ce3-47fc-8351-d05f5b30394c",
   "metadata": {
    "tags": []
   },
   "outputs": [
    {
     "name": "stdout",
     "output_type": "stream",
     "text": [
      "Input shape: torch.Size([3, 2])\n",
      "\n",
      "Output:\n",
      "tensor([[2.2368, 1.2292, 0.4714, 0.3864, 0.1309, 0.9838],\n",
      "        [4.4919, 2.1970, 0.4469, 0.5285, 0.3401, 2.4777],\n",
      "        [6.7469, 3.1648, 0.4224, 0.6705, 0.5493, 3.9716]],\n",
      "       grad_fn=<AddmmBackward0>)\n",
      "\n",
      "Output shape: torch.Size([3, 6])\n"
     ]
    }
   ],
   "source": [
    "# Since the linear layer starts with a random weights matrix, let's make it reproducible (more on this later)\n",
    "torch.manual_seed(42)\n",
    "# This uses matrix multiplication\n",
    "linear = torch.nn.Linear(in_features=2,  # in_features = matches inner dimension of input \n",
    "                         out_features=6,\n",
    "                         bias=True) # out_features = describes outer value \n",
    "x = tensor_A\n",
    "output = linear(x)\n",
    "print(f\"Input shape: {x.shape}\\n\")\n",
    "print(f\"Output:\\n{output}\\n\\nOutput shape: {output.shape}\")"
   ]
  },
  {
   "cell_type": "code",
   "execution_count": 11,
   "id": "17bc34dd-2102-4c6f-9a8b-4f102c78d941",
   "metadata": {
    "tags": []
   },
   "outputs": [
    {
     "data": {
      "text/plain": [
       "(Parameter containing:\n",
       " tensor([[ 0.5406,  0.5869],\n",
       "         [-0.1657,  0.6496],\n",
       "         [-0.1549,  0.1427],\n",
       "         [-0.3443,  0.4153],\n",
       "         [ 0.6233, -0.5188],\n",
       "         [ 0.6146,  0.1323]], requires_grad=True),\n",
       " Parameter containing:\n",
       " tensor([ 0.5224,  0.0958,  0.3410, -0.0998,  0.5451,  0.1045],\n",
       "        requires_grad=True))"
      ]
     },
     "execution_count": 11,
     "metadata": {},
     "output_type": "execute_result"
    }
   ],
   "source": [
    "linear.weight, linear.bias"
   ]
  },
  {
   "cell_type": "markdown",
   "id": "4841cb10-a994-4527-9d03-51b1b66b75b5",
   "metadata": {},
   "source": [
    "## Min, Max, ArgMin, ArgMax.\n",
    "\n",
    "Basically the same as numpy"
   ]
  },
  {
   "cell_type": "code",
   "execution_count": 12,
   "id": "0ad326cf-badb-4734-a7d7-827260e33c84",
   "metadata": {
    "tags": []
   },
   "outputs": [
    {
     "data": {
      "text/plain": [
       "tensor([[ 0, 10, 20, 30, 40],\n",
       "        [50, 60, 70, 80, 90]])"
      ]
     },
     "execution_count": 12,
     "metadata": {},
     "output_type": "execute_result"
    }
   ],
   "source": [
    "# Create a tensor\n",
    "x = torch.arange(0, 100, 10).reshape(2,5)\n",
    "x"
   ]
  },
  {
   "cell_type": "code",
   "execution_count": 13,
   "id": "a511d3ff-65e5-4200-b8d4-eb568a81309d",
   "metadata": {
    "tags": []
   },
   "outputs": [
    {
     "data": {
      "text/plain": [
       "(tensor(90), tensor(0), tensor(45.), tensor(450))"
      ]
     },
     "execution_count": 13,
     "metadata": {},
     "output_type": "execute_result"
    }
   ],
   "source": [
    "# require casting to float for mean\n",
    "torch.max(x), torch.min(x), torch.mean(x.type(torch.float32)), torch.sum(x)"
   ]
  },
  {
   "cell_type": "code",
   "execution_count": 14,
   "id": "1c639da9-071c-4a98-bfdd-ffdda13fe913",
   "metadata": {
    "tags": []
   },
   "outputs": [
    {
     "data": {
      "text/plain": [
       "tensor([ 0, 10, 20, 30, 40, 50, 60, 70, 80, 90])"
      ]
     },
     "execution_count": 14,
     "metadata": {},
     "output_type": "execute_result"
    }
   ],
   "source": [
    "a = x.reshape(1, -1).squeeze()\n",
    "a"
   ]
  },
  {
   "cell_type": "markdown",
   "id": "8d71261e-f15e-4064-bb0b-18c5cde48914",
   "metadata": {
    "tags": []
   },
   "source": [
    "## Simple NN"
   ]
  },
  {
   "cell_type": "code",
   "execution_count": 15,
   "id": "a0d7f983-4040-4e18-a049-ba75ad414145",
   "metadata": {
    "tags": []
   },
   "outputs": [
    {
     "name": "stdout",
     "output_type": "stream",
     "text": [
      "torch.Size([100, 1]) torch.Size([1]) torch.Size([1]) torch.Size([100, 1]) torch.Size([100, 1])\n"
     ]
    }
   ],
   "source": [
    "import torch\n",
    "from torch import nn\n",
    "from torch import functional as F\n",
    "from torch import optim\n",
    "\n",
    "X = torch.rand(100, 1)\n",
    "w = torch.tensor([1.5]) \n",
    "b = torch.tensor([0.7])\n",
    "n = torch.rand(X.shape)/10 # add some noise\n",
    "y = X * w + b + n\n",
    "\n",
    "print(X.shape, w.shape, b.shape, n.shape, y.shape)"
   ]
  },
  {
   "cell_type": "code",
   "execution_count": 16,
   "id": "a76963cd-04e4-4e3a-8826-ffdb99844d04",
   "metadata": {
    "tags": []
   },
   "outputs": [
    {
     "data": {
      "text/plain": [
       "<Axes: >"
      ]
     },
     "execution_count": 16,
     "metadata": {},
     "output_type": "execute_result"
    },
    {
     "data": {
      "image/png": "[encoded data removed]",
      "text/plain": [
       "<Figure size 640x480 with 1 Axes>"
      ]
     },
     "metadata": {},
     "output_type": "display_data"
    }
   ],
   "source": [
    "import seaborn as sns\n",
    "sns.set_theme(style=\"ticks\")\n",
    "\n",
    "sns.lineplot(x = X.squeeze(), y = y.squeeze())"
   ]
  },
  {
   "cell_type": "code",
   "execution_count": 17,
   "id": "9112e14e-9a37-4101-8fe7-deded9b8c9ee",
   "metadata": {
    "tags": []
   },
   "outputs": [],
   "source": [
    "# Define a basical linear regression model, see the different impelmentations (the classic one is commented out)\n",
    "class linear_regression_model(nn.Module):\n",
    "    def __init__(self):\n",
    "        super(linear_regression_model, self).__init__()\n",
    "        self.l1 = nn.Linear(1, 1)\n",
    "        #self.w = nn.Parameter(torch.tensor(0.,), requires_grad = True)\n",
    "        #self.b = nn.Parameter(torch.tensor(0.), requires_grad = True)\n",
    "\n",
    "    def forward(self, x):\n",
    "        #output = x * self.w + self.b\n",
    "        output = self.l1(x)\n",
    "        return output\n",
    "\n",
    "# Define the neural network architecture\n",
    "class NNet(nn.Module):\n",
    "    def __init__(self):\n",
    "        super(NNet, self).__init__()\n",
    "        self.l1 = nn.Linear(1, 100)\n",
    "        self.l2 = nn.Linear(100, 100)\n",
    "        self.l3 = nn.Linear(100, 10)\n",
    "        self.l4 = nn.Linear(10, 1)\n",
    "        self.relu = nn.ReLU() # for non-linear use an activation\n",
    "        \n",
    "    def forward(self, x):\n",
    "        x = self.relu(self.l1(x))\n",
    "        x = self.relu(self.l2(x))\n",
    "        x = self.relu(self.l3(x))\n",
    "        x = self.l4(x)\n",
    "        return x"
   ]
  },
  {
   "cell_type": "code",
   "execution_count": 18,
   "id": "8643fc5b",
   "metadata": {
    "tags": []
   },
   "outputs": [
    {
     "name": "stdout",
     "output_type": "stream",
     "text": [
      "Epoch [100/100], Loss: 0.0510\n",
      "Epoch [200/100], Loss: 0.0077\n",
      "Epoch [300/100], Loss: 0.0011\n",
      "Epoch [400/100], Loss: 0.0007\n",
      "Epoch [500/100], Loss: 0.0007\n",
      "Epoch [600/100], Loss: 0.0007\n",
      "Epoch [700/100], Loss: 0.0007\n",
      "Epoch [800/100], Loss: 0.0007\n",
      "Epoch [900/100], Loss: 0.0007\n",
      "Epoch [1000/100], Loss: 0.0007\n",
      "Finished Training\n"
     ]
    }
   ],
   "source": [
    "#model = linear_regression_model()\n",
    "model = NNet()\n",
    "\n",
    "# Define the loss function and optimizer\n",
    "criterion = nn.MSELoss()\n",
    "optimizer = optim.SGD(model.parameters(), lr=0.01)\n",
    "\n",
    "E = 1000 # number of epochs\n",
    "\n",
    "# Train the model\n",
    "for epoch in range(E):\n",
    "    running_loss = 0.0\n",
    "    \n",
    "    inputs, labels = X, y\n",
    "    #print(inputs, labels)\n",
    "\n",
    "    outputs = model(inputs)\n",
    "    loss = criterion(outputs, labels)\n",
    "    \n",
    "    optimizer.zero_grad() #set gradient to 0\n",
    "    loss.backward()\n",
    "    optimizer.step()\n",
    "\n",
    "    l = loss.item()\n",
    "    running_loss += l\n",
    "    if (epoch+1) % (E/10) == 0:\n",
    "        print(f'Epoch [{epoch+1}/100], Loss: {running_loss:.4f}')\n",
    "\n",
    "print('Finished Training')"
   ]
  },
  {
   "cell_type": "code",
   "execution_count": 19,
   "id": "655c67b3-04a0-4ac6-8675-f3fa66ab4918",
   "metadata": {
    "tags": []
   },
   "outputs": [
    {
     "ename": "ModuleNotFoundError",
     "evalue": "No module named 'pytorchsummary'",
     "output_type": "error",
     "traceback": [
      "\u001b[0;31m---------------------------------------------------------------------------\u001b[0m",
      "\u001b[0;31mModuleNotFoundError\u001b[0m                       Traceback (most recent call last)",
      "Cell \u001b[0;32mIn[19], line 1\u001b[0m\n\u001b[0;32m----> 1\u001b[0m \u001b[39mfrom\u001b[39;00m \u001b[39mpytorchsummary\u001b[39;00m \u001b[39mimport\u001b[39;00m summary\n\u001b[1;32m      2\u001b[0m summary(X\u001b[39m.\u001b[39mshape, model)\n",
      "\u001b[0;31mModuleNotFoundError\u001b[0m: No module named 'pytorchsummary'"
     ]
    }
   ],
   "source": [
    "from pytorchsummary import summary\n",
    "summary(X.shape, model)"
   ]
  },
  {
   "cell_type": "code",
   "execution_count": null,
   "id": "1441e7e9",
   "metadata": {
    "tags": []
   },
   "outputs": [
    {
     "data": {
      "text/plain": [
       "<Axes: >"
      ]
     },
     "execution_count": 20,
     "metadata": {},
     "output_type": "execute_result"
    },
    {
     "data": {
      "image/png": "[encoded data removed]",
      "text/plain": [
       "<Figure size 640x480 with 1 Axes>"
      ]
     },
     "metadata": {},
     "output_type": "display_data"
    }
   ],
   "source": [
    "# plot again\n",
    "import seaborn as sns\n",
    "sns.set_theme(style=\"ticks\")\n",
    "\n",
    "y_pred = model(X)\n",
    "sns.lineplot(x = X.squeeze(), y = y.squeeze())\n",
    "sns.lineplot(x = X.squeeze(), y = y_pred.squeeze().detach().numpy())"
   ]
  },
  {
   "cell_type": "code",
   "execution_count": null,
   "id": "ef41256b-a814-47a3-9024-16613a3960d5",
   "metadata": {
    "tags": []
   },
   "outputs": [
    {
     "ename": "ModuleNotFoundError",
     "evalue": "No module named 'torchvision'",
     "output_type": "error",
     "traceback": [
      "\u001b[0;31m---------------------------------------------------------------------------\u001b[0m",
      "\u001b[0;31mModuleNotFoundError\u001b[0m                       Traceback (most recent call last)",
      "Cell \u001b[0;32mIn[21], line 3\u001b[0m\n\u001b[1;32m      1\u001b[0m \u001b[38;5;66;03m## Let's try classification model\u001b[39;00m\n\u001b[1;32m      2\u001b[0m \u001b[38;5;28;01mimport\u001b[39;00m \u001b[38;5;21;01mtorch\u001b[39;00m\n\u001b[0;32m----> 3\u001b[0m \u001b[38;5;28;01mimport\u001b[39;00m \u001b[38;5;21;01mtorchvision\u001b[39;00m\n\u001b[1;32m      4\u001b[0m \u001b[38;5;28;01mimport\u001b[39;00m \u001b[38;5;21;01mtorchvision\u001b[39;00m\u001b[38;5;21;01m.\u001b[39;00m\u001b[38;5;21;01mtransforms\u001b[39;00m \u001b[38;5;28;01mas\u001b[39;00m \u001b[38;5;21;01mtransforms\u001b[39;00m\n\u001b[1;32m      6\u001b[0m \u001b[38;5;66;03m# Define the transformations to be applied to the data\u001b[39;00m\n",
      "\u001b[0;31mModuleNotFoundError\u001b[0m: No module named 'torchvision'"
     ]
    }
   ],
   "source": [
    "## Let's try classification model\n",
    "import torch\n",
    "import torchvision\n",
    "import torchvision.transforms as transforms\n",
    "\n",
    "# Define the transformations to be applied to the data\n",
    "transform = transforms.Compose(\n",
    "    [transforms.ToTensor(),\n",
    "     transforms.Normalize((0.5,), (0.5,))])\n",
    "\n",
    "# Download and load the MNIST training set\n",
    "trainset = torchvision.datasets.MNIST(root='./data', train=True,\n",
    "                                        download=True, transform=transform)\n",
    "trainloader = torch.utils.data.DataLoader(trainset, batch_size=64,\n",
    "                                          shuffle=True)\n",
    "\n",
    "# Download and load the MNIST test set\n",
    "testset = torchvision.datasets.MNIST(root='./data', train=False,\n",
    "                                       download=True, transform=transform)\n",
    "testloader = torch.utils.data.DataLoader(testset, batch_size=64,\n",
    "                                         shuffle=False)"
   ]
  },
  {
   "cell_type": "code",
   "execution_count": null,
   "id": "c165efd5-28e3-4524-a5e6-ea5c6c1958df",
   "metadata": {
    "tags": []
   },
   "outputs": [
    {
     "data": {
      "image/png": "[encoded data removed]",
      "text/plain": [
       "<Figure size 640x480 with 1 Axes>"
      ]
     },
     "metadata": {},
     "output_type": "display_data"
    },
    {
     "name": "stdout",
     "output_type": "stream",
     "text": [
      "0 4 4 5 9 8 5 7 4 9 3 9 7 0 6 2 4 2 0 3 9 9 9 2 9 6 0 8 8 2 5 2 3 6 2 4 8 7 6 6 2 3 0 6 1 0 7 9 7 9 5 3 8 0 5 1 5 0 8 1 5 4 4 3\n"
     ]
    }
   ],
   "source": [
    "from matplotlib import pyplot as plt\n",
    "import numpy as np\n",
    "\n",
    "def imshow(img):\n",
    "    img = img / 2 + 0.5     # unnormalize\n",
    "    npimg = img.numpy()\n",
    "    plt.imshow(np.transpose(npimg, (1, 2, 0)))\n",
    "    plt.show()\n",
    "\n",
    "\n",
    "# get some random training images\n",
    "dataiter = iter(trainloader)\n",
    "images, labels = next(dataiter)\n",
    "\n",
    "classes = (0,1,2,3,4,5,6,7,8,9)\n",
    "batch_size = 64\n",
    "\n",
    "# show images\n",
    "imshow(torchvision.utils.make_grid(images))\n",
    "# print labels\n",
    "print(' '.join(f'{classes[labels[j]]}' for j in range(batch_size)))"
   ]
  },
  {
   "cell_type": "code",
   "execution_count": null,
   "id": "6c177da7-227b-4544-a745-b90936d12857",
   "metadata": {
    "tags": []
   },
   "outputs": [],
   "source": [
    "# building a CNN \n",
    "\n",
    "#orch.nn.Conv2d(in_channels, out_channels, kernel_size, stride=1, padding=0, dilation=1, \n",
    "#               groups=1, bias=True, padding_mode='zeros', device=None, dtype=None)\n",
    "\n",
    "# for conv2d\n",
    "#output_size = (input_size - kernel_size + 2*padding) / stride + 1\n",
    "#output_size = (28 - 6 + 2 * 0) / 1 + 1 = 23\n",
    "#output tensor then will have [64, 6, 23, 23] with weight \n",
    "# = (input_channel * kernel_size * kernel_size + 1) * output_channel = (1 * 6 *6 + 1) * 6 = 222\n",
    "\n",
    "# for maxpool 2d\n",
    "#output_size = floor((input_size - kernel_size) / stride) + 1\n",
    "#  (23 - 2)/2 + 1 = 11\n",
    "\n",
    "import torch.nn.functional as F\n",
    "\n",
    "class CNN(nn.Module):\n",
    "    def __init__(self):\n",
    "        super(CNN, self).__init__()\n",
    "        self.conv1 = nn.Conv2d(in_channels = 1, out_channels = 6, kernel_size = 6)\n",
    "        self.pool = nn.MaxPool2d(2, 2)\n",
    "        self.conv2 = nn.Conv2d(in_challels = 6, out_channels = 16, kernel_size = 5)\n",
    "        self.flatten = nn.Flatten()\n",
    "        self.fc1 = nn.Linear(16 * 3 * 3, 120)\n",
    "        self.fc2 = nn.Linear(120, 84)\n",
    "        self.fc3 = nn.Linear(84, 10)\n",
    "        \n",
    "    def forward(self, x):\n",
    "        x = self.pool(F.relu(self.conv1(x)))\n",
    "        x = self.pool(F.relu(self.conv2(x)))\n",
    "        x = self.flatten(x)\n",
    "        x = F.relu(self.fc1(x))\n",
    "        x = F.relu(self.fc2(x))\n",
    "        x = self.fc3(x)\n",
    "        return x"
   ]
  },
  {
   "cell_type": "code",
   "execution_count": null,
   "id": "9e1eaf3d-1119-4728-bed8-11e7038aa6bf",
   "metadata": {
    "tags": []
   },
   "outputs": [
    {
     "name": "stdout",
     "output_type": "stream",
     "text": [
      "               Layer\tOutput Shape        \t    Kernal Shape    \t#params             \t#(weights + bias)   \trequires_grad\n",
      "------------------------------------------------------------------------------------------------------------------------------------------------------\n",
      "            Conv2d-1\t[1, 6, 23, 23]      \t    [6, 1, 6, 6]    \t222                 \t(216 + 6)           \tTrue True \n",
      "         MaxPool2d-2\t[1, 6, 11, 11]      \t                    \t                    \t                    \t          \n",
      "            Conv2d-3\t[1, 16, 7, 7]       \t   [16, 6, 5, 5]    \t2416                \t(2400 + 16)         \tTrue True \n",
      "         MaxPool2d-4\t[1, 16, 3, 3]       \t                    \t                    \t                    \t          \n",
      "           Flatten-5\t[1, 144]            \t                    \t                    \t                    \t          \n",
      "            Linear-6\t[1, 120]            \t     [120, 144]     \t17400               \t(17280 + 120)       \tTrue True \n",
      "            Linear-7\t[1, 84]             \t     [84, 120]      \t10164               \t(10080 + 84)        \tTrue True \n",
      "            Linear-8\t[1, 10]             \t      [10, 84]      \t850                 \t(840 + 10)          \tTrue True \n",
      "______________________________________________________________________________________________________________________________________________________\n",
      "\n",
      "Total parameters 31,052\n",
      "Total Non-Trainable parameters 0\n",
      "Total Trainable parameters 31,052\n"
     ]
    },
    {
     "data": {
      "text/plain": [
       "(31052, 31052, 0)"
      ]
     },
     "execution_count": 139,
     "metadata": {},
     "output_type": "execute_result"
    }
   ],
   "source": [
    "model = CNN()\n",
    "y = model(images)\n",
    "\n",
    "summary(images.shape[1:], model)"
   ]
  },
  {
   "cell_type": "code",
   "execution_count": null,
   "id": "835746ff-eab5-4a76-b216-92eb43b5ac65",
   "metadata": {
    "tags": []
   },
   "outputs": [
    {
     "data": {
      "image/png": "[encoded data removed]",
      "text/plain": [
       "<Figure size 640x480 with 1 Axes>"
      ]
     },
     "metadata": {},
     "output_type": "display_data"
    },
    {
     "name": "stdout",
     "output_type": "stream",
     "text": [
      "torch.Size([16, 1, 28, 28])\n"
     ]
    }
   ],
   "source": [
    "imshow(images[0])\n",
    "print(images.shape)"
   ]
  },
  {
   "cell_type": "code",
   "execution_count": null,
   "id": "3d0f9ea5-67cc-47c8-8cfd-15438cdf5494",
   "metadata": {
    "tags": []
   },
   "outputs": [
    {
     "name": "stdout",
     "output_type": "stream",
     "text": [
      "[1,   100] loss: 0.230\n",
      "[1,   200] loss: 0.229\n",
      "[1,   300] loss: 0.228\n",
      "[1,   400] loss: 0.225\n",
      "[1,   500] loss: 0.221\n",
      "[1,   600] loss: 0.211\n",
      "[1,   700] loss: 0.176\n",
      "[1,   800] loss: 0.100\n",
      "[1,   900] loss: 0.061\n",
      "[2,   100] loss: 0.042\n",
      "[2,   200] loss: 0.038\n",
      "[2,   300] loss: 0.037\n",
      "[2,   400] loss: 0.033\n",
      "[2,   500] loss: 0.029\n",
      "[2,   600] loss: 0.028\n",
      "[2,   700] loss: 0.026\n",
      "[2,   800] loss: 0.024\n",
      "[2,   900] loss: 0.026\n",
      "[3,   100] loss: 0.022\n",
      "[3,   200] loss: 0.022\n",
      "[3,   300] loss: 0.021\n",
      "[3,   400] loss: 0.020\n",
      "[3,   500] loss: 0.020\n",
      "[3,   600] loss: 0.019\n",
      "[3,   700] loss: 0.017\n",
      "[3,   800] loss: 0.017\n",
      "[3,   900] loss: 0.017\n",
      "[4,   100] loss: 0.016\n",
      "[4,   200] loss: 0.016\n",
      "[4,   300] loss: 0.015\n",
      "[4,   400] loss: 0.014\n",
      "[4,   500] loss: 0.013\n",
      "[4,   600] loss: 0.015\n",
      "[4,   700] loss: 0.014\n",
      "[4,   800] loss: 0.013\n",
      "[4,   900] loss: 0.012\n",
      "[5,   100] loss: 0.013\n",
      "[5,   200] loss: 0.012\n",
      "[5,   300] loss: 0.013\n",
      "[5,   400] loss: 0.011\n",
      "[5,   500] loss: 0.011\n",
      "[5,   600] loss: 0.011\n",
      "[5,   700] loss: 0.012\n",
      "[5,   800] loss: 0.011\n",
      "[5,   900] loss: 0.011\n",
      "[6,   100] loss: 0.011\n",
      "[6,   200] loss: 0.010\n",
      "[6,   300] loss: 0.010\n",
      "[6,   400] loss: 0.010\n",
      "[6,   500] loss: 0.011\n",
      "[6,   600] loss: 0.009\n",
      "[6,   700] loss: 0.010\n",
      "[6,   800] loss: 0.010\n",
      "[6,   900] loss: 0.010\n",
      "[7,   100] loss: 0.010\n",
      "[7,   200] loss: 0.010\n",
      "[7,   300] loss: 0.009\n",
      "[7,   400] loss: 0.010\n",
      "[7,   500] loss: 0.009\n",
      "[7,   600] loss: 0.009\n",
      "[7,   700] loss: 0.008\n",
      "[7,   800] loss: 0.009\n",
      "[7,   900] loss: 0.008\n",
      "[8,   100] loss: 0.009\n",
      "[8,   200] loss: 0.008\n",
      "[8,   300] loss: 0.008\n",
      "[8,   400] loss: 0.008\n",
      "[8,   500] loss: 0.008\n",
      "[8,   600] loss: 0.008\n",
      "[8,   700] loss: 0.009\n",
      "[8,   800] loss: 0.008\n",
      "[8,   900] loss: 0.008\n",
      "[9,   100] loss: 0.008\n",
      "[9,   200] loss: 0.008\n",
      "[9,   300] loss: 0.007\n",
      "[9,   400] loss: 0.007\n",
      "[9,   500] loss: 0.008\n",
      "[9,   600] loss: 0.007\n",
      "[9,   700] loss: 0.007\n",
      "[9,   800] loss: 0.008\n",
      "[9,   900] loss: 0.007\n",
      "[10,   100] loss: 0.007\n",
      "[10,   200] loss: 0.007\n",
      "[10,   300] loss: 0.007\n",
      "[10,   400] loss: 0.006\n",
      "[10,   500] loss: 0.007\n",
      "[10,   600] loss: 0.007\n",
      "[10,   700] loss: 0.007\n",
      "[10,   800] loss: 0.006\n",
      "[10,   900] loss: 0.007\n",
      "Finished Training\n"
     ]
    }
   ],
   "source": [
    "# Define the loss function and optimizer\n",
    "criterion = nn.CrossEntropyLoss()\n",
    "optimizer = optim.SGD(model.parameters(), lr=0.001, momentum=0.9)\n",
    "\n",
    "# Train the network\n",
    "for epoch in range(10):  # loop over the dataset multiple times\n",
    "    running_loss = 0.0\n",
    "    \n",
    "    for i, data in enumerate(trainloader, 0):\n",
    "        # get the inputs; data is a list of [inputs, labels]\n",
    "        inputs, labels = data\n",
    "\n",
    "        # zero the parameter gradients\n",
    "        optimizer.zero_grad()\n",
    "\n",
    "        # forward + backward + optimize\n",
    "        outputs = model(inputs)\n",
    "        loss = criterion(outputs, labels)\n",
    "        loss.backward()\n",
    "        optimizer.step()\n",
    "\n",
    "        # print statistics\n",
    "        running_loss += loss.item()\n",
    "        if i % 100 == 99:    # print every 100 mini-batches\n",
    "            print('[%d, %5d] loss: %.3f' %\n",
    "                  (epoch + 1, i + 1, running_loss / 1000))\n",
    "            running_loss = 0.0\n",
    "\n",
    "print('Finished Training')"
   ]
  },
  {
   "cell_type": "code",
   "execution_count": null,
   "id": "5b3b62ee-28ee-4025-a99a-9fe4c5de7b96",
   "metadata": {
    "tags": []
   },
   "outputs": [
    {
     "ename": "NameError",
     "evalue": "name 'testloader' is not defined",
     "output_type": "error",
     "traceback": [
      "\u001b[0;31m---------------------------------------------------------------------------\u001b[0m",
      "\u001b[0;31mNameError\u001b[0m                                 Traceback (most recent call last)",
      "Cell \u001b[0;32mIn[22], line 5\u001b[0m\n\u001b[1;32m      3\u001b[0m total \u001b[38;5;241m=\u001b[39m \u001b[38;5;241m0\u001b[39m\n\u001b[1;32m      4\u001b[0m \u001b[38;5;28;01mwith\u001b[39;00m torch\u001b[38;5;241m.\u001b[39mno_grad():\n\u001b[0;32m----> 5\u001b[0m     \u001b[38;5;28;01mfor\u001b[39;00m data \u001b[38;5;129;01min\u001b[39;00m \u001b[43mtestloader\u001b[49m:\n\u001b[1;32m      6\u001b[0m         images, labels \u001b[38;5;241m=\u001b[39m data\n\u001b[1;32m      7\u001b[0m         outputs \u001b[38;5;241m=\u001b[39m model(images)\n",
      "\u001b[0;31mNameError\u001b[0m: name 'testloader' is not defined"
     ]
    }
   ],
   "source": [
    "# Test the network\n",
    "correct = 0\n",
    "total = 0\n",
    "with torch.no_grad():\n",
    "    for data in testloader:\n",
    "        images, labels = data\n",
    "        outputs = model(images)\n",
    "        _, predicted = torch.max(outputs.data, 1)\n",
    "        total += labels.size(0)\n",
    "        correct += (predicted == labels).sum().item()\n",
    "\n",
    "print('Accuracy of the network on the 10000 test images: %d %%' % (\n",
    "    100 * correct / total))"
   ]
  },
  {
   "cell_type": "code",
   "execution_count": null,
   "id": "4c07f3f3-5048-4286-805e-f52a6a256152",
   "metadata": {
    "tags": []
   },
   "outputs": [
    {
     "ename": "NameError",
     "evalue": "name 'images' is not defined",
     "output_type": "error",
     "traceback": [
      "\u001b[0;31m---------------------------------------------------------------------------\u001b[0m",
      "\u001b[0;31mNameError\u001b[0m                                 Traceback (most recent call last)",
      "Cell \u001b[0;32mIn[23], line 1\u001b[0m\n\u001b[0;32m----> 1\u001b[0m model(\u001b[43mimages\u001b[49m)[\u001b[38;5;241m7\u001b[39m]\u001b[38;5;241m.\u001b[39margmax()\n",
      "\u001b[0;31mNameError\u001b[0m: name 'images' is not defined"
     ]
    }
   ],
   "source": [
    "model(images)[7].argmax()"
   ]
  },
  {
   "cell_type": "code",
   "execution_count": null,
   "id": "0ffea124-9b39-4117-af08-e366d424f556",
   "metadata": {
    "tags": []
   },
   "outputs": [
    {
     "data": {
      "text/plain": [
       "tensor([1, 2, 3, 4, 5, 6, 7, 8, 9])"
      ]
     },
     "execution_count": 24,
     "metadata": {},
     "output_type": "execute_result"
    }
   ],
   "source": [
    "torch.arange(1, 10)"
   ]
  },
  {
   "cell_type": "code",
   "execution_count": null,
   "id": "0dbc7cfe-5949-45a8-b1df-1f17a5c5561e",
   "metadata": {
    "tags": []
   },
   "outputs": [
    {
     "ename": "NameError",
     "evalue": "name 'predicted' is not defined",
     "output_type": "error",
     "traceback": [
      "\u001b[0;31m---------------------------------------------------------------------------\u001b[0m",
      "\u001b[0;31mNameError\u001b[0m                                 Traceback (most recent call last)",
      "Cell \u001b[0;32mIn[25], line 1\u001b[0m\n\u001b[0;32m----> 1\u001b[0m \u001b[43mpredicted\u001b[49m\u001b[38;5;241m!=\u001b[39mlabels\n",
      "\u001b[0;31mNameError\u001b[0m: name 'predicted' is not defined"
     ]
    }
   ],
   "source": [
    "predicted!=labels"
   ]
  },
  {
   "cell_type": "code",
   "execution_count": 20,
   "id": "6bdb1c11-3644-4ed2-b058-0ef80b385b90",
   "metadata": {
    "tags": []
   },
   "outputs": [
    {
     "name": "stdout",
     "output_type": "stream",
     "text": [
      "tensor([-2., -2., -2.])\n"
     ]
    }
   ],
   "source": [
    "import torch\n",
    "\n",
    "# Create a tensor x and a target tensor y\n",
    "x = torch.tensor([1.0, 2.0, 3.0], requires_grad=True)\n",
    "y = torch.tensor([4.0, 5.0, 6.0])\n",
    "\n",
    "# Compute the mean squared error between x and y\n",
    "mse = torch.mean((x - y)**2)\n",
    "\n",
    "# Compute the gradients of the mse with respect to x\n",
    "mse.backward()\n",
    "\n",
    "# Print the gradients of x\n",
    "print(x.grad)"
   ]
  },
  {
   "cell_type": "code",
   "execution_count": 1,
   "id": "aea4b12f-07cd-4170-a698-27d8fed8cfdb",
   "metadata": {},
   "outputs": [
    {
     "data": {
      "text/plain": [
       "True"
      ]
     },
     "execution_count": 1,
     "metadata": {},
     "output_type": "execute_result"
    }
   ],
   "source": [
    "[1,2,3] != [1,2,4]"
   ]
  },
  {
   "cell_type": "code",
   "execution_count": null,
   "id": "0836d31a-e88e-42d3-8dd0-77ab36c4f808",
   "metadata": {},
   "outputs": [],
   "source": []
  }
 ],
 "metadata": {
  "kernelspec": {
   "display_name": "Python 3 (ipykernel)",
   "language": "python",
   "name": "python3"
  },
  "language_info": {
   "codemirror_mode": {
    "name": "ipython",
    "version": 3
   },
   "file_extension": ".py",
   "mimetype": "text/x-python",
   "name": "python",
   "nbconvert_exporter": "python",
   "pygments_lexer": "ipython3",
   "version": "3.10.6"
  },
  "vscode": {
   "interpreter": {
    "hash": "3e61400774240b6638cd4450eb2c1b0dfd0d9e57a930ebf9954ace2fe458a80f"
   }
  }
 },
 "nbformat": 4,
 "nbformat_minor": 5
}
