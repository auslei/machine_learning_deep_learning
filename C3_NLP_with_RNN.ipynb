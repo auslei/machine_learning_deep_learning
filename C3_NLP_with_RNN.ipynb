{
 "cells": [
  {
   "cell_type": "code",
   "execution_count": 18,
   "metadata": {},
   "outputs": [
    {
     "name": "stderr",
     "output_type": "stream",
     "text": [
      "warning: LF will be replaced by CRLF in 2_DNN_TF/C3_NLP_with_RNN.ipynb.\n",
      "The file will have its original line endings in your working directory\n"
     ]
    },
    {
     "name": "stdout",
     "output_type": "stream",
     "text": [
      "[master 24e8a17] NLP with RNN\n",
      " 1 file changed, 41 insertions(+), 22 deletions(-)\n"
     ]
    },
    {
     "name": "stderr",
     "output_type": "stream",
     "text": [
      "To https://github.com/auslei/python.git\n",
      "   ad6b35b..24e8a17  master -> master\n"
     ]
    }
   ],
   "source": [
    "!git add C3_NLP_with_RNN.ipynb\n",
    "!git commit -m \"NLP with RNN\"\n",
    "!git push"
   ]
  },
  {
   "cell_type": "markdown",
   "metadata": {},
   "source": [
    "## Creating Training Dataset"
   ]
  },
  {
   "cell_type": "code",
   "execution_count": 163,
   "metadata": {},
   "outputs": [],
   "source": [
    "import tensorflow as tf\n",
    "from tensorflow import keras\n",
    "\n",
    "shakespeare_url = \"https://homl.info/shakespeare\"\n",
    "filepath = keras.utils.get_file(\"shakespeare.txt\", shakespeare_url)\n",
    "\n",
    "with open(filepath) as f:\n",
    "    shakespeare_text = f.read()\n"
   ]
  },
  {
   "cell_type": "code",
   "execution_count": 164,
   "metadata": {},
   "outputs": [],
   "source": [
    "tokenizer = keras.preprocessing.text.Tokenizer(char_level = True)\n",
    "tokenizer.fit_on_texts(shakespeare_text)"
   ]
  },
  {
   "cell_type": "code",
   "execution_count": 36,
   "metadata": {},
   "outputs": [
    {
     "name": "stdout",
     "output_type": "stream",
     "text": [
      "[[3, 7, 6, 8, 1, 6, 8, 1, 5, 1, 3, 2, 8, 3], [5, 22, 19, 13]] ['t h i s   i s   a   t e s t', 'a b c d']\n",
      "39 1115394\n"
     ]
    }
   ],
   "source": [
    "a = tokenizer.texts_to_sequences([\"this is a test\", \"abcd\"])\n",
    "b = tokenizer.sequences_to_texts(a)\n",
    "\n",
    "print(a, b)\n",
    "\n",
    "print(len(tokenizer.word_index), tokenizer.document_count) #num of uniq chars, totol number of docs"
   ]
  },
  {
   "cell_type": "code",
   "execution_count": 22,
   "metadata": {},
   "outputs": [],
   "source": [
    "import numpy as np\n",
    "\n",
    "[encoded] = np.array(tokenizer.texts_to_sequences([shakespeare_text])) - 1 #subtract one to start for 0 index "
   ]
  },
  {
   "cell_type": "code",
   "execution_count": 23,
   "metadata": {},
   "outputs": [
    {
     "data": {
      "text/plain": [
       "(1115394,)"
      ]
     },
     "execution_count": 23,
     "metadata": {},
     "output_type": "execute_result"
    }
   ],
   "source": [
    "encoded.shape"
   ]
  },
  {
   "cell_type": "code",
   "execution_count": 24,
   "metadata": {},
   "outputs": [
    {
     "name": "stdout",
     "output_type": "stream",
     "text": [
      "1003854\n"
     ]
    }
   ],
   "source": [
    "## Set training Dataset\n",
    "\n",
    "train_size = len(encoded) * 90 // 100\n",
    "dataset = tf.data.Dataset.from_tensor_slices(encoded[:train_size])\n",
    "\n",
    "print(train_size)"
   ]
  },
  {
   "cell_type": "code",
   "execution_count": 25,
   "metadata": {},
   "outputs": [],
   "source": [
    "## chopping dataset into mulitple windows\n",
    "n_steps = 100\n",
    "window_length = n_steps + 1 # target = input shifted 1 character ahead (window is 101)\n",
    "dataset = dataset.window(window_length, shift = 1, drop_remainder = True) \n",
    "# by default window is non-overlapping, setting shift to 1 the window will be overlapping. The shift maybe fine tuned\n",
    "# use drop_remainder = True to ensure each window is exactly 101 characters long"
   ]
  },
  {
   "cell_type": "code",
   "execution_count": 26,
   "metadata": {},
   "outputs": [],
   "source": [
    "# window function create nested dataset (each window is a dataset)\n",
    "# we will use flat_map to convert them into a flat dataset (no nesting), batched on each window size\n",
    "dataset = dataset.flat_map(lambda window: window.batch(window_length))"
   ]
  },
  {
   "cell_type": "code",
   "execution_count": 27,
   "metadata": {},
   "outputs": [],
   "source": [
    "batch_size = 32\n",
    "dataset = dataset.shuffle(10000).batch(batch_size) # shuffle with a buffer size of 10000 and batch into minibatches\n",
    "dataset = dataset.map(lambda windows: (windows[:, :-1], windows[:, 1:])) # generate train and targets (0 - 100, 1 - 101)"
   ]
  },
  {
   "cell_type": "code",
   "execution_count": 28,
   "metadata": {},
   "outputs": [],
   "source": [
    "#on hot encode\n",
    "dataset = dataset.map(lambda X_batch, y_batch: (tf.one_hot(X_batch, depth = 39), y_batch))"
   ]
  },
  {
   "cell_type": "code",
   "execution_count": 15,
   "metadata": {},
   "outputs": [
    {
     "name": "stdout",
     "output_type": "stream",
     "text": [
      "(32, 100, 39) (32, 100)\n"
     ]
    }
   ],
   "source": [
    "for d in dataset: print(d[0].shape, d[1].shape);break"
   ]
  },
  {
   "cell_type": "code",
   "execution_count": null,
   "metadata": {},
   "outputs": [
    {
     "name": "stdout",
     "output_type": "stream",
     "text": [
      "Epoch 1/20\n",
      "31368/31368 [==============================] - 549s 17ms/step - loss: 1.7187\n",
      "Epoch 2/20\n",
      "31368/31368 [==============================] - 543s 17ms/step - loss: 1.5478\n",
      "Epoch 3/20\n",
      "31368/31368 [==============================] - 540s 17ms/step - loss: 1.5244\n",
      "Epoch 4/20\n",
      "31368/31368 [==============================] - 541s 17ms/step - loss: 1.5121\n",
      "Epoch 5/20\n",
      "31368/31368 [==============================] - 540s 17ms/step - loss: 1.5042\n",
      "Epoch 6/20\n",
      " 4349/31368 [===>..........................] - ETA: 7:48 - loss: 1.5465"
     ]
    }
   ],
   "source": [
    "cp_cb = keras.callbacks.ModelCheckpoint(\"shakespeare.h5\")\n",
    "\n",
    "\n",
    "model = keras.models.Sequential([\n",
    "    keras.layers.GRU(128, return_sequences = True, input_shape = [None, 39], dropout = 0.2, recurrent_dropout = 0),\n",
    "    keras.layers.GRU(128, return_sequences = True, input_shape = [None, 39], dropout = 0.2, recurrent_dropout = 0),\n",
    "    keras.layers.TimeDistributed(keras.layers.Dense(39, activation = 'softmax'))\n",
    "])\n",
    "\n",
    "model.compile(loss = 'sparse_categorical_crossentropy', optimizer = 'adam')\n",
    "history = model.fit(dataset, epochs = 20, callbacks = [cp_cb])"
   ]
  },
  {
   "cell_type": "markdown",
   "metadata": {},
   "source": [
    "The requirements to use the cuDNN implementation are:\n",
    "\n",
    "1. activation == tanh\n",
    "2. recurrent_activation == sigmoid\n",
    "3. recurrent_dropout == 0\n",
    "4. unroll is False\n",
    "5. use_bias is True\n",
    "6. reset_after is True\n",
    "7. Inputs, if use masking, are strictly right-padded.\n",
    "8. Eager execution is enabled in the outermost context."
   ]
  },
  {
   "cell_type": "code",
   "execution_count": null,
   "metadata": {},
   "outputs": [],
   "source": [
    "model.save('shakespeare.h5')"
   ]
  },
  {
   "cell_type": "code",
   "execution_count": 31,
   "metadata": {},
   "outputs": [],
   "source": [
    "import matplotlib.pyplot as plt\n",
    "import pandas as pd\n",
    "df = pd.DataFrame(history.history)"
   ]
  },
  {
   "cell_type": "code",
   "execution_count": null,
   "metadata": {},
   "outputs": [],
   "source": [
    "history = m.fit(dataset, epochs = 20, callbacks = [cp_cb])"
   ]
  },
  {
   "cell_type": "code",
   "execution_count": 33,
   "metadata": {},
   "outputs": [
    {
     "data": {
      "text/plain": [
       "<AxesSubplot:>"
      ]
     },
     "execution_count": 33,
     "metadata": {},
     "output_type": "execute_result"
    },
    {
     "data": {
      "image/png": "[encoded data removed]",
      "text/plain": [
       "<Figure size 432x288 with 1 Axes>"
      ]
     },
     "metadata": {
      "needs_background": "light"
     },
     "output_type": "display_data"
    }
   ],
   "source": [
    "df.plot()"
   ]
  },
  {
   "cell_type": "markdown",
   "metadata": {},
   "source": [
    "## Using the Char-RNN model"
   ]
  },
  {
   "cell_type": "code",
   "execution_count": 165,
   "metadata": {},
   "outputs": [],
   "source": [
    "#firstly load the model\n",
    "m = tf.keras.models.load_model('shakespeare.h5')\n",
    "\n",
    "\n",
    "# tokenise and onehot the input string.\n",
    "def preprocess(string):\n",
    "    return [tf.one_hot(np.array(tokenizer.texts_to_sequences(string))- 1, depth = 39)]\n",
    "\n",
    "# generate input\n",
    "t = preprocess(\"how are yo\")"
   ]
  },
  {
   "cell_type": "code",
   "execution_count": 168,
   "metadata": {},
   "outputs": [],
   "source": [
    "# preduct the character.\n",
    "pred = m.predict(t)"
   ]
  },
  {
   "cell_type": "code",
   "execution_count": 169,
   "metadata": {},
   "outputs": [
    {
     "data": {
      "text/plain": [
       "'u'"
      ]
     },
     "execution_count": 169,
     "metadata": {},
     "output_type": "execute_result"
    }
   ],
   "source": [
    "tokenizer.sequences_to_texts(pred.argmax(axis = -1) + 1)[-1]"
   ]
  },
  {
   "cell_type": "code",
   "execution_count": 154,
   "metadata": {},
   "outputs": [],
   "source": [
    "def next_char(text, temperature = 1):\n",
    "    X_new = preprocess([text])\n",
    "    y_proba = m.predict(X_new)[0, -1, :] # last preducted timestep\n",
    "    #print(y_proba.shape)\n",
    "    rescaled_logits = tf.math.log(y_proba) / temperature #see softmax function below \n",
    "    #print(rescaled_logits)\n",
    "    char_id = tf.random.categorical([rescaled_logits], num_samples = 1) + 1\n",
    "    return tokenizer.sequences_to_texts(char_id.numpy())[0]\n",
    "\n",
    "def complete_text(text, n_chars = 50, temperature = 1):\n",
    "    for _ in range(n_chars):\n",
    "        text += next_char(text, temperature)\n",
    "    return text"
   ]
  },
  {
   "cell_type": "code",
   "execution_count": 155,
   "metadata": {},
   "outputs": [
    {
     "name": "stdout",
     "output_type": "stream",
     "text": [
      "st i bear mine offente. who content you?\n",
      "\n",
      "baptista:\n",
      "no! why get him hear: if i will slop her wills and frinke\n",
      "like a love to go me all in all alone.\n",
      "i will, your gods's honour at thy other from good foolders.\n",
      "\n",
      "hortensio:\n",
      "my lord, i know with her thus first's farther,\n",
      "are all and pleasant slater boat on poon.\n",
      "but toat you beloved in pedua! madam\n",
      "gremio, i keep, but now i know my bold,\n",
      "and came i me about you woodcan gire;\n",
      "stend me, is't grubio crankly ears, at instrucente?\n",
      "unwortens most but whom \n"
     ]
    }
   ],
   "source": [
    "print(complete_text('s', temperature=1))"
   ]
  },
  {
   "cell_type": "code",
   "execution_count": 144,
   "metadata": {},
   "outputs": [],
   "source": [
    "samples = tf.random.categorical(tf.math.log([[0.5, 0.5]]), 5)"
   ]
  },
  {
   "cell_type": "code",
   "execution_count": 170,
   "metadata": {},
   "outputs": [
    {
     "data": {
      "text/plain": [
       "array([0.01165623, 0.03168492, 0.08612854, 0.23412166, 0.63640865])"
      ]
     },
     "execution_count": 170,
     "metadata": {},
     "output_type": "execute_result"
    }
   ],
   "source": [
    "def softmax(t):\n",
    "    return np.exp(t) / np.sum(np.exp(t))\n",
    "\n",
    "softmax([1,2,3,4,5])\n"
   ]
  },
  {
   "cell_type": "markdown",
   "metadata": {},
   "source": [
    "## Stateful Model\n",
    "\n",
    "The model before is stateless, ie. at timestep 0, the value is reset to 0. To retain the state, which will help with long term patterns. We will use stateful model, where the final state is preserved.\n",
    "\n",
    "To do that, it will not make sense to create overlapping windows as before (step = 1) but consequtive windows"
   ]
  },
  {
   "cell_type": "code",
   "execution_count": null,
   "metadata": {},
   "outputs": [],
   "source": [
    "dataset = tf.data"
   ]
  }
 ],
 "metadata": {
  "kernelspec": {
   "display_name": "ml_with_tf",
   "language": "python",
   "name": "ml_with_tf"
  },
  "language_info": {
   "codemirror_mode": {
    "name": "ipython",
    "version": 3
   },
   "file_extension": ".py",
   "mimetype": "text/x-python",
   "name": "python",
   "nbconvert_exporter": "python",
   "pygments_lexer": "ipython3",
   "version": "3.8.6"
  }
 },
 "nbformat": 4,
 "nbformat_minor": 4
}
