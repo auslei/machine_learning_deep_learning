{
 "cells": [
  {
   "cell_type": "code",
   "execution_count": null,
   "metadata": {},
   "outputs": [],
   "source": [
    "import tensorflow as tf\n",
    "import pandas as pd\n",
    "from sklearn.datasets import fetch_california_housing\n",
    "\n",
    "housing = fetch_california_housing()"
   ]
  },
  {
   "cell_type": "code",
   "execution_count": null,
   "metadata": {},
   "outputs": [],
   "source": [
    "df_housing = pd.DataFrame(housing['data'])\n",
    "df_housing.columns = housing['feature_names']\n",
    "df_housing[\"median_house_value\"] = housing['target']"
   ]
  },
  {
   "cell_type": "code",
   "execution_count": null,
   "metadata": {},
   "outputs": [],
   "source": [
    "df_housing.head()"
   ]
  },
  {
   "cell_type": "markdown",
   "metadata": {},
   "source": [
    "## Simple TF calculation from V1"
   ]
  },
  {
   "cell_type": "code",
   "execution_count": null,
   "metadata": {},
   "outputs": [],
   "source": [
    "import tensorflow.compat.v1 as tf\n",
    "tf.disable_v2_behavior()"
   ]
  },
  {
   "cell_type": "code",
   "execution_count": null,
   "metadata": {},
   "outputs": [],
   "source": [
    "x = tf.Variable(3, name=\"x\")\n",
    "y = tf.Variable(4, name=\"y\")\n",
    "f = x*x*y + y + 2"
   ]
  },
  {
   "cell_type": "code",
   "execution_count": null,
   "metadata": {},
   "outputs": [],
   "source": [
    "sess = tf.Session()\n",
    "sess.run(x.initializer)\n",
    "sess.run(y.initializer)\n",
    "result = sess.run(f)\n",
    "print(result)"
   ]
  },
  {
   "cell_type": "markdown",
   "metadata": {},
   "source": [
    "### To simplify above code"
   ]
  },
  {
   "cell_type": "code",
   "execution_count": null,
   "metadata": {},
   "outputs": [],
   "source": [
    "init = tf.global_variables_initializer()\n",
    "with tf.Session() as sess:\n",
    "    init.run()\n",
    "    result = f.eval()\n",
    "\n",
    "print(result)"
   ]
  },
  {
   "cell_type": "markdown",
   "metadata": {},
   "source": [
    "## TF V2\n",
    "\n",
    "https://www.tensorflow.org/guide/migrate\n",
    "\n",
    "V2 is eager execution, and instead sess.run, using function instead. Example below\n",
    "\n",
    "**Note** TF will need a kernel restart"
   ]
  },
  {
   "cell_type": "code",
   "execution_count": null,
   "metadata": {},
   "outputs": [],
   "source": [
    "import tensorflow as tf\n",
    "x = tf.Variable(3, name=\"x\")\n",
    "y = tf.Variable(4, name=\"y\")\n",
    "\n",
    "@tf.function\n",
    "def calc(x, y):\n",
    "    return x*x*y + y + 2\n",
    "\n",
    "print(calc(x,y))"
   ]
  },
  {
   "cell_type": "code",
   "execution_count": null,
   "metadata": {},
   "outputs": [],
   "source": [
    "W = tf.Variable(tf.ones(shape=(2,2)), name=\"W\")\n",
    "b = tf.Variable(tf.zeros(shape=(2)), name=\"b\")\n",
    "\n",
    "@tf.function\n",
    "def forward(x):\n",
    "  return W * x + b\n",
    "\n",
    "out_a = forward([1,0])\n",
    "print(out_a)"
   ]
  },
  {
   "cell_type": "markdown",
   "metadata": {},
   "source": [
    "## Using TF to calculate Normal Equation\n",
    "\n",
    "$\n",
    "\\hat{\\theta} = (\\boldsymbol{X}^T\\cdot\\boldsymbol{X})^-1\\cdot\\boldsymbol{X}^T\\cdot\\boldsymbol{y}\n",
    "$"
   ]
  },
  {
   "cell_type": "code",
   "execution_count": 1,
   "metadata": {},
   "outputs": [
    {
     "name": "stdout",
     "output_type": "stream",
     "text": [
      "X shape (20640, 8), y shape (20640,)\n"
     ]
    }
   ],
   "source": [
    "import numpy as np\n",
    "import tensorflow as tf\n",
    "\n",
    "from sklearn.datasets import fetch_california_housing\n",
    "\n",
    "housing = fetch_california_housing()\n",
    "\n",
    "# getting shapes of the input dataset\n",
    "print(\"X shape {}, y shape {}\".format(housing['data'].shape, housing['target'].shape))\n",
    "m, n = housing['data'].shape"
   ]
  },
  {
   "cell_type": "code",
   "execution_count": 2,
   "metadata": {},
   "outputs": [],
   "source": [
    "housing_data_plus_bias = np.c_[np.ones(m), housing['data']]"
   ]
  },
  {
   "cell_type": "code",
   "execution_count": 3,
   "metadata": {},
   "outputs": [],
   "source": [
    "X = tf.constant(housing_data_plus_bias, dtype = tf.float32, name = \"X\")\n",
    "y = tf.constant(housing['target'].reshape(-1, 1), dtype = tf.float32, name = \"y\")"
   ]
  },
  {
   "cell_type": "code",
   "execution_count": 4,
   "metadata": {},
   "outputs": [],
   "source": [
    "@tf.function\n",
    "def normal_equation(X, y):\n",
    "    XT  = tf.transpose(X)\n",
    "    theta = tf.matmul(tf.matmul(tf.linalg.inv(tf.matmul(XT, X)), XT), y)\n",
    "    return theta\n",
    "\n",
    "\n",
    "theta = normal_equation(X, y)"
   ]
  },
  {
   "cell_type": "markdown",
   "metadata": {},
   "source": [
    "## Using implement gradient descent\n",
    "\n",
    "- One way is to calculate"
   ]
  },
  {
   "cell_type": "code",
   "execution_count": 10,
   "metadata": {},
   "outputs": [
    {
     "name": "stdout",
     "output_type": "stream",
     "text": [
      "tf.Tensor(161043.1, shape=(), dtype=float32)\n",
      "tf.Tensor(28.282642, shape=(), dtype=float32)\n",
      "tf.Tensor(19.239275, shape=(), dtype=float32)\n",
      "tf.Tensor(13.394658, shape=(), dtype=float32)\n",
      "tf.Tensor(9.6084795, shape=(), dtype=float32)\n"
     ]
    }
   ],
   "source": [
    "@tf.function\n",
    "def gradient_descent(X, y, n_epochs = 100, learning_rate = 0.01):\n",
    "    m, n = X.shape\n",
    "    theta = tf.Variable(initial_value = tf.random.uniform([n, 1], -1.0, 1.0), name = \"theta\")  \n",
    "    \n",
    "    for epoch in range(n_epochs):                \n",
    "        with tf.GradientTape(persistent=True) as tape:\n",
    "          y_pred = X @ theta\n",
    "          error = y_pred - y\n",
    "          loss = tf.reduce_mean(error ** 2)\n",
    "    \n",
    "        # gradient is calculated for every variable\n",
    "        grad = tape.gradient(loss,[X, y, theta])        \n",
    "        theta.assign(theta - learning_rate * grad[2])\n",
    "        \n",
    "        if (epoch % 10000 == 0):\n",
    "         print(loss)\n",
    "                    \n",
    "    return theta\n",
    "\n",
    "tf.config.run_functions_eagerly(True)\n",
    "theta = gradient_descent(X, y, 50000, 0.0000001)"
   ]
  },
  {
   "cell_type": "code",
   "execution_count": 11,
   "metadata": {},
   "outputs": [
    {
     "data": {
      "text/plain": [
       "<tf.Variable 'theta:0' shape=(9, 1) dtype=float32, numpy=\n",
       "array([[-3.64643663e-01],\n",
       "       [ 3.95412333e-02],\n",
       "       [ 7.41983578e-02],\n",
       "       [-1.57197013e-01],\n",
       "       [-9.46455538e-01],\n",
       "       [ 3.93365626e-04],\n",
       "       [-1.93999767e-01],\n",
       "       [ 4.42019105e-01],\n",
       "       [ 1.14545025e-01]], dtype=float32)>"
      ]
     },
     "execution_count": 11,
     "metadata": {},
     "output_type": "execute_result"
    }
   ],
   "source": [
    "theta"
   ]
  },
  {
   "cell_type": "markdown",
   "metadata": {},
   "source": [
    "### How GradientTape works"
   ]
  },
  {
   "cell_type": "code",
   "execution_count": 20,
   "metadata": {},
   "outputs": [
    {
     "data": {
      "text/plain": [
       "0.6"
      ]
     },
     "execution_count": 20,
     "metadata": {},
     "output_type": "execute_result"
    }
   ],
   "source": [
    "x = tf.Variable(.3)\n",
    "with tf.GradientTape() as tape:\n",
    "    y = x ** 2\n",
    "\n",
    "dy_dx = tape.gradient(y, x)\n",
    "dy_dx.numpy()"
   ]
  },
  {
   "cell_type": "code",
   "execution_count": null,
   "metadata": {},
   "outputs": [],
   "source": []
  },
  {
   "cell_type": "code",
   "execution_count": null,
   "metadata": {},
   "outputs": [],
   "source": []
  },
  {
   "cell_type": "code",
   "execution_count": null,
   "metadata": {},
   "outputs": [],
   "source": []
  }
 ],
 "metadata": {
  "kernelspec": {
   "display_name": "tensorflow",
   "language": "python",
   "name": "tensorflow"
  },
  "language_info": {
   "codemirror_mode": {
    "name": "ipython",
    "version": 3
   },
   "file_extension": ".py",
   "mimetype": "text/x-python",
   "name": "python",
   "nbconvert_exporter": "python",
   "pygments_lexer": "ipython3",
   "version": "3.8.2"
  }
 },
 "nbformat": 4,
 "nbformat_minor": 4
}
