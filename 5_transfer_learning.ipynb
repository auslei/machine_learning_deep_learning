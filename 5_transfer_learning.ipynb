{
 "cells": [
  {
   "cell_type": "code",
   "execution_count": 4,
   "metadata": {},
   "outputs": [
    {
     "name": "stdout",
     "output_type": "stream",
     "text": [
      "2.3.1 2.4.0\n"
     ]
    }
   ],
   "source": [
    "import tensorflow as tf\n",
    "from tensorflow import keras\n",
    "\n",
    "print(tf.__version__, keras.__version__)"
   ]
  },
  {
   "cell_type": "markdown",
   "metadata": {},
   "source": [
    "## Transfer Learning\n",
    "\n",
    "Assuming we have trained 8 of the 10 classes in the fashion mnist data. The model performs pretty well. Now we need to create a new model which predicts just two classes:\n",
    "\n",
    "Model A:\n",
    "\"T-shirt/pop\", \"Trouser\", \"Pullover\", \"Dresss\", \"Coat\", \"Sandal\", \"Shirt\", \"Sneaker\"\n",
    "\n",
    "Model B:\n",
    "\"Bag\", \"Ankle boot\"\n",
    "\n",
    "we should be able to utilise transfer learning"
   ]
  },
  {
   "cell_type": "markdown",
   "metadata": {},
   "source": [
    "### Downloading Fashion mnist data"
   ]
  },
  {
   "cell_type": "code",
   "execution_count": 5,
   "metadata": {},
   "outputs": [],
   "source": [
    "fashion_mnist = keras.datasets.fashion_mnist\n",
    "(X_train_full, y_train_full), (X_test, y_test) = fashion_mnist.load_data()\n"
   ]
  },
  {
   "cell_type": "markdown",
   "metadata": {},
   "source": [
    "### Data Prep"
   ]
  },
  {
   "cell_type": "code",
   "execution_count": 6,
   "metadata": {},
   "outputs": [],
   "source": [
    "X_train_A = X_train_full[y_train_full < 8]\n",
    "y_train_A = y_train_full[y_train_full < 8]\n",
    "\n",
    "X_test_A = X_test[y_test < 8]\n",
    "y_test_A = y_test[y_test < 8]\n",
    "\n",
    "\n",
    "X_train_B = X_train_full[y_train_full >=8]\n",
    "y_train_B = (y_train_full[y_train_full >=8] == 8).astype(int)\n",
    "\n",
    "\n",
    "X_test_B = X_test[y_test >=8]\n",
    "y_test_B = (y_test[y_test >=8] == 8).astype(int)\n"
   ]
  },
  {
   "cell_type": "code",
   "execution_count": 7,
   "metadata": {},
   "outputs": [],
   "source": [
    "class_names_A = [\"T-shirt/pop\", \"Trouser\", \"Pullover\", \"Dresss\", \"Coat\",\n",
    "                 \"Sandal\", \"Shirt\", \"Sneaker\"]\n",
    "class_names_B = [\"Bag\", \"Ankle boot\"]"
   ]
  },
  {
   "cell_type": "markdown",
   "metadata": {},
   "source": [
    "## Build and train Model A \n",
    "\n",
    "\n",
    "In this case for simplicity, we will just use a simple sequencial model with dense hidden layers."
   ]
  },
  {
   "cell_type": "code",
   "execution_count": 8,
   "metadata": {},
   "outputs": [
    {
     "name": "stdout",
     "output_type": "stream",
     "text": [
      "Epoch 1/20\n",
      "1200/1200 [==============================] - 3s 2ms/step - loss: 0.6057 - accuracy: 0.7809 - val_loss: 0.4578 - val_accuracy: 0.8383\n",
      "Epoch 2/20\n",
      "1200/1200 [==============================] - 2s 2ms/step - loss: 0.4290 - accuracy: 0.8391 - val_loss: 0.4111 - val_accuracy: 0.8508\n",
      "Epoch 3/20\n",
      "1200/1200 [==============================] - 3s 2ms/step - loss: 0.3878 - accuracy: 0.8546 - val_loss: 0.3978 - val_accuracy: 0.8592\n",
      "Epoch 4/20\n",
      "1200/1200 [==============================] - 2s 2ms/step - loss: 0.3605 - accuracy: 0.8658 - val_loss: 0.4190 - val_accuracy: 0.8639\n",
      "Epoch 5/20\n",
      "1200/1200 [==============================] - 2s 2ms/step - loss: 0.3416 - accuracy: 0.8708 - val_loss: 0.4286 - val_accuracy: 0.8641\n",
      "Epoch 6/20\n",
      "1200/1200 [==============================] - 2s 2ms/step - loss: 0.3216 - accuracy: 0.8797 - val_loss: 0.3622 - val_accuracy: 0.8658\n",
      "Epoch 7/20\n",
      "1200/1200 [==============================] - 2s 2ms/step - loss: 0.3062 - accuracy: 0.8857 - val_loss: 0.3702 - val_accuracy: 0.8661\n",
      "Epoch 8/20\n",
      "1200/1200 [==============================] - 2s 2ms/step - loss: 0.2961 - accuracy: 0.8894 - val_loss: 0.3607 - val_accuracy: 0.8734\n",
      "Epoch 9/20\n",
      "1200/1200 [==============================] - 3s 2ms/step - loss: 0.2800 - accuracy: 0.8955 - val_loss: 0.3675 - val_accuracy: 0.8763\n",
      "Epoch 10/20\n",
      "1200/1200 [==============================] - 2s 2ms/step - loss: 0.2677 - accuracy: 0.9008 - val_loss: 0.4278 - val_accuracy: 0.8721\n",
      "Epoch 11/20\n",
      "1200/1200 [==============================] - 2s 2ms/step - loss: 0.2580 - accuracy: 0.9039 - val_loss: 0.3843 - val_accuracy: 0.8707\n"
     ]
    }
   ],
   "source": [
    "NUM_EPOCHS = 20\n",
    "\n",
    "from tensorflow.keras import activations, layers, initializers, callbacks, models\n",
    "from tensorflow.keras.layers import Flatten, Dense, LeakyReLU, BatchNormalization, ReLU, ELU\n",
    "from tensorflow.keras.models import Sequential\n",
    "from tensorflow.keras.callbacks import EarlyStopping, ModelCheckpoint\n",
    "\n",
    "es_cb = EarlyStopping(patience=3, monitor='val_loss') # early stopping at min loss\n",
    "md_cb = ModelCheckpoint(\"f_mnist_model_A.h5\", save_best_only=True)\n",
    "\n",
    "model = Sequential([\n",
    "        Flatten(input_shape=[28, 28]),\n",
    "        BatchNormalization(),\n",
    "        Dense(300, activation = \"relu\"),\n",
    "        Dense(300, activation = \"relu\"),\n",
    "        Dense(300, activation = \"relu\"),\n",
    "        Dense(8, activation = \"softmax\")\n",
    "])\n",
    "\n",
    "model.compile(optimizer = \"SGD\", loss = \"sparse_categorical_crossentropy\", metrics = \"accuracy\")\n",
    "\n",
    "history = model.fit(X_train_A, y_train_A, epochs=NUM_EPOCHS, validation_split = 0.2, callbacks=[es_cb, md_cb], verbose = True)"
   ]
  },
  {
   "cell_type": "code",
   "execution_count": 9,
   "metadata": {},
   "outputs": [
    {
     "name": "stdout",
     "output_type": "stream",
     "text": [
      "250/250 [==============================] - 0s 880us/step - loss: 0.3870 - accuracy: 0.8655\n",
      "Model: \"sequential_1\"\n",
      "_________________________________________________________________\n",
      "Layer (type)                 Output Shape              Param #   \n",
      "=================================================================\n",
      "flatten_1 (Flatten)          (None, 784)               0         \n",
      "_________________________________________________________________\n",
      "batch_normalization_1 (Batch (None, 784)               3136      \n",
      "_________________________________________________________________\n",
      "dense_4 (Dense)              (None, 300)               235500    \n",
      "_________________________________________________________________\n",
      "dense_5 (Dense)              (None, 300)               90300     \n",
      "_________________________________________________________________\n",
      "dense_6 (Dense)              (None, 300)               90300     \n",
      "_________________________________________________________________\n",
      "dense_7 (Dense)              (None, 8)                 2408      \n",
      "=================================================================\n",
      "Total params: 421,644\n",
      "Trainable params: 420,076\n",
      "Non-trainable params: 1,568\n",
      "_________________________________________________________________\n"
     ]
    }
   ],
   "source": [
    "model.evaluate(X_test_A, y_test_A)\n",
    "model.summary()"
   ]
  },
  {
   "cell_type": "code",
   "execution_count": 10,
   "metadata": {},
   "outputs": [
    {
     "data": {
      "image/png": "[encoded data removed]",
      "text/plain": [
       "<Figure size 576x360 with 1 Axes>"
      ]
     },
     "metadata": {
      "needs_background": "light"
     },
     "output_type": "display_data"
    }
   ],
   "source": [
    "import pandas as pd\n",
    "import matplotlib.pyplot as plt\n",
    "pd.DataFrame(history.history).plot(figsize=(8,5))\n",
    "plt.grid(True)\n",
    "plt.show()"
   ]
  },
  {
   "cell_type": "markdown",
   "metadata": {},
   "source": [
    "## Transfer Learning with Model B\n",
    "\n",
    "Remember model B is a binary classifier but the input should be the same. \n"
   ]
  },
  {
   "cell_type": "code",
   "execution_count": 11,
   "metadata": {},
   "outputs": [
    {
     "name": "stdout",
     "output_type": "stream",
     "text": [
      "Model: \"sequential_2\"\n",
      "_________________________________________________________________\n",
      "Layer (type)                 Output Shape              Param #   \n",
      "=================================================================\n",
      "flatten_1 (Flatten)          (None, 784)               0         \n",
      "_________________________________________________________________\n",
      "batch_normalization_1 (Batch (None, 784)               3136      \n",
      "_________________________________________________________________\n",
      "dense_4 (Dense)              (None, 300)               235500    \n",
      "_________________________________________________________________\n",
      "dense_5 (Dense)              (None, 300)               90300     \n",
      "_________________________________________________________________\n",
      "dense_6 (Dense)              (None, 300)               90300     \n",
      "_________________________________________________________________\n",
      "dense_8 (Dense)              (None, 1)                 301       \n",
      "=================================================================\n",
      "Total params: 419,537\n",
      "Trainable params: 417,969\n",
      "Non-trainable params: 1,568\n",
      "_________________________________________________________________\n"
     ]
    }
   ],
   "source": [
    "from tensorflow.keras import activations, layers, initializers, callbacks, models\n",
    "from tensorflow.keras.layers import Flatten, Dense, LeakyReLU, BatchNormalization, ReLU, ELU\n",
    "from tensorflow.keras.models import Sequential\n",
    "from tensorflow.keras.callbacks import EarlyStopping, ModelCheckpoint\n",
    "\n",
    "model_A = tf.keras.models.load_model('f_mnist_model_A.h5')\n",
    "\n",
    "# we don't want to impact weights of model A. therefore we make a clone. \n",
    "# clone model does not copy weights, so we have to set the weights again\n",
    "\n",
    "model_A_clone = tf.keras.models.clone_model(model_A)\n",
    "model_A_clone.set_weights(model_A.get_weights())\n",
    "\n",
    "model_B_on_A = Sequential(model_A_clone.layers[:-1])\n",
    "model_B_on_A.add(Dense(1, activation = \"sigmoid\"))\n",
    "\n",
    "model_B_on_A.summary()"
   ]
  },
  {
   "cell_type": "markdown",
   "metadata": {},
   "source": [
    "## Freeze layers\n",
    "\n",
    "As the first few layers will not be initialled randomly, therefore will be large errors. The approach is to freeze the **reused** layers for the first few epoches, giving new layer some time to learn reasonable weights."
   ]
  },
  {
   "cell_type": "code",
   "execution_count": 15,
   "metadata": {},
   "outputs": [],
   "source": [
    "for layer in model_B_on_A.layers[:-1]:\n",
    "    layer.trainable = False\n",
    "    \n",
    "model_B_on_A.compile(loss = \"binary_crossentropy\", optimizer = \"sgd\", metrics = ['accuracy']) # any freeze/unfreeze requires the model to be recompiled"
   ]
  },
  {
   "cell_type": "code",
   "execution_count": 16,
   "metadata": {},
   "outputs": [
    {
     "name": "stdout",
     "output_type": "stream",
     "text": [
      "Epoch 1/4\n",
      "300/300 [==============================] - 0s 1ms/step - loss: 5.1194e-04 - accuracy: 1.0000 - val_loss: 0.0019 - val_accuracy: 0.9992\n",
      "Epoch 2/4\n",
      "300/300 [==============================] - 0s 1ms/step - loss: 5.0659e-04 - accuracy: 1.0000 - val_loss: 0.0019 - val_accuracy: 0.9992\n",
      "Epoch 3/4\n",
      "300/300 [==============================] - 0s 1ms/step - loss: 5.0161e-04 - accuracy: 1.0000 - val_loss: 0.0019 - val_accuracy: 0.9992\n",
      "Epoch 4/4\n",
      "300/300 [==============================] - 0s 1ms/step - loss: 4.9656e-04 - accuracy: 1.0000 - val_loss: 0.0018 - val_accuracy: 0.9992\n"
     ]
    }
   ],
   "source": [
    "history = model_B_on_A.fit(X_train_B, y_train_B, epochs = 4, validation_split=0.2)"
   ]
  },
  {
   "cell_type": "code",
   "execution_count": 17,
   "metadata": {},
   "outputs": [
    {
     "name": "stdout",
     "output_type": "stream",
     "text": [
      "Epoch 1/15\n",
      "300/300 [==============================] - 1s 3ms/step - loss: 0.0035 - accuracy: 0.9991 - val_loss: 0.0032 - val_accuracy: 0.9987\n",
      "Epoch 2/15\n",
      "300/300 [==============================] - 1s 2ms/step - loss: 0.0033 - accuracy: 0.9991 - val_loss: 0.0023 - val_accuracy: 0.9992\n",
      "Epoch 3/15\n",
      "300/300 [==============================] - 1s 2ms/step - loss: 0.0036 - accuracy: 0.9987 - val_loss: 0.0025 - val_accuracy: 0.9992\n",
      "Epoch 4/15\n",
      "300/300 [==============================] - 1s 2ms/step - loss: 0.0020 - accuracy: 0.9995 - val_loss: 0.0020 - val_accuracy: 0.9992\n",
      "Epoch 5/15\n",
      "300/300 [==============================] - 1s 2ms/step - loss: 0.0026 - accuracy: 0.9991 - val_loss: 0.0027 - val_accuracy: 0.9992\n",
      "Epoch 6/15\n",
      "300/300 [==============================] - 1s 2ms/step - loss: 0.0033 - accuracy: 0.9987 - val_loss: 0.0032 - val_accuracy: 0.9987\n",
      "Epoch 7/15\n",
      "300/300 [==============================] - 1s 2ms/step - loss: 0.0018 - accuracy: 0.9996 - val_loss: 0.0023 - val_accuracy: 0.9987\n",
      "Epoch 8/15\n",
      "300/300 [==============================] - 1s 2ms/step - loss: 0.0018 - accuracy: 0.9994 - val_loss: 0.0028 - val_accuracy: 0.9992\n",
      "Epoch 9/15\n",
      "300/300 [==============================] - 1s 2ms/step - loss: 0.0028 - accuracy: 0.9990 - val_loss: 0.0023 - val_accuracy: 0.9992\n",
      "Epoch 10/15\n",
      "300/300 [==============================] - 1s 2ms/step - loss: 0.0032 - accuracy: 0.9984 - val_loss: 0.0021 - val_accuracy: 0.9987\n",
      "Epoch 11/15\n",
      "300/300 [==============================] - 1s 2ms/step - loss: 0.0013 - accuracy: 0.9996 - val_loss: 0.0023 - val_accuracy: 0.9987\n",
      "Epoch 12/15\n",
      "300/300 [==============================] - 1s 2ms/step - loss: 0.0016 - accuracy: 0.9997 - val_loss: 0.0022 - val_accuracy: 0.9987\n",
      "Epoch 13/15\n",
      "300/300 [==============================] - 1s 2ms/step - loss: 0.0025 - accuracy: 0.9992 - val_loss: 0.0022 - val_accuracy: 0.9987\n",
      "Epoch 14/15\n",
      "300/300 [==============================] - 1s 2ms/step - loss: 0.0023 - accuracy: 0.9995 - val_loss: 0.0027 - val_accuracy: 0.9987\n",
      "Epoch 15/15\n",
      "300/300 [==============================] - 1s 2ms/step - loss: 0.0012 - accuracy: 0.9998 - val_loss: 0.0026 - val_accuracy: 0.9987\n"
     ]
    }
   ],
   "source": [
    "for layer in model_B_on_A.layers[:-1]:\n",
    "    layer.trainable = True\n",
    "    \n",
    "model_B_on_A.compile(loss = \"binary_crossentropy\", optimizer = \"sgd\", metrics = ['accuracy']) # any freeze/unfreeze requires the model to be recompiled\n",
    "\n",
    "history = model_B_on_A.fit(X_train_B, y_train_B, epochs = 15, validation_split=0.2)"
   ]
  },
  {
   "cell_type": "code",
   "execution_count": 18,
   "metadata": {},
   "outputs": [
    {
     "name": "stdout",
     "output_type": "stream",
     "text": [
      "63/63 [==============================] - 0s 1ms/step - loss: 0.0167 - accuracy: 0.9975\n"
     ]
    },
    {
     "data": {
      "text/plain": [
       "[0.016677115112543106, 0.9975000023841858]"
      ]
     },
     "execution_count": 18,
     "metadata": {},
     "output_type": "execute_result"
    }
   ],
   "source": [
    "model_B_on_A.evaluate(X_test_B, y_test_B)"
   ]
  }
 ],
 "metadata": {
  "kernelspec": {
   "display_name": "ml_with_tf",
   "language": "python",
   "name": "ml_with_tf"
  },
  "language_info": {
   "codemirror_mode": {
    "name": "ipython",
    "version": 3
   },
   "file_extension": ".py",
   "mimetype": "text/x-python",
   "name": "python",
   "nbconvert_exporter": "python",
   "pygments_lexer": "ipython3",
   "version": "3.8.6"
  }
 },
 "nbformat": 4,
 "nbformat_minor": 4
}
