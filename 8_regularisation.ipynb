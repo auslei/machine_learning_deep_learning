{
 "cells": [
  {
   "cell_type": "markdown",
   "metadata": {},
   "source": [
    "## Regularisation \n",
    "\n",
    "This is to reduce overfit. \n",
    "\n",
    "### l1 and l2 regularisation\n",
    "This is the same as linear models. l2 to constrain connecting weights (recall it is sum of the weights squared with a coefficient alpha). Use l1 If you want a sparse model (many connecting weights to be 0), recall that l1 regularisation tends to make the weights of less important features to 0.\n"
   ]
  },
  {
   "cell_type": "code",
   "execution_count": 1,
   "metadata": {},
   "outputs": [
    {
     "name": "stdout",
     "output_type": "stream",
     "text": [
      "(45000, 28, 28) (45000,)\n"
     ]
    }
   ],
   "source": [
    "from tensorflow import keras\n",
    "from sklearn.model_selection import train_test_split\n",
    "\n",
    "fashion_mnist = keras.datasets.fashion_mnist\n",
    "(X_train_full, y_train_full), (X_test, y_test) = fashion_mnist.load_data()\n",
    "\n",
    "X_train, X_valid, y_train,  y_valid = train_test_split(X_train_full, y_train_full, test_size = 0.25)\n",
    "\n",
    "print(X_train.shape, y_train.shape)"
   ]
  },
  {
   "cell_type": "code",
   "execution_count": 2,
   "metadata": {},
   "outputs": [
    {
     "data": {
      "text/plain": [
       "<matplotlib.image.AxesImage at 0x1c1281d3fd0>"
      ]
     },
     "execution_count": 2,
     "metadata": {},
     "output_type": "execute_result"
    },
    {
     "data": {
      "image/png": "[encoded data removed]",
      "text/plain": [
       "<Figure size 432x288 with 4 Axes>"
      ]
     },
     "metadata": {
      "needs_background": "light"
     },
     "output_type": "display_data"
    }
   ],
   "source": [
    "from matplotlib import pyplot as plt\n",
    "\n",
    "fig, ax = plt.subplots(2, 2)\n",
    "ax[0][0].imshow(X_train[0])\n",
    "ax[0][1].imshow(X_train[1])\n",
    "ax[1][0].imshow(X_train[2])\n",
    "ax[1][1].imshow(X_train[3])"
   ]
  },
  {
   "cell_type": "code",
   "execution_count": 3,
   "metadata": {},
   "outputs": [],
   "source": [
    "from tensorflow.keras import activations, layers, initializers, callbacks, models\n",
    "from tensorflow.keras.layers import Flatten, Dense, LeakyReLU, BatchNormalization, ReLU, ELU, Dropout\n",
    "from tensorflow.keras.models import Sequential\n",
    "from tensorflow.keras.callbacks import EarlyStopping, ModelCheckpoint, TensorBoard, LearningRateScheduler\n",
    "from tensorflow.keras.optimizers import SGD, Adagrad, RMSprop, Adam, Nadam, Adamax\n",
    "from tensorflow import keras\n",
    "\n",
    "# regularisers\n",
    "# l1 tends to generate sparse models (mostly zeros), which saves memory and will run very fast at runtime\n",
    "from tensorflow.keras.regularizers import l1, l2, l1_l2\n",
    "\n",
    "es_cb = EarlyStopping(patience=3, monitor='val_loss') # early stopping at min loss\n",
    "md_cb = ModelCheckpoint(\"f_mnist_model_A.h5\", save_best_only=True) # setup a model check point"
   ]
  },
  {
   "cell_type": "markdown",
   "metadata": {},
   "source": [
    "## Refactor layers using partial functions\n",
    "\n",
    "As when we generate a ANN, we typically will use same activation, initialisers and regularisers. It makes sesne for us to reduce code clutter and improve readability by refactor it. "
   ]
  },
  {
   "cell_type": "code",
   "execution_count": 4,
   "metadata": {},
   "outputs": [],
   "source": [
    "from functools import partial\n",
    "\n",
    "NomralDense = partial(Dense, activation = 'selu', \n",
    "                           kernel_initializer = keras.initializers.LecunNormal())\n",
    "\n",
    "RegularisedDense1 = partial(Dense, activation = 'selu', \n",
    "                           kernel_initializer = keras.initializers.LecunNormal(), \n",
    "                           kernel_regularizer = l1(0.01))\n",
    "\n",
    "RegularisedDense2 = partial(Dense, activation = 'selu', \n",
    "                           kernel_initializer = keras.initializers.LecunNormal(), \n",
    "                           kernel_regularizer = l2(0.01))\n"
   ]
  },
  {
   "cell_type": "markdown",
   "metadata": {},
   "source": [
    "## Dropouts\n",
    "\n",
    "*Dropout* is one of the most popular regularisation methods for deep neural networks. typically getting a 1-2% accuracy boost simply by add dropouts (consider if DNN is 95%) 1-2% of that is easily 20-30% imporovement.\n",
    "\n",
    "At every training step, every neual (including the iutput neurons, excluding output neurons) has a probability *p* of being temorarily dropped out. (entirely ignored in the training for **this step**)\n",
    "\n",
    "*p* is called the *drop rate* and typically set between 10% and 50%:\n",
    "- ~20-30% in recurrent neural networks\n",
    "- ~40-50% in convolutional neural networks.\n",
    "\n",
    "After training, neuron is no longer being dropped.\n",
    "\n",
    "As the input neurons can are dropped by *p*, when after training we need to compensate their weights by the *keep probability* (1-*p*)"
   ]
  },
  {
   "cell_type": "code",
   "execution_count": 12,
   "metadata": {},
   "outputs": [
    {
     "name": "stdout",
     "output_type": "stream",
     "text": [
      "313/313 [==============================] - 0s 930us/step - loss: 0.4407 - accuracy: 0.8560\n",
      "[0.4406795799732208, 0.8560000061988831]\n",
      "313/313 [==============================] - 0s 987us/step - loss: 0.4243 - accuracy: 0.8555\n",
      "[0.42434173822402954, 0.8554999828338623]\n",
      "313/313 [==============================] - 0s 1ms/step - loss: 1.5322 - accuracy: 0.7255\n",
      "[1.5321825742721558, 0.7254999876022339]\n",
      "313/313 [==============================] - 0s 1ms/step - loss: 0.6903 - accuracy: 0.8188\n",
      "[0.6902837157249451, 0.8187999725341797]\n"
     ]
    }
   ],
   "source": [
    "model_normal = Sequential([\n",
    "    Flatten(input_shape=[28, 28]),\n",
    "    BatchNormalization(),\n",
    "    NomralDense(300),\n",
    "    NomralDense(300),\n",
    "    NomralDense(300),\n",
    "    NomralDense(300),\n",
    "    Dense(10, activation = \"softmax\")\n",
    "])\n",
    "\n",
    "model_normal_drop_out = Sequential([\n",
    "    Flatten(input_shape=[28, 28]),\n",
    "    BatchNormalization(),\n",
    "    Dropout(rate = 0.2),\n",
    "    NomralDense(300),\n",
    "    Dropout(rate = 0.2),\n",
    "    NomralDense(300),\n",
    "    Dropout(rate = 0.2),\n",
    "    NomralDense(300),\n",
    "    Dropout(rate = 0.2),\n",
    "    NomralDense(300),\n",
    "    Dropout(rate = 0.2),\n",
    "    Dense(10, activation = \"softmax\")\n",
    "])\n",
    "\n",
    "\n",
    "model_l1 = Sequential([\n",
    "    Flatten(input_shape=[28, 28]),\n",
    "    BatchNormalization(),\n",
    "    RegularisedDense1(300),\n",
    "    RegularisedDense1(300),\n",
    "    RegularisedDense1(300),\n",
    "    RegularisedDense1(300),\n",
    "    Dense(10, activation = \"softmax\")\n",
    "])\n",
    "\n",
    "\n",
    "model_l2 = Sequential([\n",
    "    Flatten(input_shape=[28, 28]),\n",
    "    BatchNormalization(),\n",
    "    RegularisedDense2(300),\n",
    "    RegularisedDense2(300),\n",
    "    RegularisedDense2(300),\n",
    "    RegularisedDense2(300),\n",
    "    Dense(10, activation = \"softmax\")\n",
    "])\n",
    "\n",
    "NUM_EPOCHS = 20\n",
    "\n",
    "models = [model_normal, model_normal_drop_out, model_l1, model_l2]\n",
    "hist = []\n",
    "\n",
    "\n",
    "for m in models:\n",
    "    m.compile(optimizer =  \"adam\", loss = \"sparse_categorical_crossentropy\", metrics = \"accuracy\")\n",
    "    history = m.fit(X_train, y_train, epochs=NUM_EPOCHS, validation_data = (X_valid, y_valid), callbacks = [es_cb]\n",
    "                    , verbose = False)\n",
    "    hist.append(history)\n",
    "    print(m.evaluate(X_test, y_test))"
   ]
  },
  {
   "cell_type": "code",
   "execution_count": 13,
   "metadata": {},
   "outputs": [
    {
     "data": {
      "image/png": "[encoded data removed]",
      "text/plain": [
       "<Figure size 1440x720 with 1 Axes>"
      ]
     },
     "metadata": {
      "needs_background": "light"
     },
     "output_type": "display_data"
    }
   ],
   "source": [
    "### Note that for drops the validation loss can be misleading as \n",
    "###the dropout is only active during the training phase\n",
    "\n",
    "from matplotlib import pyplot as plt\n",
    "import pandas as pd\n",
    "import numpy as np\n",
    "from matplotlib import cm\n",
    "fig, ax = plt.subplots()\n",
    "fig.set_size_inches(20, 10)\n",
    "\n",
    "\n",
    "colors = cm.jet(np.linspace(0, 1, 6))\n",
    "x1 = range(len(hist[0].history['val_loss']))\n",
    "x2 = range(len(hist[1].history['val_loss']))\n",
    "x3 = range(len(hist[2].history['val_loss']))\n",
    "x4 = range(len(hist[3].history['val_loss']))\n",
    "\n",
    "ax.plot(x1, hist[0].history['val_loss'], color = colors[0], label = \"model_normal\")\n",
    "ax.plot(x2, hist[1].history['val_loss'], color = colors[1], label = \"model_normal_drop_out\")\n",
    "ax.plot(x3, hist[2].history['val_loss'], color = colors[2], label = \"model_l1\")\n",
    "ax.plot(x4, hist[3].history['val_loss'], color = colors[3], label = \"model_l2\")\n",
    "\n",
    "\n",
    "ax.legend()\n",
    "plt.show()"
   ]
  },
  {
   "cell_type": "code",
   "execution_count": 14,
   "metadata": {},
   "outputs": [
    {
     "name": "stdout",
     "output_type": "stream",
     "text": [
      "Model: \"sequential_5\"\n",
      "_________________________________________________________________\n",
      "Layer (type)                 Output Shape              Param #   \n",
      "=================================================================\n",
      "flatten_5 (Flatten)          (None, 784)               0         \n",
      "_________________________________________________________________\n",
      "batch_normalization_5 (Batch (None, 784)               3136      \n",
      "_________________________________________________________________\n",
      "dropout_5 (Dropout)          (None, 784)               0         \n",
      "_________________________________________________________________\n",
      "dense_25 (Dense)             (None, 300)               235500    \n",
      "_________________________________________________________________\n",
      "dropout_6 (Dropout)          (None, 300)               0         \n",
      "_________________________________________________________________\n",
      "dense_26 (Dense)             (None, 300)               90300     \n",
      "_________________________________________________________________\n",
      "dropout_7 (Dropout)          (None, 300)               0         \n",
      "_________________________________________________________________\n",
      "dense_27 (Dense)             (None, 300)               90300     \n",
      "_________________________________________________________________\n",
      "dropout_8 (Dropout)          (None, 300)               0         \n",
      "_________________________________________________________________\n",
      "dense_28 (Dense)             (None, 300)               90300     \n",
      "_________________________________________________________________\n",
      "dropout_9 (Dropout)          (None, 300)               0         \n",
      "_________________________________________________________________\n",
      "dense_29 (Dense)             (None, 10)                3010      \n",
      "=================================================================\n",
      "Total params: 512,546\n",
      "Trainable params: 510,978\n",
      "Non-trainable params: 1,568\n",
      "_________________________________________________________________\n"
     ]
    }
   ],
   "source": [
    "model_normal_drop_out.summary()"
   ]
  },
  {
   "cell_type": "markdown",
   "metadata": {},
   "source": [
    "## Monte Carlo (MC) Dropout\n",
    "\n",
    "Which can boost performance without re-training or rebuild model. This provides a better measure of model uncertainting. Basically randomly sample tests, and perform training, stack the results together and average the results. "
   ]
  },
  {
   "cell_type": "code",
   "execution_count": 19,
   "metadata": {},
   "outputs": [],
   "source": [
    "model = model_normal_drop_out\n",
    "y_probas = np.stack([model(X_test, training = True)] for sample in range(100)) \n",
    "#training = True is to ensure dropout layer is still active"
   ]
  },
  {
   "cell_type": "code",
   "execution_count": 20,
   "metadata": {},
   "outputs": [],
   "source": [
    "y_proba = y_probas.mean(axis = 0)"
   ]
  },
  {
   "cell_type": "code",
   "execution_count": 21,
   "metadata": {},
   "outputs": [
    {
     "data": {
      "text/plain": [
       "array([[0., 0., 0., 0., 0., 0., 0., 0., 0., 1.]], dtype=float32)"
      ]
     },
     "execution_count": 21,
     "metadata": {},
     "output_type": "execute_result"
    }
   ],
   "source": [
    "np.round(model.predict(X_test[:1], 2))"
   ]
  },
  {
   "cell_type": "code",
   "execution_count": 22,
   "metadata": {},
   "outputs": [
    {
     "data": {
      "text/plain": [
       "array([[[[0.  , 0.  , 0.  , ..., 0.24, 0.  , 0.7 ],\n",
       "         [0.  , 0.  , 0.98, ..., 0.  , 0.  , 0.  ],\n",
       "         [0.  , 1.  , 0.  , ..., 0.  , 0.  , 0.  ],\n",
       "         ...,\n",
       "         [0.01, 0.  , 0.  , ..., 0.  , 0.95, 0.  ],\n",
       "         [0.  , 1.  , 0.  , ..., 0.  , 0.  , 0.  ],\n",
       "         [0.  , 0.  , 0.  , ..., 0.95, 0.  , 0.  ]]],\n",
       "\n",
       "\n",
       "       [[[0.  , 0.  , 0.  , ..., 0.04, 0.  , 0.9 ],\n",
       "         [0.  , 0.  , 0.87, ..., 0.  , 0.  , 0.  ],\n",
       "         [0.  , 1.  , 0.  , ..., 0.  , 0.  , 0.  ],\n",
       "         ...,\n",
       "         [0.  , 0.  , 0.  , ..., 0.  , 1.  , 0.  ],\n",
       "         [0.  , 1.  , 0.  , ..., 0.  , 0.  , 0.  ],\n",
       "         [0.  , 0.  , 0.  , ..., 0.88, 0.  , 0.  ]]],\n",
       "\n",
       "\n",
       "       [[[0.  , 0.  , 0.  , ..., 0.01, 0.  , 0.99],\n",
       "         [0.07, 0.  , 0.75, ..., 0.  , 0.  , 0.  ],\n",
       "         [0.  , 1.  , 0.  , ..., 0.  , 0.  , 0.  ],\n",
       "         ...,\n",
       "         [0.08, 0.  , 0.02, ..., 0.  , 0.74, 0.  ],\n",
       "         [0.  , 1.  , 0.  , ..., 0.  , 0.  , 0.  ],\n",
       "         [0.  , 0.  , 0.  , ..., 0.68, 0.  , 0.  ]]],\n",
       "\n",
       "\n",
       "       ...,\n",
       "\n",
       "\n",
       "       [[[0.  , 0.  , 0.  , ..., 0.09, 0.  , 0.89],\n",
       "         [0.  , 0.  , 0.99, ..., 0.  , 0.  , 0.  ],\n",
       "         [0.  , 1.  , 0.  , ..., 0.  , 0.  , 0.  ],\n",
       "         ...,\n",
       "         [0.  , 0.  , 0.  , ..., 0.  , 1.  , 0.  ],\n",
       "         [0.  , 1.  , 0.  , ..., 0.  , 0.  , 0.  ],\n",
       "         [0.  , 0.  , 0.  , ..., 0.01, 0.  , 0.  ]]],\n",
       "\n",
       "\n",
       "       [[[0.  , 0.  , 0.  , ..., 0.  , 0.  , 1.  ],\n",
       "         [0.01, 0.  , 0.92, ..., 0.  , 0.  , 0.  ],\n",
       "         [0.  , 1.  , 0.  , ..., 0.  , 0.  , 0.  ],\n",
       "         ...,\n",
       "         [0.03, 0.  , 0.  , ..., 0.  , 0.96, 0.  ],\n",
       "         [0.  , 1.  , 0.  , ..., 0.  , 0.  , 0.  ],\n",
       "         [0.  , 0.  , 0.  , ..., 0.58, 0.  , 0.  ]]],\n",
       "\n",
       "\n",
       "       [[[0.  , 0.  , 0.  , ..., 0.68, 0.  , 0.32],\n",
       "         [0.  , 0.  , 0.96, ..., 0.  , 0.  , 0.  ],\n",
       "         [0.  , 1.  , 0.  , ..., 0.  , 0.  , 0.  ],\n",
       "         ...,\n",
       "         [0.  , 0.  , 0.  , ..., 0.  , 1.  , 0.  ],\n",
       "         [0.  , 1.  , 0.  , ..., 0.  , 0.  , 0.  ],\n",
       "         [0.  , 0.  , 0.  , ..., 0.74, 0.  , 0.  ]]]], dtype=float32)"
      ]
     },
     "execution_count": 22,
     "metadata": {},
     "output_type": "execute_result"
    }
   ],
   "source": [
    "np.round(y_probas[:, :1], 2)"
   ]
  },
  {
   "cell_type": "code",
   "execution_count": 23,
   "metadata": {},
   "outputs": [
    {
     "data": {
      "text/plain": [
       "array([[[0.  , 0.  , 0.  , ..., 0.25, 0.  , 0.74],\n",
       "        [0.01, 0.  , 0.94, ..., 0.  , 0.  , 0.  ],\n",
       "        [0.  , 1.  , 0.  , ..., 0.  , 0.  , 0.  ],\n",
       "        ...,\n",
       "        [0.01, 0.  , 0.  , ..., 0.  , 0.97, 0.  ],\n",
       "        [0.  , 1.  , 0.  , ..., 0.  , 0.  , 0.  ],\n",
       "        [0.  , 0.  , 0.  , ..., 0.4 , 0.  , 0.  ]]], dtype=float32)"
      ]
     },
     "execution_count": 23,
     "metadata": {},
     "output_type": "execute_result"
    }
   ],
   "source": [
    "np.round(y_proba[:1], 2)"
   ]
  },
  {
   "cell_type": "markdown",
   "metadata": {},
   "source": [
    "The above example shows that when predict with drop out the model seemed to be quite certain with the result being the last class.\n",
    "\n",
    "However, when using MC estimate, it is no longer very certain, while still have quite a bit certainty on the last class. In situations that accuracy is quite important (medical for example). You should treat such uncertainty with extreme caution.\n",
    "\n",
    "The number of samples to use (in this case 100) is a hyperparameter that can be tweaked. The higher the number the more accuracy the predictions and its respective uncertainty will be. Above certain samples, the benefit will be diminished, it is the best to work out the optimal samples."
   ]
  },
  {
   "cell_type": "markdown",
   "metadata": {},
   "source": [
    "## Max-Norm Regularisation\n",
    "\n",
    "\n",
    "Another regularisation technical is *max-norm regularisation* for each neuron, it constraints weights **w** such that ||w||2 <= r, where r is the max norm hyper parameter.\n",
    "\n",
    "To use max normm set kernel_contraint = keras.constraints.max_norm(1.)\n",
    "\n",
    "It does not add a regularisation loss term, instead it typically is implemented by computing ||w||2 after each training step and rescale w if required. Reducing r will increase regularisation and help reduce overfitting, this can also help with unstable gradient problem as well. "
   ]
  },
  {
   "cell_type": "markdown",
   "metadata": {},
   "source": [
    "### Version Control"
   ]
  },
  {
   "cell_type": "code",
   "execution_count": 24,
   "metadata": {},
   "outputs": [
    {
     "name": "stderr",
     "output_type": "stream",
     "text": [
      "warning: LF will be replaced by CRLF in tensorflow/8_regularisation.ipynb.\n",
      "The file will have its original line endings in your working directory\n"
     ]
    },
    {
     "name": "stdout",
     "output_type": "stream",
     "text": [
      "[master 6ed5243] added regularisation\n",
      " 1 file changed, 457 insertions(+), 418 deletions(-)\n",
      " rewrite tensorflow/8_regularisation.ipynb (83%)\n"
     ]
    },
    {
     "name": "stderr",
     "output_type": "stream",
     "text": [
      "To https://github.com/auslei/python.git\n",
      "   7ffab99..6ed5243  master -> master\n"
     ]
    }
   ],
   "source": [
    "!git add 8_regularisation.ipynb\n",
    "!git commit -m \"added regularisation\"\n",
    "!git push"
   ]
  },
  {
   "cell_type": "code",
   "execution_count": null,
   "metadata": {},
   "outputs": [],
   "source": []
  },
  {
   "cell_type": "code",
   "execution_count": null,
   "metadata": {},
   "outputs": [],
   "source": []
  }
 ],
 "metadata": {
  "kernelspec": {
   "display_name": "ml_with_tf",
   "language": "python",
   "name": "ml_with_tf"
  },
  "language_info": {
   "codemirror_mode": {
    "name": "ipython",
    "version": 3
   },
   "file_extension": ".py",
   "mimetype": "text/x-python",
   "name": "python",
   "nbconvert_exporter": "python",
   "pygments_lexer": "ipython3",
   "version": "3.8.6"
  }
 },
 "nbformat": 4,
 "nbformat_minor": 4
}
